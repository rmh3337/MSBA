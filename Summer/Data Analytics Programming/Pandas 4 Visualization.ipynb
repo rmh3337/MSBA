{
 "cells": [
  {
   "cell_type": "markdown",
   "metadata": {
    "slideshow": {
     "slide_type": "slide"
    }
   },
   "source": [
    "# Pandas 4 (Visualization)"
   ]
  },
  {
   "cell_type": "markdown",
   "metadata": {
    "slideshow": {
     "slide_type": "slide"
    }
   },
   "source": [
    "We have already seen some plotting methods in Pandas. In particular, we built bar plots using\n",
    "\n",
    "> Series.plot(kind='bar')\n",
    "\n",
    "In this lecture, we will consider more plotting options. Python's matplotlib module offers a broad range of plotting options, but we will focus on the pandas methods. Specifically, we will look at:\n",
    "\n",
    "* Scatter plots,\n",
    "* Line plots,\n",
    "* Histograms, and\n",
    "* Bar plots.\n",
    "\n",
    "A lot of this is inspired by the visualization tutorial [here](https://github.com/ResearchComputing/Meetup-Fall-2013)."
   ]
  },
  {
   "cell_type": "code",
   "execution_count": 1,
   "metadata": {
    "slideshow": {
     "slide_type": "fragment"
    }
   },
   "outputs": [
    {
     "name": "stdout",
     "output_type": "stream",
     "text": [
      "Populating the interactive namespace from numpy and matplotlib\n"
     ]
    }
   ],
   "source": [
    "from pandas import Series, DataFrame\n",
    "import pandas as pd\n",
    "%pylab inline"
   ]
  },
  {
   "cell_type": "markdown",
   "metadata": {
    "slideshow": {
     "slide_type": "slide"
    }
   },
   "source": [
    "## Scatter plots\n",
    "\n",
    "This is the easiest, and often the first plot we draw. The goal is to just see how two types of items are related. Let's see an example."
   ]
  },
  {
   "cell_type": "code",
   "execution_count": 2,
   "metadata": {
    "slideshow": {
     "slide_type": "fragment"
    }
   },
   "outputs": [
    {
     "data": {
      "text/html": [
       "<div>\n",
       "<style scoped>\n",
       "    .dataframe tbody tr th:only-of-type {\n",
       "        vertical-align: middle;\n",
       "    }\n",
       "\n",
       "    .dataframe tbody tr th {\n",
       "        vertical-align: top;\n",
       "    }\n",
       "\n",
       "    .dataframe thead th {\n",
       "        text-align: right;\n",
       "    }\n",
       "</style>\n",
       "<table border=\"1\" class=\"dataframe\">\n",
       "  <thead>\n",
       "    <tr style=\"text-align: right;\">\n",
       "      <th></th>\n",
       "      <th>type</th>\n",
       "      <th>mpg</th>\n",
       "      <th>cyl</th>\n",
       "      <th>disp</th>\n",
       "      <th>hp</th>\n",
       "      <th>wt</th>\n",
       "      <th>speed</th>\n",
       "      <th>wt.1</th>\n",
       "    </tr>\n",
       "  </thead>\n",
       "  <tbody>\n",
       "    <tr>\n",
       "      <th>0</th>\n",
       "      <td>AMC Ambassador Brougham</td>\n",
       "      <td>13.0</td>\n",
       "      <td>8</td>\n",
       "      <td>360.0</td>\n",
       "      <td>175.0</td>\n",
       "      <td>3821</td>\n",
       "      <td>11.0</td>\n",
       "      <td>73</td>\n",
       "    </tr>\n",
       "    <tr>\n",
       "      <th>1</th>\n",
       "      <td>AMC Ambassador DPL</td>\n",
       "      <td>15.0</td>\n",
       "      <td>8</td>\n",
       "      <td>390.0</td>\n",
       "      <td>190.0</td>\n",
       "      <td>3850</td>\n",
       "      <td>8.5</td>\n",
       "      <td>70</td>\n",
       "    </tr>\n",
       "    <tr>\n",
       "      <th>2</th>\n",
       "      <td>AMC Ambassador SST</td>\n",
       "      <td>17.0</td>\n",
       "      <td>8</td>\n",
       "      <td>304.0</td>\n",
       "      <td>150.0</td>\n",
       "      <td>3672</td>\n",
       "      <td>11.5</td>\n",
       "      <td>72</td>\n",
       "    </tr>\n",
       "    <tr>\n",
       "      <th>3</th>\n",
       "      <td>AMC Concord DL 6</td>\n",
       "      <td>20.2</td>\n",
       "      <td>6</td>\n",
       "      <td>232.0</td>\n",
       "      <td>90.0</td>\n",
       "      <td>3265</td>\n",
       "      <td>18.2</td>\n",
       "      <td>79</td>\n",
       "    </tr>\n",
       "    <tr>\n",
       "      <th>4</th>\n",
       "      <td>AMC Concord DL</td>\n",
       "      <td>18.1</td>\n",
       "      <td>6</td>\n",
       "      <td>258.0</td>\n",
       "      <td>120.0</td>\n",
       "      <td>3410</td>\n",
       "      <td>15.1</td>\n",
       "      <td>78</td>\n",
       "    </tr>\n",
       "  </tbody>\n",
       "</table>\n",
       "</div>"
      ],
      "text/plain": [
       "                      type   mpg  cyl   disp     hp    wt  speed  wt.1\n",
       "0  AMC Ambassador Brougham  13.0    8  360.0  175.0  3821   11.0    73\n",
       "1       AMC Ambassador DPL  15.0    8  390.0  190.0  3850    8.5    70\n",
       "2       AMC Ambassador SST  17.0    8  304.0  150.0  3672   11.5    72\n",
       "3         AMC Concord DL 6  20.2    6  232.0   90.0  3265   18.2    79\n",
       "4           AMC Concord DL  18.1    6  258.0  120.0  3410   15.1    78"
      ]
     },
     "execution_count": 2,
     "metadata": {},
     "output_type": "execute_result"
    }
   ],
   "source": [
    "cars = pd.read_csv('Pandas_4_data/cars.csv').dropna()\n",
    "cars[:5]"
   ]
  },
  {
   "cell_type": "markdown",
   "metadata": {
    "slideshow": {
     "slide_type": "slide"
    }
   },
   "source": [
    "### Is MPG related to weight?"
   ]
  },
  {
   "cell_type": "code",
   "execution_count": 3,
   "metadata": {
    "slideshow": {
     "slide_type": "fragment"
    }
   },
   "outputs": [
    {
     "data": {
      "image/png": "[encoded data removed]",
      "text/plain": [
       "<Figure size 432x288 with 1 Axes>"
      ]
     },
     "metadata": {
      "needs_background": "light"
     },
     "output_type": "display_data"
    }
   ],
   "source": [
    "plot(cars['wt'], cars['mpg'], marker='o', color='blue', linestyle='None')\n",
    "xlabel('Weight')\n",
    "ylabel('Miles per Gallon')\n",
    "title('Weight versus Efficiency')\n",
    "show()"
   ]
  },
  {
   "cell_type": "markdown",
   "metadata": {
    "slideshow": {
     "slide_type": "fragment"
    }
   },
   "source": [
    "Each point in the plot represents one particular car type. Clearly, increasing weight hurts MPG."
   ]
  },
  {
   "cell_type": "markdown",
   "metadata": {
    "slideshow": {
     "slide_type": "slide"
    }
   },
   "source": [
    "Let's look a little more closely at the plot() function\n",
    "\n",
    "    plot(cars['wt'], cars['mpg'], marker='o', color='blue', linestyle='None')\n",
    "\n",
    "The first two arguments specify the x-axis and the y-axis, but what are the rest?"
   ]
  },
  {
   "cell_type": "markdown",
   "metadata": {
    "slideshow": {
     "slide_type": "fragment"
    }
   },
   "source": [
    "* marker='o' means we want each car to be plotted as a circle. We could alternately have chosen\n",
    "    * marker='s' for square marks\n",
    "    * marker='p' for pentagons\n",
    "    * marker='.' for points\n",
    "    * marker='^' for upward-pointing triangle, and on and on."
   ]
  },
  {
   "cell_type": "markdown",
   "metadata": {
    "slideshow": {
     "slide_type": "fragment"
    }
   },
   "source": [
    "* color='blue' is pretty straightforward."
   ]
  },
  {
   "cell_type": "markdown",
   "metadata": {
    "slideshow": {
     "slide_type": "fragment"
    }
   },
   "source": [
    "* linestyle='None' says we do not want consecutive cars to be connected by lines. In our case, the ordering of the cars doesn't matter; otherwise we could have chosen:\n",
    "    * linestyle='-' for plain line\n",
    "    * linestyle='--' for dashed line\n",
    "    * linestyle='-.' for dotted-dashed line, and many others."
   ]
  },
  {
   "cell_type": "markdown",
   "metadata": {
    "slideshow": {
     "slide_type": "slide"
    }
   },
   "source": [
    "### How are mpg, weight, and number of cylinders related?\n",
    "\n",
    "Let us first group cars into 4-, 6-, and 8-cylinder ones."
   ]
  },
  {
   "cell_type": "code",
   "execution_count": 4,
   "metadata": {
    "slideshow": {
     "slide_type": "fragment"
    }
   },
   "outputs": [],
   "source": [
    "c4 = cars[cars['cyl'] == 4]\n",
    "c6 = cars[cars['cyl'] == 6]\n",
    "c8 = cars[cars['cyl'] == 8]"
   ]
  },
  {
   "cell_type": "markdown",
   "metadata": {
    "slideshow": {
     "slide_type": "fragment"
    }
   },
   "source": [
    "One option would be to plot each individually, but we can also plot all of them together."
   ]
  },
  {
   "cell_type": "code",
   "execution_count": 5,
   "metadata": {
    "slideshow": {
     "slide_type": "slide"
    }
   },
   "outputs": [
    {
     "data": {
      "image/png": "[encoded data removed]",
      "text/plain": [
       "<Figure size 432x288 with 1 Axes>"
      ]
     },
     "metadata": {
      "needs_background": "light"
     },
     "output_type": "display_data"
    }
   ],
   "source": [
    "plot(c4['wt'], c4['mpg'], marker='o', linestyle='None', label='4 cylinder')\n",
    "plot(c6['wt'], c6['mpg'], marker='o', linestyle='None', label='6 cylinder')\n",
    "plot(c8['wt'], c8['mpg'], marker='o', linestyle='None', label='8 cylinder')\n",
    "xlabel('Weight')\n",
    "ylabel('Miles per Gallon')\n",
    "legend(numpoints=1, loc='best')\n",
    "show()"
   ]
  },
  {
   "cell_type": "markdown",
   "metadata": {
    "slideshow": {
     "slide_type": "fragment"
    }
   },
   "source": [
    "* So cars with more cylinders have higher weights and are less efficient (/shrug).\n",
    "* Notice that we did not need to specify different colors in the calls to plot().\n",
    "    * Python automatically cycles through a set of colors."
   ]
  },
  {
   "cell_type": "markdown",
   "metadata": {
    "slideshow": {
     "slide_type": "slide"
    }
   },
   "source": [
    "Suppose we really wanted to plot these three types of cars on three separate plots. How do we do it?"
   ]
  },
  {
   "cell_type": "code",
   "execution_count": 6,
   "metadata": {
    "slideshow": {
     "slide_type": "slide"
    }
   },
   "outputs": [
    {
     "data": {
      "image/png": "[encoded data removed]",
      "text/plain": [
       "<Figure size 576x864 with 3 Axes>"
      ]
     },
     "metadata": {
      "needs_background": "light"
     },
     "output_type": "display_data"
    }
   ],
   "source": [
    "# First, create a blank figure and \"axis\" objects\n",
    "fig, (ax1, ax2, ax3) = subplots(nrows=3,\n",
    "                                ncols=1,\n",
    "                                sharex=True,\n",
    "                                sharey=True,\n",
    "                                figsize=(8, 12))\n",
    "\n",
    "# Each \"axis\" object corresponds to one subplot\n",
    "# Fill in the subplots.\n",
    "ax1.plot(c4['wt'], c4['mpg'], marker='o', color='blue', linestyle='None')\n",
    "ax1.set_title('4 cylinder')\n",
    "ax1.set_ylabel('MPG')\n",
    "\n",
    "ax2.plot(c6['wt'], c6['mpg'], marker='o', color='green', linestyle='None')\n",
    "ax2.set_title('6 cylinder')\n",
    "ax2.set_ylabel('MPG')\n",
    "\n",
    "ax3.plot(c8['wt'], c8['mpg'], marker='o', color='red', linestyle='None')\n",
    "ax3.set_title('8 cylinder')\n",
    "ax3.set_ylabel('MPG')\n",
    "ax3.set_xlabel('Weight')\n",
    "\n",
    "show()"
   ]
  },
  {
   "cell_type": "markdown",
   "metadata": {
    "slideshow": {
     "slide_type": "slide"
    }
   },
   "source": [
    "Let us understand this in more details.\n",
    "\n",
    "    fig, (ax1, ax2, ax3) = subplots(nrows=3,\n",
    "                                    ncols=1,\n",
    "                                    sharex=True,\n",
    "                                    sharey=True,\n",
    "                                    figsize=(8, 12))"
   ]
  },
  {
   "cell_type": "markdown",
   "metadata": {
    "slideshow": {
     "slide_type": "fragment"
    }
   },
   "source": [
    "* This creates an empty figure object called fig."
   ]
  },
  {
   "cell_type": "markdown",
   "metadata": {
    "slideshow": {
     "slide_type": "fragment"
    }
   },
   "source": [
    "* Setting nrows=3 and ncols=1 means\n",
    "    * this figure object will contain 3 subplots (assigned to ax1, ax2, and ax3)\n",
    "    * laid out in 3 rows and 1 column (i.e., stacked on top of each other)."
   ]
  },
  {
   "cell_type": "markdown",
   "metadata": {
    "slideshow": {
     "slide_type": "fragment"
    }
   },
   "source": [
    "* sharex=True and sharey=True means\n",
    "    * all three subplots will have the same range of x-values and y-values\n",
    "    * so they will be aligned."
   ]
  },
  {
   "cell_type": "markdown",
   "metadata": {
    "slideshow": {
     "slide_type": "fragment"
    }
   },
   "source": [
    "* figsize=(8, 12) says that the figure size will be 8 inches wide and 12 inches tall\n",
    "    * This is something you must play with to see what works best."
   ]
  },
  {
   "cell_type": "markdown",
   "metadata": {
    "slideshow": {
     "slide_type": "slide"
    }
   },
   "source": [
    "Now we have an empty figure with space for three subplots. The subplot objects are ax1, ax2, and ax3, and we will \"fill in\" these subplots by calling plot() on these subplot objects.\n",
    "\n",
    "    ax1.plot(c4['wt'], c4['mpg'], marker='o', color='blue', linestyle='None')\n",
    "    ax1.set_title('4 cylinder')\n",
    "    ax1.set_ylabel('MPG')"
   ]
  },
  {
   "cell_type": "markdown",
   "metadata": {
    "slideshow": {
     "slide_type": "fragment"
    }
   },
   "source": [
    "1. First line is easy: we do our plot.\n",
    "2. set_title and set_ylabel are obvious."
   ]
  },
  {
   "cell_type": "markdown",
   "metadata": {
    "slideshow": {
     "slide_type": "fragment"
    }
   },
   "source": [
    "And finally:\n",
    "\n",
    "    Call the show() method"
   ]
  },
  {
   "cell_type": "markdown",
   "metadata": {
    "slideshow": {
     "slide_type": "slide"
    }
   },
   "source": [
    "## Line plots\n",
    "\n",
    "Another common situation is plotting data over time. If each row in a DataFrame represents time, then there is a natural _ordering_ of rows. In contrast, in scatter plots, there is no ordering between the DataFrame rows."
   ]
  },
  {
   "cell_type": "code",
   "execution_count": 7,
   "metadata": {
    "slideshow": {
     "slide_type": "fragment"
    }
   },
   "outputs": [
    {
     "data": {
      "text/html": [
       "<div>\n",
       "<style scoped>\n",
       "    .dataframe tbody tr th:only-of-type {\n",
       "        vertical-align: middle;\n",
       "    }\n",
       "\n",
       "    .dataframe tbody tr th {\n",
       "        vertical-align: top;\n",
       "    }\n",
       "\n",
       "    .dataframe thead th {\n",
       "        text-align: right;\n",
       "    }\n",
       "</style>\n",
       "<table border=\"1\" class=\"dataframe\">\n",
       "  <thead>\n",
       "    <tr style=\"text-align: right;\">\n",
       "      <th></th>\n",
       "      <th>year</th>\n",
       "      <th>F</th>\n",
       "      <th>M</th>\n",
       "    </tr>\n",
       "  </thead>\n",
       "  <tbody>\n",
       "    <tr>\n",
       "      <th>0</th>\n",
       "      <td>1880</td>\n",
       "      <td>90994.0</td>\n",
       "      <td>110492.0</td>\n",
       "    </tr>\n",
       "    <tr>\n",
       "      <th>1</th>\n",
       "      <td>1881</td>\n",
       "      <td>91955.0</td>\n",
       "      <td>100747.0</td>\n",
       "    </tr>\n",
       "    <tr>\n",
       "      <th>2</th>\n",
       "      <td>1882</td>\n",
       "      <td>107851.0</td>\n",
       "      <td>113687.0</td>\n",
       "    </tr>\n",
       "    <tr>\n",
       "      <th>3</th>\n",
       "      <td>1883</td>\n",
       "      <td>112322.0</td>\n",
       "      <td>104631.0</td>\n",
       "    </tr>\n",
       "    <tr>\n",
       "      <th>4</th>\n",
       "      <td>1884</td>\n",
       "      <td>129022.0</td>\n",
       "      <td>114445.0</td>\n",
       "    </tr>\n",
       "  </tbody>\n",
       "</table>\n",
       "</div>"
      ],
      "text/plain": [
       "   year         F         M\n",
       "0  1880   90994.0  110492.0\n",
       "1  1881   91955.0  100747.0\n",
       "2  1882  107851.0  113687.0\n",
       "3  1883  112322.0  104631.0\n",
       "4  1884  129022.0  114445.0"
      ]
     },
     "execution_count": 7,
     "metadata": {},
     "output_type": "execute_result"
    }
   ],
   "source": [
    "# This dataset contains the number of births of boys and girls\n",
    "# from 1880-2008\n",
    "births = pd.read_csv('Pandas_4_data/births.csv')\n",
    "births[:5]"
   ]
  },
  {
   "cell_type": "markdown",
   "metadata": {
    "slideshow": {
     "slide_type": "slide"
    }
   },
   "source": [
    "### How do the number of births vary over time?"
   ]
  },
  {
   "cell_type": "code",
   "execution_count": 8,
   "metadata": {
    "slideshow": {
     "slide_type": "fragment"
    }
   },
   "outputs": [
    {
     "data": {
      "image/png": "[encoded data removed]",
      "text/plain": [
       "<Figure size 432x288 with 1 Axes>"
      ]
     },
     "metadata": {
      "needs_background": "light"
     },
     "output_type": "display_data"
    }
   ],
   "source": [
    "plot(births['year'], births['M'], marker='None', linestyle='-', label='boys')\n",
    "plot(births['year'], births['F'], marker='None', linestyle='-', label='girls')\n",
    "xlabel('Year')\n",
    "ylabel('Number of births')\n",
    "legend(loc='best')\n",
    "show()"
   ]
  },
  {
   "cell_type": "markdown",
   "metadata": {
    "slideshow": {
     "slide_type": "fragment"
    }
   },
   "source": [
    "Big jumps around 1920 (after WW I) and 1960 (baby boomers?)"
   ]
  },
  {
   "cell_type": "markdown",
   "metadata": {
    "slideshow": {
     "slide_type": "slide"
    }
   },
   "source": [
    "Another line-plot sitation shows up when we do _regression_. Regression is the idea of fitting a line (or a curve) to a scatter-plot of data. We will see regression in more detail later in the course; for now, let's just use it.\n",
    "\n",
    "### Fit a line to the cars data."
   ]
  },
  {
   "cell_type": "code",
   "execution_count": 9,
   "metadata": {
    "slideshow": {
     "slide_type": "fragment"
    }
   },
   "outputs": [
    {
     "name": "stdout",
     "output_type": "stream",
     "text": [
      "mpg = 46.2165 + -0.0076 * wt\n"
     ]
    }
   ],
   "source": [
    "# Regress the mpg values against the weight values\n",
    "# We will see this in much more detail in a later lecture\n",
    "import statsmodels.api as sm\n",
    "from patsy import dmatrices\n",
    "y, X = dmatrices('mpg ~ wt', cars, return_type='dataframe')\n",
    "result = sm.OLS(y, X).fit()\n",
    "\n",
    "slope = result.params['wt']\n",
    "intercept = result.params['Intercept']\n",
    "print 'mpg = {:.4f} + {:.4f} * wt'.format(intercept, slope)"
   ]
  },
  {
   "cell_type": "markdown",
   "metadata": {
    "slideshow": {
     "slide_type": "fragment"
    }
   },
   "source": [
    "We will discuss what slope and intercept mean in a later lecture. For now, just think of it as a prediction:\n",
    "\n",
    "> If car weight is x, the regression predicts mpg = x * slope + intercept\n",
    "\n",
    "So let's create a Series of regression predictions."
   ]
  },
  {
   "cell_type": "code",
   "execution_count": 10,
   "metadata": {
    "slideshow": {
     "slide_type": "slide"
    }
   },
   "outputs": [
    {
     "data": {
      "text/plain": [
       "wt\n",
       "3821    16.996029\n",
       "3850    16.774256\n",
       "3672    18.135483\n",
       "3265    21.247951\n",
       "3410    20.139087\n",
       "dtype: float64"
      ]
     },
     "execution_count": 10,
     "metadata": {},
     "output_type": "execute_result"
    }
   ],
   "source": [
    "predicted = cars['wt'] * slope + intercept\n",
    "regression_predictions = Series(predicted.values,\n",
    "                                index=cars['wt'])\n",
    "regression_predictions[:5]"
   ]
  },
  {
   "cell_type": "markdown",
   "metadata": {
    "slideshow": {
     "slide_type": "fragment"
    }
   },
   "source": [
    "Now, we can plot the predictions on the same plot as the actual cars."
   ]
  },
  {
   "cell_type": "code",
   "execution_count": 11,
   "metadata": {
    "slideshow": {
     "slide_type": "slide"
    }
   },
   "outputs": [
    {
     "data": {
      "image/png": "[encoded data removed]",
      "text/plain": [
       "<Figure size 432x288 with 1 Axes>"
      ]
     },
     "metadata": {
      "needs_background": "light"
     },
     "output_type": "display_data"
    }
   ],
   "source": [
    "# Repeating the earlier plot commands\n",
    "plot(c4['wt'], c4['mpg'], marker='o', linestyle='None', label='4 cylinder')\n",
    "plot(c6['wt'], c6['mpg'], marker='o', linestyle='None', label='6 cylinder')\n",
    "plot(c8['wt'], c8['mpg'], marker='o', linestyle='None', label='8 cylinder')\n",
    "\n",
    "# New plot command for the regression predictions\n",
    "regression_predictions.plot(label='Regression', linewidth=2)\n",
    "\n",
    "xlabel('Weight')\n",
    "ylabel('Miles per Gallon')\n",
    "legend(numpoints=1, loc='best')\n",
    "show()"
   ]
  },
  {
   "cell_type": "markdown",
   "metadata": {
    "slideshow": {
     "slide_type": "slide"
    }
   },
   "source": [
    "This example also demonstrates another way of plotting in pandas. Instead of saying:\n",
    "\n",
    "> plot(x, y)\n",
    "\n",
    "we can say:\n",
    "\n",
    "> Series.plot()\n",
    "\n",
    "which is the same as:\n",
    "\n",
    "> plot(Series.index.values, Series.values)"
   ]
  },
  {
   "cell_type": "markdown",
   "metadata": {
    "slideshow": {
     "slide_type": "slide"
    }
   },
   "source": [
    "## Histograms"
   ]
  },
  {
   "cell_type": "code",
   "execution_count": 12,
   "metadata": {
    "slideshow": {
     "slide_type": "fragment"
    }
   },
   "outputs": [
    {
     "data": {
      "text/plain": [
       "Text(0,0.5,'Frequency')"
      ]
     },
     "execution_count": 12,
     "metadata": {},
     "output_type": "execute_result"
    },
    {
     "data": {
      "image/png": "[encoded data removed]",
      "text/plain": [
       "<Figure size 432x288 with 1 Axes>"
      ]
     },
     "metadata": {
      "needs_background": "light"
     },
     "output_type": "display_data"
    }
   ],
   "source": [
    "cars['mpg'].hist()\n",
    "xlabel('Miles per gallon')\n",
    "ylabel('Frequency')"
   ]
  },
  {
   "cell_type": "markdown",
   "metadata": {
    "slideshow": {
     "slide_type": "slide"
    }
   },
   "source": [
    "> cars['mpg'].hist()\n",
    "\n",
    "Let's go step-by-step through the histogram formation."
   ]
  },
  {
   "cell_type": "markdown",
   "metadata": {
    "slideshow": {
     "slide_type": "fragment"
    }
   },
   "source": [
    "**Step 1: Form the bins**\n",
    "\n",
    "* We take the cars['mpg'] Series, and then\n",
    "* bin the MPGs into bins (by default, 10 bins) of equal-size."
   ]
  },
  {
   "cell_type": "markdown",
   "metadata": {
    "slideshow": {
     "slide_type": "fragment"
    }
   },
   "source": [
    "**Step 2: Assign cars to bins**\n",
    "\n",
    "Once we have the bins, we go down the list of MPGs in the cars['mpg'], and\n",
    "\n",
    "* for each MPG, find the bin it falls into,\n",
    "* and increase the count of that bin by 1.\n",
    "\n",
    "Thus, the total count over all the bins is just the number of cars."
   ]
  },
  {
   "cell_type": "markdown",
   "metadata": {
    "slideshow": {
     "slide_type": "fragment"
    }
   },
   "source": [
    "**Step 3: Plot the bins**\n",
    "\n",
    "Finally, it plots the bins on the x-axis, and the count in each bin on the y-axis."
   ]
  },
  {
   "cell_type": "markdown",
   "metadata": {
    "slideshow": {
     "slide_type": "skip"
    }
   },
   "source": [
    "In fact, the histogram method is more general than this, since it allows us to differentiate between cars.\n",
    "\n",
    "For instance, we could consider newer car models to be more important, or cars with 4-cylinder engines to be more important."
   ]
  },
  {
   "cell_type": "markdown",
   "metadata": {
    "slideshow": {
     "slide_type": "skip"
    }
   },
   "source": [
    "*   _What the user does:_\n",
    "    * Assign to each car an _importance_ score"
   ]
  },
  {
   "cell_type": "markdown",
   "metadata": {
    "slideshow": {
     "slide_type": "skip"
    }
   },
   "source": [
    "*   _What Pandas does:_\n",
    "    * When assigning cars to histogram bins, Pandas replaces\n",
    "\n",
    "    > increase the count of the bin by 1\n",
    "\n",
    "    with\n",
    "\n",
    "    > increase the _importance_ of the bin by _this car's importance_."
   ]
  },
  {
   "cell_type": "markdown",
   "metadata": {
    "slideshow": {
     "slide_type": "skip"
    }
   },
   "source": [
    "### Plot a _normalized_ histogram.\n",
    "\n",
    "In a normalized histogram, the y-axis is no longer the _number_ of cars in each bin, but rather the _fraction_ of cars.\n",
    "\n",
    "How can we do this?"
   ]
  },
  {
   "cell_type": "markdown",
   "metadata": {
    "slideshow": {
     "slide_type": "skip"
    }
   },
   "source": [
    "Set each car's importance to be \n",
    "\n",
    "> importance = 1.0 / number of cars"
   ]
  },
  {
   "cell_type": "markdown",
   "metadata": {
    "slideshow": {
     "slide_type": "skip"
    }
   },
   "source": [
    "So, if a 20 cars fall in one bin, and there are 100 cars, the total importance in that bin will be 20 / 100, which is exactly the fraction of cars in that bin."
   ]
  },
  {
   "cell_type": "code",
   "execution_count": 13,
   "metadata": {
    "slideshow": {
     "slide_type": "skip"
    }
   },
   "outputs": [
    {
     "data": {
      "text/plain": [
       "Text(0,0.5,'Fraction of cars')"
      ]
     },
     "execution_count": 13,
     "metadata": {},
     "output_type": "execute_result"
    },
    {
     "data": {
      "image/png": "[encoded data removed]",
      "text/plain": [
       "<Figure size 432x288 with 1 Axes>"
      ]
     },
     "metadata": {
      "needs_background": "light"
     },
     "output_type": "display_data"
    }
   ],
   "source": [
    "# Calculate importances\n",
    "number_of_cars = len(cars['mpg'])\n",
    "importance_of_each_car = 1.0 / number_of_cars\n",
    "importance_list = [importance_of_each_car] * number_of_cars\n",
    "\n",
    "# Plot using these importances, using the \"weights\" argument of hist()\n",
    "cars['mpg'].hist(bins=20, weights=importance_list)\n",
    "xlabel('MPG')\n",
    "ylabel('Fraction of cars')"
   ]
  },
  {
   "cell_type": "markdown",
   "metadata": {
    "slideshow": {
     "slide_type": "slide"
    }
   },
   "source": [
    "### Compare histograms of mpg and speed\n",
    "\n",
    "Is the MPG histogram \"peaked\" differently than the speed histogram? We can try to plot both histograms side-by-side and see if there are differences.\n",
    "\n",
    "How will we do this?\n",
    "\n",
    "* how many subplots?\n",
    "* share the x-axis or the y-axis?"
   ]
  },
  {
   "cell_type": "code",
   "execution_count": 14,
   "metadata": {
    "slideshow": {
     "slide_type": "slide"
    }
   },
   "outputs": [
    {
     "data": {
      "text/plain": [
       "Text(0.5,0,'Speed')"
      ]
     },
     "execution_count": 14,
     "metadata": {},
     "output_type": "execute_result"
    },
    {
     "data": {
      "image/png": "[encoded data removed]",
      "text/plain": [
       "<Figure size 432x288 with 2 Axes>"
      ]
     },
     "metadata": {
      "needs_background": "light"
     },
     "output_type": "display_data"
    }
   ],
   "source": [
    "fig, (ax1, ax2) = subplots(nrows=1,\n",
    "                           ncols=2,\n",
    "                           sharey=True,\n",
    "                           figsize=(6, 4))\n",
    "\n",
    "# Plot the MPG histogram on the first subplot\n",
    "cars['mpg'].hist(ax=ax1, bins=20)\n",
    "ax1.set_xlabel('MPG')\n",
    "ax1.set_ylabel('Number of cars')\n",
    "\n",
    "# Plot the speed histogram on the second subplot\n",
    "cars['speed'].hist(ax=ax2, bins=20)\n",
    "ax2.set_xlabel('Speed')\n"
   ]
  },
  {
   "cell_type": "markdown",
   "metadata": {
    "slideshow": {
     "slide_type": "fragment"
    }
   },
   "source": [
    "Overall, most cars have MPG on the lower side (15-20 MPG), but speed is mostly around 15 mph. Perhaps for some cars, we get low MPG but not enough bang in terms of speed."
   ]
  },
  {
   "cell_type": "markdown",
   "metadata": {
    "slideshow": {
     "slide_type": "slide"
    }
   },
   "source": [
    "## Bar plots\n",
    "\n",
    "We've already met the bar plot in earlier lectures.\n",
    "\n",
    "_Example:_ Plot the number of cars with different number of cylinders."
   ]
  },
  {
   "cell_type": "code",
   "execution_count": 15,
   "metadata": {
    "slideshow": {
     "slide_type": "fragment"
    }
   },
   "outputs": [
    {
     "data": {
      "text/plain": [
       "Text(0,0.5,'Number of cars')"
      ]
     },
     "execution_count": 15,
     "metadata": {},
     "output_type": "execute_result"
    },
    {
     "data": {
      "image/png": "[encoded data removed]",
      "text/plain": [
       "<Figure size 432x288 with 1 Axes>"
      ]
     },
     "metadata": {
      "needs_background": "light"
     },
     "output_type": "display_data"
    }
   ],
   "source": [
    "cylinder_counts = cars['cyl'].value_counts()\n",
    "cylinder_counts.plot(kind='bar')\n",
    "xlabel('Number of cylinders')\n",
    "ylabel('Number of cars')"
   ]
  },
  {
   "cell_type": "markdown",
   "metadata": {
    "slideshow": {
     "slide_type": "skip"
    }
   },
   "source": [
    "We can easily plot this as a pie chart as well. We will need the percentage of cars with each cylinder-type."
   ]
  },
  {
   "cell_type": "code",
   "execution_count": 16,
   "metadata": {
    "slideshow": {
     "slide_type": "skip"
    }
   },
   "outputs": [
    {
     "data": {
      "text/plain": [
       "4    50.765306\n",
       "8    26.275510\n",
       "6    21.173469\n",
       "3     1.020408\n",
       "5     0.765306\n",
       "Name: cyl, dtype: float64"
      ]
     },
     "execution_count": 16,
     "metadata": {},
     "output_type": "execute_result"
    }
   ],
   "source": [
    "cylinder_percentages = cylinder_counts * 100.0 / sum(cylinder_counts)\n",
    "cylinder_percentages"
   ]
  },
  {
   "cell_type": "code",
   "execution_count": 17,
   "metadata": {
    "slideshow": {
     "slide_type": "skip"
    }
   },
   "outputs": [
    {
     "data": {
      "text/plain": [
       "(-1.1055161340232746,\n",
       " 1.1002626730487273,\n",
       " -1.1100634242242517,\n",
       " 1.103534683151302)"
      ]
     },
     "execution_count": 17,
     "metadata": {},
     "output_type": "execute_result"
    },
    {
     "data": {
      "image/png": "[encoded data removed]",
      "text/plain": [
       "<Figure size 432x288 with 1 Axes>"
      ]
     },
     "metadata": {},
     "output_type": "display_data"
    }
   ],
   "source": [
    "pie(cylinder_percentages.values,\n",
    "    labels=cylinder_percentages.index.values,\n",
    "    shadow=True)\n",
    "axis('equal')"
   ]
  },
  {
   "cell_type": "markdown",
   "metadata": {
    "slideshow": {
     "slide_type": "slide"
    }
   },
   "source": [
    "Let us look at one interesting dataset: the top 1000 baby names in each year from 1880 onwards. We will explore several questions on this."
   ]
  },
  {
   "cell_type": "code",
   "execution_count": 18,
   "metadata": {},
   "outputs": [
    {
     "data": {
      "text/html": [
       "<div>\n",
       "<style scoped>\n",
       "    .dataframe tbody tr th:only-of-type {\n",
       "        vertical-align: middle;\n",
       "    }\n",
       "\n",
       "    .dataframe tbody tr th {\n",
       "        vertical-align: top;\n",
       "    }\n",
       "\n",
       "    .dataframe thead th {\n",
       "        text-align: right;\n",
       "    }\n",
       "</style>\n",
       "<table border=\"1\" class=\"dataframe\">\n",
       "  <thead>\n",
       "    <tr style=\"text-align: right;\">\n",
       "      <th></th>\n",
       "      <th>year</th>\n",
       "      <th>name</th>\n",
       "      <th>percent</th>\n",
       "      <th>sex</th>\n",
       "    </tr>\n",
       "  </thead>\n",
       "  <tbody>\n",
       "    <tr>\n",
       "      <th>0</th>\n",
       "      <td>1880</td>\n",
       "      <td>John</td>\n",
       "      <td>0.081541</td>\n",
       "      <td>boy</td>\n",
       "    </tr>\n",
       "    <tr>\n",
       "      <th>1</th>\n",
       "      <td>1880</td>\n",
       "      <td>William</td>\n",
       "      <td>0.080511</td>\n",
       "      <td>boy</td>\n",
       "    </tr>\n",
       "    <tr>\n",
       "      <th>2</th>\n",
       "      <td>1880</td>\n",
       "      <td>James</td>\n",
       "      <td>0.050057</td>\n",
       "      <td>boy</td>\n",
       "    </tr>\n",
       "    <tr>\n",
       "      <th>3</th>\n",
       "      <td>1880</td>\n",
       "      <td>Charles</td>\n",
       "      <td>0.045167</td>\n",
       "      <td>boy</td>\n",
       "    </tr>\n",
       "    <tr>\n",
       "      <th>4</th>\n",
       "      <td>1880</td>\n",
       "      <td>George</td>\n",
       "      <td>0.043292</td>\n",
       "      <td>boy</td>\n",
       "    </tr>\n",
       "  </tbody>\n",
       "</table>\n",
       "</div>"
      ],
      "text/plain": [
       "   year     name   percent  sex\n",
       "0  1880     John  0.081541  boy\n",
       "1  1880  William  0.080511  boy\n",
       "2  1880    James  0.050057  boy\n",
       "3  1880  Charles  0.045167  boy\n",
       "4  1880   George  0.043292  boy"
      ]
     },
     "execution_count": 18,
     "metadata": {},
     "output_type": "execute_result"
    }
   ],
   "source": [
    "names = pd.read_csv('Pandas_4_data/baby-names-top1000.csv')\n",
    "names[:5]"
   ]
  },
  {
   "cell_type": "code",
   "execution_count": 19,
   "metadata": {
    "slideshow": {
     "slide_type": "slide"
    }
   },
   "outputs": [
    {
     "data": {
      "text/html": [
       "<div>\n",
       "<style scoped>\n",
       "    .dataframe tbody tr th:only-of-type {\n",
       "        vertical-align: middle;\n",
       "    }\n",
       "\n",
       "    .dataframe tbody tr th {\n",
       "        vertical-align: top;\n",
       "    }\n",
       "\n",
       "    .dataframe thead th {\n",
       "        text-align: right;\n",
       "    }\n",
       "</style>\n",
       "<table border=\"1\" class=\"dataframe\">\n",
       "  <thead>\n",
       "    <tr style=\"text-align: right;\">\n",
       "      <th></th>\n",
       "      <th>year</th>\n",
       "      <th>name</th>\n",
       "      <th>percent</th>\n",
       "      <th>sex</th>\n",
       "    </tr>\n",
       "  </thead>\n",
       "  <tbody>\n",
       "    <tr>\n",
       "      <th>257995</th>\n",
       "      <td>2008</td>\n",
       "      <td>Carleigh</td>\n",
       "      <td>0.000128</td>\n",
       "      <td>girl</td>\n",
       "    </tr>\n",
       "    <tr>\n",
       "      <th>257996</th>\n",
       "      <td>2008</td>\n",
       "      <td>Iyana</td>\n",
       "      <td>0.000128</td>\n",
       "      <td>girl</td>\n",
       "    </tr>\n",
       "    <tr>\n",
       "      <th>257997</th>\n",
       "      <td>2008</td>\n",
       "      <td>Kenley</td>\n",
       "      <td>0.000127</td>\n",
       "      <td>girl</td>\n",
       "    </tr>\n",
       "    <tr>\n",
       "      <th>257998</th>\n",
       "      <td>2008</td>\n",
       "      <td>Sloane</td>\n",
       "      <td>0.000127</td>\n",
       "      <td>girl</td>\n",
       "    </tr>\n",
       "    <tr>\n",
       "      <th>257999</th>\n",
       "      <td>2008</td>\n",
       "      <td>Elianna</td>\n",
       "      <td>0.000127</td>\n",
       "      <td>girl</td>\n",
       "    </tr>\n",
       "  </tbody>\n",
       "</table>\n",
       "</div>"
      ],
      "text/plain": [
       "        year      name   percent   sex\n",
       "257995  2008  Carleigh  0.000128  girl\n",
       "257996  2008     Iyana  0.000128  girl\n",
       "257997  2008    Kenley  0.000127  girl\n",
       "257998  2008    Sloane  0.000127  girl\n",
       "257999  2008   Elianna  0.000127  girl"
      ]
     },
     "execution_count": 19,
     "metadata": {},
     "output_type": "execute_result"
    }
   ],
   "source": [
    "names[-5:]  # last five"
   ]
  },
  {
   "cell_type": "markdown",
   "metadata": {},
   "source": [
    "Names from 1880 until 2008, so 129 years."
   ]
  },
  {
   "cell_type": "markdown",
   "metadata": {
    "slideshow": {
     "slide_type": "slide"
    }
   },
   "source": [
    "### Which baby names are in the top-1000 list most often?"
   ]
  },
  {
   "cell_type": "code",
   "execution_count": 20,
   "metadata": {
    "slideshow": {
     "slide_type": "fragment"
    }
   },
   "outputs": [
    {
     "data": {
      "text/plain": [
       "<matplotlib.axes._subplots.AxesSubplot at 0x1ea95dd8>"
      ]
     },
     "execution_count": 20,
     "metadata": {},
     "output_type": "execute_result"
    },
    {
     "data": {
      "image/png": "[encoded data removed]",
      "text/plain": [
       "<Figure size 432x288 with 1 Axes>"
      ]
     },
     "metadata": {
      "needs_background": "light"
     },
     "output_type": "display_data"
    }
   ],
   "source": [
    "names['name'].value_counts()[:10].plot(kind='bar')"
   ]
  },
  {
   "cell_type": "markdown",
   "metadata": {
    "slideshow": {
     "slide_type": "fragment"
    }
   },
   "source": [
    "**Wait, what?** There are only 129 years, so how can Jessie show up 250 times?"
   ]
  },
  {
   "cell_type": "markdown",
   "metadata": {
    "slideshow": {
     "slide_type": "slide"
    }
   },
   "source": [
    "Let's find the most popular names for boys only."
   ]
  },
  {
   "cell_type": "code",
   "execution_count": 21,
   "metadata": {
    "slideshow": {
     "slide_type": "fragment"
    }
   },
   "outputs": [
    {
     "data": {
      "text/plain": [
       "Joshua       129\n",
       "Melvin       129\n",
       "Elliott      129\n",
       "Jerry        129\n",
       "James        129\n",
       "Ralph        129\n",
       "Stanley      129\n",
       "Cornelius    129\n",
       "Lee          129\n",
       "Eli          129\n",
       "Raymond      129\n",
       "Paul         129\n",
       "Owen         129\n",
       "Leo          129\n",
       "Wayne        129\n",
       "Name: name, dtype: int64"
      ]
     },
     "execution_count": 21,
     "metadata": {},
     "output_type": "execute_result"
    }
   ],
   "source": [
    "common_boy_names = names[names['sex'] == 'boy']['name'].value_counts()\n",
    "common_boy_names[:15]"
   ]
  },
  {
   "cell_type": "markdown",
   "metadata": {
    "slideshow": {
     "slide_type": "fragment"
    }
   },
   "source": [
    "Some names are evergreen..."
   ]
  },
  {
   "cell_type": "markdown",
   "metadata": {
    "slideshow": {
     "slide_type": "slide"
    }
   },
   "source": [
    "### How many names are super-popular, medium-popular, less-popular?"
   ]
  },
  {
   "cell_type": "code",
   "execution_count": 22,
   "metadata": {
    "slideshow": {
     "slide_type": "fragment"
    }
   },
   "outputs": [
    {
     "data": {
      "text/plain": [
       "Text(0,0.5,'Number of names')"
      ]
     },
     "execution_count": 22,
     "metadata": {},
     "output_type": "execute_result"
    },
    {
     "data": {
      "image/png": "[encoded data removed]",
      "text/plain": [
       "<Figure size 432x288 with 1 Axes>"
      ]
     },
     "metadata": {
      "needs_background": "light"
     },
     "output_type": "display_data"
    }
   ],
   "source": [
    "common_boy_names.hist()\n",
    "xlabel('Number of years in top-1000')\n",
    "ylabel('Number of names')"
   ]
  },
  {
   "cell_type": "markdown",
   "metadata": {
    "slideshow": {
     "slide_type": "fragment"
    }
   },
   "source": [
    "There are two peaks: (a) almost unique names, and (b) evergreen names. However, there are very few names that _just_ missed out on being evergreen. Let's see what these are."
   ]
  },
  {
   "cell_type": "code",
   "execution_count": 23,
   "metadata": {
    "slideshow": {
     "slide_type": "slide"
    }
   },
   "outputs": [
    {
     "data": {
      "text/plain": [
       "Sammy     100\n",
       "Arturo    100\n",
       "Emery     100\n",
       "Walker    100\n",
       "Name: name, dtype: int64"
      ]
     },
     "execution_count": 23,
     "metadata": {},
     "output_type": "execute_result"
    }
   ],
   "source": [
    "common_boy_names[common_boy_names == 100]  # Common for 100 years, but not 129 years."
   ]
  },
  {
   "cell_type": "markdown",
   "metadata": {
    "slideshow": {
     "slide_type": "fragment"
    }
   },
   "source": [
    "Let's see how their popularity changed over time. But for that, we need the popularity timeline for these names."
   ]
  },
  {
   "cell_type": "markdown",
   "metadata": {
    "slideshow": {
     "slide_type": "slide"
    }
   },
   "source": [
    "### How do we get a timeline for each name?"
   ]
  },
  {
   "cell_type": "code",
   "execution_count": 24,
   "metadata": {},
   "outputs": [
    {
     "data": {
      "text/html": [
       "<div>\n",
       "<style scoped>\n",
       "    .dataframe tbody tr th:only-of-type {\n",
       "        vertical-align: middle;\n",
       "    }\n",
       "\n",
       "    .dataframe tbody tr th {\n",
       "        vertical-align: top;\n",
       "    }\n",
       "\n",
       "    .dataframe thead th {\n",
       "        text-align: right;\n",
       "    }\n",
       "</style>\n",
       "<table border=\"1\" class=\"dataframe\">\n",
       "  <thead>\n",
       "    <tr style=\"text-align: right;\">\n",
       "      <th></th>\n",
       "      <th>year</th>\n",
       "      <th>name</th>\n",
       "      <th>percent</th>\n",
       "      <th>sex</th>\n",
       "    </tr>\n",
       "  </thead>\n",
       "  <tbody>\n",
       "    <tr>\n",
       "      <th>0</th>\n",
       "      <td>1880</td>\n",
       "      <td>John</td>\n",
       "      <td>0.081541</td>\n",
       "      <td>boy</td>\n",
       "    </tr>\n",
       "    <tr>\n",
       "      <th>1</th>\n",
       "      <td>1880</td>\n",
       "      <td>William</td>\n",
       "      <td>0.080511</td>\n",
       "      <td>boy</td>\n",
       "    </tr>\n",
       "    <tr>\n",
       "      <th>2</th>\n",
       "      <td>1880</td>\n",
       "      <td>James</td>\n",
       "      <td>0.050057</td>\n",
       "      <td>boy</td>\n",
       "    </tr>\n",
       "  </tbody>\n",
       "</table>\n",
       "</div>"
      ],
      "text/plain": [
       "   year     name   percent  sex\n",
       "0  1880     John  0.081541  boy\n",
       "1  1880  William  0.080511  boy\n",
       "2  1880    James  0.050057  boy"
      ]
     },
     "execution_count": 24,
     "metadata": {},
     "output_type": "execute_result"
    }
   ],
   "source": [
    "boy_names = names[names['sex'] == 'boy']\n",
    "boy_names[:3]"
   ]
  },
  {
   "cell_type": "code",
   "execution_count": 25,
   "metadata": {
    "slideshow": {
     "slide_type": "fragment"
    }
   },
   "outputs": [
    {
     "data": {
      "text/html": [
       "<div>\n",
       "<style scoped>\n",
       "    .dataframe tbody tr th:only-of-type {\n",
       "        vertical-align: middle;\n",
       "    }\n",
       "\n",
       "    .dataframe tbody tr th {\n",
       "        vertical-align: top;\n",
       "    }\n",
       "\n",
       "    .dataframe thead th {\n",
       "        text-align: right;\n",
       "    }\n",
       "</style>\n",
       "<table border=\"1\" class=\"dataframe\">\n",
       "  <thead>\n",
       "    <tr style=\"text-align: right;\">\n",
       "      <th>name</th>\n",
       "      <th>Aaden</th>\n",
       "      <th>Aarav</th>\n",
       "      <th>Aaron</th>\n",
       "      <th>Ab</th>\n",
       "      <th>Abb</th>\n",
       "    </tr>\n",
       "    <tr>\n",
       "      <th>year</th>\n",
       "      <th></th>\n",
       "      <th></th>\n",
       "      <th></th>\n",
       "      <th></th>\n",
       "      <th></th>\n",
       "    </tr>\n",
       "  </thead>\n",
       "  <tbody>\n",
       "    <tr>\n",
       "      <th>1880</th>\n",
       "      <td>NaN</td>\n",
       "      <td>NaN</td>\n",
       "      <td>0.000861</td>\n",
       "      <td>0.000042</td>\n",
       "      <td>NaN</td>\n",
       "    </tr>\n",
       "    <tr>\n",
       "      <th>1881</th>\n",
       "      <td>NaN</td>\n",
       "      <td>NaN</td>\n",
       "      <td>0.000868</td>\n",
       "      <td>0.000037</td>\n",
       "      <td>NaN</td>\n",
       "    </tr>\n",
       "    <tr>\n",
       "      <th>1882</th>\n",
       "      <td>NaN</td>\n",
       "      <td>NaN</td>\n",
       "      <td>0.000697</td>\n",
       "      <td>0.000041</td>\n",
       "      <td>NaN</td>\n",
       "    </tr>\n",
       "    <tr>\n",
       "      <th>1883</th>\n",
       "      <td>NaN</td>\n",
       "      <td>NaN</td>\n",
       "      <td>0.000933</td>\n",
       "      <td>NaN</td>\n",
       "      <td>NaN</td>\n",
       "    </tr>\n",
       "    <tr>\n",
       "      <th>1884</th>\n",
       "      <td>NaN</td>\n",
       "      <td>NaN</td>\n",
       "      <td>0.000790</td>\n",
       "      <td>NaN</td>\n",
       "      <td>0.000041</td>\n",
       "    </tr>\n",
       "  </tbody>\n",
       "</table>\n",
       "</div>"
      ],
      "text/plain": [
       "name  Aaden  Aarav     Aaron        Ab       Abb\n",
       "year                                            \n",
       "1880    NaN    NaN  0.000861  0.000042       NaN\n",
       "1881    NaN    NaN  0.000868  0.000037       NaN\n",
       "1882    NaN    NaN  0.000697  0.000041       NaN\n",
       "1883    NaN    NaN  0.000933       NaN       NaN\n",
       "1884    NaN    NaN  0.000790       NaN  0.000041"
      ]
     },
     "execution_count": 25,
     "metadata": {},
     "output_type": "execute_result"
    }
   ],
   "source": [
    "year_name_pivot = pd.pivot_table(boy_names,\n",
    "                                 index='year',\n",
    "                                 columns='name',\n",
    "                                 values='percent')\n",
    "\n",
    "year_name_pivot.iloc[:5, :5]"
   ]
  },
  {
   "cell_type": "code",
   "execution_count": 26,
   "metadata": {
    "slideshow": {
     "slide_type": "slide"
    }
   },
   "outputs": [],
   "source": [
    "# Let's fill in the missing values with 0\n",
    "year_name_pivot = year_name_pivot.fillna(0)"
   ]
  },
  {
   "cell_type": "code",
   "execution_count": 27,
   "metadata": {
    "slideshow": {
     "slide_type": "fragment"
    }
   },
   "outputs": [
    {
     "data": {
      "text/html": [
       "<div>\n",
       "<style scoped>\n",
       "    .dataframe tbody tr th:only-of-type {\n",
       "        vertical-align: middle;\n",
       "    }\n",
       "\n",
       "    .dataframe tbody tr th {\n",
       "        vertical-align: top;\n",
       "    }\n",
       "\n",
       "    .dataframe thead th {\n",
       "        text-align: right;\n",
       "    }\n",
       "</style>\n",
       "<table border=\"1\" class=\"dataframe\">\n",
       "  <thead>\n",
       "    <tr style=\"text-align: right;\">\n",
       "      <th>name</th>\n",
       "      <th>Sammy</th>\n",
       "      <th>Arturo</th>\n",
       "      <th>Emery</th>\n",
       "      <th>Walker</th>\n",
       "    </tr>\n",
       "    <tr>\n",
       "      <th>year</th>\n",
       "      <th></th>\n",
       "      <th></th>\n",
       "      <th></th>\n",
       "      <th></th>\n",
       "    </tr>\n",
       "  </thead>\n",
       "  <tbody>\n",
       "    <tr>\n",
       "      <th>1880</th>\n",
       "      <td>0.0</td>\n",
       "      <td>0.0</td>\n",
       "      <td>0.000439</td>\n",
       "      <td>0.000245</td>\n",
       "    </tr>\n",
       "    <tr>\n",
       "      <th>1881</th>\n",
       "      <td>0.0</td>\n",
       "      <td>0.0</td>\n",
       "      <td>0.000489</td>\n",
       "      <td>0.000231</td>\n",
       "    </tr>\n",
       "    <tr>\n",
       "      <th>1882</th>\n",
       "      <td>0.0</td>\n",
       "      <td>0.0</td>\n",
       "      <td>0.000434</td>\n",
       "      <td>0.000229</td>\n",
       "    </tr>\n",
       "    <tr>\n",
       "      <th>1883</th>\n",
       "      <td>0.0</td>\n",
       "      <td>0.0</td>\n",
       "      <td>0.000382</td>\n",
       "      <td>0.000178</td>\n",
       "    </tr>\n",
       "    <tr>\n",
       "      <th>1884</th>\n",
       "      <td>0.0</td>\n",
       "      <td>0.0</td>\n",
       "      <td>0.000415</td>\n",
       "      <td>0.000155</td>\n",
       "    </tr>\n",
       "  </tbody>\n",
       "</table>\n",
       "</div>"
      ],
      "text/plain": [
       "name  Sammy  Arturo     Emery    Walker\n",
       "year                                   \n",
       "1880    0.0     0.0  0.000439  0.000245\n",
       "1881    0.0     0.0  0.000489  0.000231\n",
       "1882    0.0     0.0  0.000434  0.000229\n",
       "1883    0.0     0.0  0.000382  0.000178\n",
       "1884    0.0     0.0  0.000415  0.000155"
      ]
     },
     "execution_count": 27,
     "metadata": {},
     "output_type": "execute_result"
    }
   ],
   "source": [
    "year_name_pivot[['Sammy', 'Arturo', 'Emery', 'Walker']][:5]"
   ]
  },
  {
   "cell_type": "markdown",
   "metadata": {
    "slideshow": {
     "slide_type": "slide"
    }
   },
   "source": [
    "Now we can plot these timelines. That means four subplots. We could again do:\n",
    "\n",
    "    fig, (ax1, ax2, ax3, ax4) = subplots(nrows=4,\n",
    "                                         ncols=1,\n",
    "                                         sharex=True,\n",
    "                                         sharey=True,\n",
    "                                         figsize=(8, 12))\n",
    "    \n",
    "    year_name_pivot['Sammy'].plot(ax=ax1)\n",
    "    year_name_pivot['Arturo'].plot(ax=ax2)\n",
    "    year_name_pivot['Emery'].plot(ax=ax3)\n",
    "    year_name_pivot['Walker'].plot(ax=ax4)"
   ]
  },
  {
   "cell_type": "markdown",
   "metadata": {
    "slideshow": {
     "slide_type": "fragment"
    }
   },
   "source": [
    "Instead, we use the fact that all of these are in a DataFrame, and pandas knows how to plot DataFrames nicely!"
   ]
  },
  {
   "cell_type": "code",
   "execution_count": 28,
   "metadata": {
    "slideshow": {
     "slide_type": "slide"
    }
   },
   "outputs": [
    {
     "data": {
      "text/plain": [
       "array([<matplotlib.axes._subplots.AxesSubplot object at 0x0000000020FCFF60>,\n",
       "       <matplotlib.axes._subplots.AxesSubplot object at 0x000000002131DB38>,\n",
       "       <matplotlib.axes._subplots.AxesSubplot object at 0x0000000022FFE1D0>,\n",
       "       <matplotlib.axes._subplots.AxesSubplot object at 0x000000002302F828>],\n",
       "      dtype=object)"
      ]
     },
     "execution_count": 28,
     "metadata": {},
     "output_type": "execute_result"
    },
    {
     "data": {
      "image/png": "[encoded data removed]",
      "text/plain": [
       "<Figure size 576x864 with 4 Axes>"
      ]
     },
     "metadata": {
      "needs_background": "light"
     },
     "output_type": "display_data"
    }
   ],
   "source": [
    "year_name_pivot[['Sammy', 'Arturo', 'Emery', 'Walker']].plot(subplots=True, figsize=(8, 12))"
   ]
  },
  {
   "cell_type": "markdown",
   "metadata": {
    "slideshow": {
     "slide_type": "slide"
    }
   },
   "source": [
    "### Find the names that were the most popular in at least one year."
   ]
  },
  {
   "cell_type": "code",
   "execution_count": 29,
   "metadata": {
    "slideshow": {
     "slide_type": "fragment"
    }
   },
   "outputs": [
    {
     "data": {
      "text/plain": [
       "year\n",
       "1880    John\n",
       "1881    John\n",
       "1882    John\n",
       "1883    John\n",
       "1884    John\n",
       "dtype: object"
      ]
     },
     "execution_count": 29,
     "metadata": {},
     "output_type": "execute_result"
    }
   ],
   "source": [
    "name_year = year_name_pivot.T\n",
    "top_names = name_year.idxmax()\n",
    "top_names[:5]"
   ]
  },
  {
   "cell_type": "code",
   "execution_count": 30,
   "metadata": {
    "slideshow": {
     "slide_type": "fragment"
    }
   },
   "outputs": [
    {
     "data": {
      "text/plain": [
       "Michael    44\n",
       "John       44\n",
       "Robert     17\n",
       "James      13\n",
       "Jacob      10\n",
       "David       1\n",
       "dtype: int64"
      ]
     },
     "execution_count": 30,
     "metadata": {},
     "output_type": "execute_result"
    }
   ],
   "source": [
    "top_names.value_counts()"
   ]
  },
  {
   "cell_type": "code",
   "execution_count": 31,
   "metadata": {
    "slideshow": {
     "slide_type": "fragment"
    }
   },
   "outputs": [
    {
     "data": {
      "text/plain": [
       "array(['Michael', 'John', 'Robert', 'James', 'Jacob', 'David'],\n",
       "      dtype=object)"
      ]
     },
     "execution_count": 31,
     "metadata": {},
     "output_type": "execute_result"
    }
   ],
   "source": [
    "most_popular_names = top_names.value_counts().index.values\n",
    "most_popular_names"
   ]
  },
  {
   "cell_type": "markdown",
   "metadata": {
    "slideshow": {
     "slide_type": "slide"
    }
   },
   "source": [
    "<br />\n",
    "Let's plot the popularities of these 6 names from 1880 to present."
   ]
  },
  {
   "cell_type": "code",
   "execution_count": 32,
   "metadata": {},
   "outputs": [
    {
     "data": {
      "text/plain": [
       "array([1880, 1890, 1900, 1910, 1920, 1930, 1940, 1950, 1960, 1970, 1980,\n",
       "       1990, 2000], dtype=int64)"
      ]
     },
     "execution_count": 32,
     "metadata": {},
     "output_type": "execute_result"
    }
   ],
   "source": [
    "all_years = year_name_pivot.index.values\n",
    "\n",
    "# Let's pick a manageable sample of years\n",
    "sample_years = all_years[::10]  # one in 10 years.\n",
    "sample_years"
   ]
  },
  {
   "cell_type": "code",
   "execution_count": 33,
   "metadata": {
    "slideshow": {
     "slide_type": "slide"
    }
   },
   "outputs": [
    {
     "data": {
      "text/html": [
       "<div>\n",
       "<style scoped>\n",
       "    .dataframe tbody tr th:only-of-type {\n",
       "        vertical-align: middle;\n",
       "    }\n",
       "\n",
       "    .dataframe tbody tr th {\n",
       "        vertical-align: top;\n",
       "    }\n",
       "\n",
       "    .dataframe thead th {\n",
       "        text-align: right;\n",
       "    }\n",
       "</style>\n",
       "<table border=\"1\" class=\"dataframe\">\n",
       "  <thead>\n",
       "    <tr style=\"text-align: right;\">\n",
       "      <th>name</th>\n",
       "      <th>Michael</th>\n",
       "      <th>John</th>\n",
       "      <th>Robert</th>\n",
       "      <th>James</th>\n",
       "      <th>Jacob</th>\n",
       "      <th>David</th>\n",
       "    </tr>\n",
       "    <tr>\n",
       "      <th>year</th>\n",
       "      <th></th>\n",
       "      <th></th>\n",
       "      <th></th>\n",
       "      <th></th>\n",
       "      <th></th>\n",
       "      <th></th>\n",
       "    </tr>\n",
       "  </thead>\n",
       "  <tbody>\n",
       "    <tr>\n",
       "      <th>1880</th>\n",
       "      <td>0.002990</td>\n",
       "      <td>0.081541</td>\n",
       "      <td>0.020404</td>\n",
       "      <td>0.050057</td>\n",
       "      <td>0.003412</td>\n",
       "      <td>0.007339</td>\n",
       "    </tr>\n",
       "    <tr>\n",
       "      <th>1890</th>\n",
       "      <td>0.003300</td>\n",
       "      <td>0.071034</td>\n",
       "      <td>0.021236</td>\n",
       "      <td>0.042580</td>\n",
       "      <td>0.002423</td>\n",
       "      <td>0.006107</td>\n",
       "    </tr>\n",
       "    <tr>\n",
       "      <th>1900</th>\n",
       "      <td>0.003081</td>\n",
       "      <td>0.060619</td>\n",
       "      <td>0.023608</td>\n",
       "      <td>0.044677</td>\n",
       "      <td>0.001436</td>\n",
       "      <td>0.005515</td>\n",
       "    </tr>\n",
       "    <tr>\n",
       "      <th>1910</th>\n",
       "      <td>0.004049</td>\n",
       "      <td>0.054914</td>\n",
       "      <td>0.026896</td>\n",
       "      <td>0.044092</td>\n",
       "      <td>0.001310</td>\n",
       "      <td>0.006034</td>\n",
       "    </tr>\n",
       "    <tr>\n",
       "      <th>1920</th>\n",
       "      <td>0.003626</td>\n",
       "      <td>0.051710</td>\n",
       "      <td>0.044224</td>\n",
       "      <td>0.043550</td>\n",
       "      <td>0.000952</td>\n",
       "      <td>0.006757</td>\n",
       "    </tr>\n",
       "    <tr>\n",
       "      <th>1930</th>\n",
       "      <td>0.003136</td>\n",
       "      <td>0.046417</td>\n",
       "      <td>0.055021</td>\n",
       "      <td>0.047781</td>\n",
       "      <td>0.000550</td>\n",
       "      <td>0.010864</td>\n",
       "    </tr>\n",
       "    <tr>\n",
       "      <th>1940</th>\n",
       "      <td>0.011153</td>\n",
       "      <td>0.046173</td>\n",
       "      <td>0.051586</td>\n",
       "      <td>0.052662</td>\n",
       "      <td>0.000434</td>\n",
       "      <td>0.023344</td>\n",
       "    </tr>\n",
       "    <tr>\n",
       "      <th>1950</th>\n",
       "      <td>0.035810</td>\n",
       "      <td>0.043655</td>\n",
       "      <td>0.045930</td>\n",
       "      <td>0.047336</td>\n",
       "      <td>0.000256</td>\n",
       "      <td>0.033382</td>\n",
       "    </tr>\n",
       "    <tr>\n",
       "      <th>1960</th>\n",
       "      <td>0.038868</td>\n",
       "      <td>0.035145</td>\n",
       "      <td>0.033415</td>\n",
       "      <td>0.035483</td>\n",
       "      <td>0.000227</td>\n",
       "      <td>0.039669</td>\n",
       "    </tr>\n",
       "    <tr>\n",
       "      <th>1970</th>\n",
       "      <td>0.044784</td>\n",
       "      <td>0.030718</td>\n",
       "      <td>0.030031</td>\n",
       "      <td>0.032425</td>\n",
       "      <td>0.000477</td>\n",
       "      <td>0.032416</td>\n",
       "    </tr>\n",
       "    <tr>\n",
       "      <th>1980</th>\n",
       "      <td>0.037039</td>\n",
       "      <td>0.019018</td>\n",
       "      <td>0.018475</td>\n",
       "      <td>0.021205</td>\n",
       "      <td>0.004593</td>\n",
       "      <td>0.022600</td>\n",
       "    </tr>\n",
       "    <tr>\n",
       "      <th>1990</th>\n",
       "      <td>0.030358</td>\n",
       "      <td>0.013518</td>\n",
       "      <td>0.013421</td>\n",
       "      <td>0.015042</td>\n",
       "      <td>0.010228</td>\n",
       "      <td>0.015684</td>\n",
       "    </tr>\n",
       "    <tr>\n",
       "      <th>2000</th>\n",
       "      <td>0.015346</td>\n",
       "      <td>0.009617</td>\n",
       "      <td>0.006577</td>\n",
       "      <td>0.008613</td>\n",
       "      <td>0.016514</td>\n",
       "      <td>0.009454</td>\n",
       "    </tr>\n",
       "  </tbody>\n",
       "</table>\n",
       "</div>"
      ],
      "text/plain": [
       "name   Michael      John    Robert     James     Jacob     David\n",
       "year                                                            \n",
       "1880  0.002990  0.081541  0.020404  0.050057  0.003412  0.007339\n",
       "1890  0.003300  0.071034  0.021236  0.042580  0.002423  0.006107\n",
       "1900  0.003081  0.060619  0.023608  0.044677  0.001436  0.005515\n",
       "1910  0.004049  0.054914  0.026896  0.044092  0.001310  0.006034\n",
       "1920  0.003626  0.051710  0.044224  0.043550  0.000952  0.006757\n",
       "1930  0.003136  0.046417  0.055021  0.047781  0.000550  0.010864\n",
       "1940  0.011153  0.046173  0.051586  0.052662  0.000434  0.023344\n",
       "1950  0.035810  0.043655  0.045930  0.047336  0.000256  0.033382\n",
       "1960  0.038868  0.035145  0.033415  0.035483  0.000227  0.039669\n",
       "1970  0.044784  0.030718  0.030031  0.032425  0.000477  0.032416\n",
       "1980  0.037039  0.019018  0.018475  0.021205  0.004593  0.022600\n",
       "1990  0.030358  0.013518  0.013421  0.015042  0.010228  0.015684\n",
       "2000  0.015346  0.009617  0.006577  0.008613  0.016514  0.009454"
      ]
     },
     "execution_count": 33,
     "metadata": {},
     "output_type": "execute_result"
    }
   ],
   "source": [
    "# Create a DataFrame with just this information\n",
    "df = year_name_pivot[most_popular_names].loc[sample_years]\n",
    "df"
   ]
  },
  {
   "cell_type": "code",
   "execution_count": 34,
   "metadata": {
    "slideshow": {
     "slide_type": "slide"
    }
   },
   "outputs": [
    {
     "data": {
      "text/plain": [
       "<matplotlib.axes._subplots.AxesSubplot at 0x218c1080>"
      ]
     },
     "execution_count": 34,
     "metadata": {},
     "output_type": "execute_result"
    },
    {
     "data": {
      "image/png": "[encoded data removed]",
      "text/plain": [
       "<Figure size 576x576 with 1 Axes>"
      ]
     },
     "metadata": {
      "needs_background": "light"
     },
     "output_type": "display_data"
    }
   ],
   "source": [
    "# Plot this as a bar plot\n",
    "df.plot(kind='bar', figsize=(8, 8))"
   ]
  },
  {
   "cell_type": "markdown",
   "metadata": {
    "slideshow": {
     "slide_type": "slide"
    }
   },
   "source": [
    "When we do\n",
    "\n",
    "    Series.plot(kind='bar')\n",
    "\n",
    "it plots a normal bar plot. Instead, when we do\n",
    "\n",
    "    DataFrame.plot(kind='bar')\n",
    "\n",
    "it plots each column (i.e., each Series) in the bar plot."
   ]
  },
  {
   "cell_type": "markdown",
   "metadata": {
    "slideshow": {
     "slide_type": "slide"
    }
   },
   "source": [
    "## Doing plots with style\n",
    "\n",
    "Sometimes you want funky. Just because."
   ]
  },
  {
   "cell_type": "code",
   "execution_count": 35,
   "metadata": {},
   "outputs": [
    {
     "data": {
      "image/png": "[encoded data removed]",
      "text/plain": [
       "<Figure size 432x288 with 1 Axes>"
      ]
     },
     "metadata": {},
     "output_type": "display_data"
    }
   ],
   "source": [
    "# Redoing births over time, xkcd style\n",
    "xkcd()  # <-- Woo!\n",
    "\n",
    "plot(births['year'], births['M'], marker='None', linestyle='-', label='boys')\n",
    "plot(births['year'], births['F'], marker='None', linestyle='-', label='girls')\n",
    "title('Births per year')\n",
    "legend(loc='best')\n",
    "show()"
   ]
  }
 ],
 "metadata": {
  "anaconda-cloud": {},
  "celltoolbar": "Slideshow",
  "kernelspec": {
   "display_name": "Python 2",
   "language": "python",
   "name": "python2"
  },
  "language_info": {
   "codemirror_mode": {
    "name": "ipython",
    "version": 2
   },
   "file_extension": ".py",
   "mimetype": "text/x-python",
   "name": "python",
   "nbconvert_exporter": "python",
   "pygments_lexer": "ipython2",
   "version": "2.7.15"
  }
 },
 "nbformat": 4,
 "nbformat_minor": 1
}
