{
 "cells": [
  {
   "cell_type": "markdown",
   "metadata": {
    "slideshow": {
     "slide_type": "slide"
    }
   },
   "source": [
    "# Classification 3\n",
    "\n",
    "Regression is so useful it would be shame if we couldn't use it for classification. Thankfully, we can."
   ]
  },
  {
   "cell_type": "code",
   "execution_count": 1,
   "metadata": {},
   "outputs": [
    {
     "name": "stdout",
     "output_type": "stream",
     "text": [
      "Populating the interactive namespace from numpy and matplotlib\n"
     ]
    }
   ],
   "source": [
    "from pandas import Series, DataFrame\n",
    "import pandas as pd\n",
    "from patsy import dmatrices\n",
    "%pylab inline"
   ]
  },
  {
   "cell_type": "markdown",
   "metadata": {
    "slideshow": {
     "slide_type": "slide"
    }
   },
   "source": [
    "We will look at a dataset of marriages and affairs (inspired by [this analysis](http://nbviewer.ipython.org/github/justmarkham/gadsdc1/blob/master/logistic_assignment/kevin_logistic_sklearn.ipynb))."
   ]
  },
  {
   "cell_type": "code",
   "execution_count": 2,
   "metadata": {},
   "outputs": [
    {
     "data": {
      "text/plain": [
       "array(['rate_marriage', 'age', 'yrs_married', 'children', 'religious',\n",
       "       'educ', 'occupation', 'occupation_husb', 'affairs'], dtype=object)"
      ]
     },
     "execution_count": 2,
     "metadata": {},
     "output_type": "execute_result"
    }
   ],
   "source": [
    "df = pd.read_csv('Classification_3_data/affairs.csv')\n",
    "df.columns.values"
   ]
  },
  {
   "cell_type": "markdown",
   "metadata": {},
   "source": [
    "* **rate_marriage**: a woman's rating of her marriage; between 1 and 5, with 1 being worst and 5 being best\n",
    "* **religious**: woman's rating of how religious she is (1 = not religious, 4 = strongly religious)\n",
    "* **occupation**: woman's occupation\n",
    "    * 1 = student\n",
    "    * 2 = farming/semi-skilled/unskilled\n",
    "    * 3 = \"white collar\"\n",
    "    * 4 = teacher/nurse/writer/technician/skilled\n",
    "    * 5 = managerial/business\n",
    "    * 6 = professional with advanced degree\n",
    "* **occupation_husb**: ditto for husband\n",
    "* **affairs**: measure of time spent in extra-marital affairs"
   ]
  },
  {
   "cell_type": "code",
   "execution_count": 3,
   "metadata": {
    "slideshow": {
     "slide_type": "slide"
    }
   },
   "outputs": [
    {
     "data": {
      "text/plain": [
       "rate_marriage       3.000000\n",
       "age                32.000000\n",
       "yrs_married         9.000000\n",
       "children            3.000000\n",
       "religious           3.000000\n",
       "educ               17.000000\n",
       "occupation          2.000000\n",
       "occupation_husb     5.000000\n",
       "affairs             0.111111\n",
       "Name: 0, dtype: float64"
      ]
     },
     "execution_count": 3,
     "metadata": {},
     "output_type": "execute_result"
    }
   ],
   "source": [
    "df.iloc[0]"
   ]
  },
  {
   "cell_type": "markdown",
   "metadata": {
    "slideshow": {
     "slide_type": "slide"
    }
   },
   "source": [
    "Let us convert **affairs** into a binary variable, to make it a classification task."
   ]
  },
  {
   "cell_type": "code",
   "execution_count": 4,
   "metadata": {
    "slideshow": {
     "slide_type": "fragment"
    }
   },
   "outputs": [
    {
     "data": {
      "text/plain": [
       "Text(0,0.5,'number of women')"
      ]
     },
     "execution_count": 4,
     "metadata": {},
     "output_type": "execute_result"
    },
    {
     "data": {
      "image/png": "[encoded data removed]",
      "text/plain": [
       "<Figure size 432x288 with 1 Axes>"
      ]
     },
     "metadata": {
      "needs_background": "light"
     },
     "output_type": "display_data"
    }
   ],
   "source": [
    "df['affairs'].hist(bins=20)\n",
    "xlabel('affairs')\n",
    "ylabel('number of women')"
   ]
  },
  {
   "cell_type": "markdown",
   "metadata": {
    "slideshow": {
     "slide_type": "fragment"
    }
   },
   "source": [
    "Seems like it is mostly 0 or around 0.0. Let us look up the median."
   ]
  },
  {
   "cell_type": "code",
   "execution_count": 5,
   "metadata": {
    "slideshow": {
     "slide_type": "fragment"
    }
   },
   "outputs": [
    {
     "name": "stdout",
     "output_type": "stream",
     "text": [
      "0.0\n"
     ]
    }
   ],
   "source": [
    "print df['affairs'].median()"
   ]
  },
  {
   "cell_type": "markdown",
   "metadata": {
    "slideshow": {
     "slide_type": "fragment"
    }
   },
   "source": [
    "So, at least 50% of the women had 0 for affairs."
   ]
  },
  {
   "cell_type": "markdown",
   "metadata": {
    "slideshow": {
     "slide_type": "slide"
    }
   },
   "source": [
    "## Create the target\n",
    "\n",
    "Let us create a target where affairs > 0 is the positive class, and affairs = 0 is the negative class."
   ]
  },
  {
   "cell_type": "code",
   "execution_count": 6,
   "metadata": {},
   "outputs": [
    {
     "data": {
      "text/plain": [
       "0.0    4313\n",
       "1.0    2053\n",
       "Name: target, dtype: int64"
      ]
     },
     "execution_count": 6,
     "metadata": {},
     "output_type": "execute_result"
    }
   ],
   "source": [
    "df['target'] = 0.0\n",
    "df['target'][df['affairs'] > 0] = 1.0\n",
    "df['target'].value_counts()"
   ]
  },
  {
   "cell_type": "markdown",
   "metadata": {
    "slideshow": {
     "slide_type": "fragment"
    }
   },
   "source": [
    "## Create design matrices"
   ]
  },
  {
   "cell_type": "code",
   "execution_count": 7,
   "metadata": {
    "slideshow": {
     "slide_type": "fragment"
    }
   },
   "outputs": [],
   "source": [
    "formula = 'target ~ 0 + rate_marriage + age + yrs_married + children ' + \\\n",
    "           ' + religious + educ + C(occupation) + C(occupation_husb)'"
   ]
  },
  {
   "cell_type": "markdown",
   "metadata": {
    "slideshow": {
     "slide_type": "fragment"
    }
   },
   "source": [
    "We have something new in this formula:\n",
    "\n",
    "* What is C(occupation) and C(occupation_husb)?"
   ]
  },
  {
   "cell_type": "markdown",
   "metadata": {
    "slideshow": {
     "slide_type": "slide"
    }
   },
   "source": [
    "What is C(occupation) and C(occupation_husb)?\n",
    "\n",
    "* Both of these are **categorical** variables (student/farming/teacher/business, etc.)\n",
    "* However, they are coded as integers\n",
    "    * 1 = student\n",
    "    * 2 = farming, etc.\n",
    "* We need to tell Python to not think of occupation as **ordered** variables."
   ]
  },
  {
   "cell_type": "code",
   "execution_count": 8,
   "metadata": {
    "slideshow": {
     "slide_type": "fragment"
    }
   },
   "outputs": [],
   "source": [
    "Y, X = dmatrices(formula, df, return_type='dataframe')\n",
    "y = Y['target'].values"
   ]
  },
  {
   "cell_type": "markdown",
   "metadata": {
    "slideshow": {
     "slide_type": "slide"
    }
   },
   "source": [
    "## Plot data\n",
    "\n",
    "Affairs versus rate_marriage?"
   ]
  },
  {
   "cell_type": "code",
   "execution_count": 9,
   "metadata": {},
   "outputs": [
    {
     "data": {
      "text/html": [
       "<div>\n",
       "<style scoped>\n",
       "    .dataframe tbody tr th:only-of-type {\n",
       "        vertical-align: middle;\n",
       "    }\n",
       "\n",
       "    .dataframe tbody tr th {\n",
       "        vertical-align: top;\n",
       "    }\n",
       "\n",
       "    .dataframe thead th {\n",
       "        text-align: right;\n",
       "    }\n",
       "</style>\n",
       "<table border=\"1\" class=\"dataframe\">\n",
       "  <thead>\n",
       "    <tr style=\"text-align: right;\">\n",
       "      <th>target</th>\n",
       "      <th>0.0</th>\n",
       "      <th>1.0</th>\n",
       "    </tr>\n",
       "    <tr>\n",
       "      <th>rate_marriage</th>\n",
       "      <th></th>\n",
       "      <th></th>\n",
       "    </tr>\n",
       "  </thead>\n",
       "  <tbody>\n",
       "    <tr>\n",
       "      <th>1.0</th>\n",
       "      <td>25</td>\n",
       "      <td>74</td>\n",
       "    </tr>\n",
       "    <tr>\n",
       "      <th>2.0</th>\n",
       "      <td>127</td>\n",
       "      <td>221</td>\n",
       "    </tr>\n",
       "    <tr>\n",
       "      <th>3.0</th>\n",
       "      <td>446</td>\n",
       "      <td>547</td>\n",
       "    </tr>\n",
       "    <tr>\n",
       "      <th>4.0</th>\n",
       "      <td>1518</td>\n",
       "      <td>724</td>\n",
       "    </tr>\n",
       "    <tr>\n",
       "      <th>5.0</th>\n",
       "      <td>2197</td>\n",
       "      <td>487</td>\n",
       "    </tr>\n",
       "  </tbody>\n",
       "</table>\n",
       "</div>"
      ],
      "text/plain": [
       "target          0.0  1.0\n",
       "rate_marriage           \n",
       "1.0              25   74\n",
       "2.0             127  221\n",
       "3.0             446  547\n",
       "4.0            1518  724\n",
       "5.0            2197  487"
      ]
     },
     "execution_count": 9,
     "metadata": {},
     "output_type": "execute_result"
    }
   ],
   "source": [
    "rating_vs_target = pd.crosstab(df['rate_marriage'], df['target'])\n",
    "rating_vs_target"
   ]
  },
  {
   "cell_type": "markdown",
   "metadata": {},
   "source": [
    "We used the **crosstab** function:\n",
    "\n",
    "* Very similar to pivot_table\n",
    "* Create a table of rows='rate_marriage' and cols='target'\n",
    "* Each cell contains the number of datapoints\n",
    "    * Cell corresponding to \"target=0\" and 'rate\\_marriage=2.0\" has the _number_ of women who rated their marriage as 2.0 and did not have affairs."
   ]
  },
  {
   "cell_type": "markdown",
   "metadata": {
    "slideshow": {
     "slide_type": "fragment"
    }
   },
   "source": [
    "Let us normalize each column so that we can compare columns."
   ]
  },
  {
   "cell_type": "code",
   "execution_count": 10,
   "metadata": {
    "slideshow": {
     "slide_type": "slide"
    }
   },
   "outputs": [
    {
     "data": {
      "text/plain": [
       "target\n",
       "0.0    4313\n",
       "1.0    2053\n",
       "dtype: int64"
      ]
     },
     "execution_count": 10,
     "metadata": {},
     "output_type": "execute_result"
    }
   ],
   "source": [
    "total_ratings = rating_vs_target.apply(sum)\n",
    "total_ratings"
   ]
  },
  {
   "cell_type": "code",
   "execution_count": 11,
   "metadata": {},
   "outputs": [
    {
     "data": {
      "text/html": [
       "<div>\n",
       "<style scoped>\n",
       "    .dataframe tbody tr th:only-of-type {\n",
       "        vertical-align: middle;\n",
       "    }\n",
       "\n",
       "    .dataframe tbody tr th {\n",
       "        vertical-align: top;\n",
       "    }\n",
       "\n",
       "    .dataframe thead th {\n",
       "        text-align: right;\n",
       "    }\n",
       "</style>\n",
       "<table border=\"1\" class=\"dataframe\">\n",
       "  <thead>\n",
       "    <tr style=\"text-align: right;\">\n",
       "      <th>target</th>\n",
       "      <th>0.0</th>\n",
       "      <th>1.0</th>\n",
       "    </tr>\n",
       "    <tr>\n",
       "      <th>rate_marriage</th>\n",
       "      <th></th>\n",
       "      <th></th>\n",
       "    </tr>\n",
       "  </thead>\n",
       "  <tbody>\n",
       "    <tr>\n",
       "      <th>1.0</th>\n",
       "      <td>0.005796</td>\n",
       "      <td>0.036045</td>\n",
       "    </tr>\n",
       "    <tr>\n",
       "      <th>2.0</th>\n",
       "      <td>0.029446</td>\n",
       "      <td>0.107647</td>\n",
       "    </tr>\n",
       "    <tr>\n",
       "      <th>3.0</th>\n",
       "      <td>0.103408</td>\n",
       "      <td>0.266439</td>\n",
       "    </tr>\n",
       "    <tr>\n",
       "      <th>4.0</th>\n",
       "      <td>0.351959</td>\n",
       "      <td>0.352655</td>\n",
       "    </tr>\n",
       "    <tr>\n",
       "      <th>5.0</th>\n",
       "      <td>0.509390</td>\n",
       "      <td>0.237214</td>\n",
       "    </tr>\n",
       "  </tbody>\n",
       "</table>\n",
       "</div>"
      ],
      "text/plain": [
       "target              0.0       1.0\n",
       "rate_marriage                    \n",
       "1.0            0.005796  0.036045\n",
       "2.0            0.029446  0.107647\n",
       "3.0            0.103408  0.266439\n",
       "4.0            0.351959  0.352655\n",
       "5.0            0.509390  0.237214"
      ]
     },
     "execution_count": 11,
     "metadata": {},
     "output_type": "execute_result"
    }
   ],
   "source": [
    "rating_vs_target /= total_ratings\n",
    "rating_vs_target"
   ]
  },
  {
   "cell_type": "markdown",
   "metadata": {
    "slideshow": {
     "slide_type": "fragment"
    }
   },
   "source": [
    "* This table contains, for each marriage rating,\n",
    "    * the _fraction_ of marriages in the positive class, and\n",
    "    * the _fraction_ in the negative class\n",
    "* These are precisely the **Naive Bayes** tables we had seen in the last class."
   ]
  },
  {
   "cell_type": "code",
   "execution_count": 12,
   "metadata": {
    "slideshow": {
     "slide_type": "slide"
    }
   },
   "outputs": [
    {
     "data": {
      "text/plain": [
       "<matplotlib.axes._subplots.AxesSubplot at 0x10744550>"
      ]
     },
     "execution_count": 12,
     "metadata": {},
     "output_type": "execute_result"
    },
    {
     "data": {
      "image/png": "[encoded data removed]",
      "text/plain": [
       "<Figure size 432x288 with 1 Axes>"
      ]
     },
     "metadata": {
      "needs_background": "light"
     },
     "output_type": "display_data"
    }
   ],
   "source": [
    "rating_vs_target.plot(kind='bar')"
   ]
  },
  {
   "cell_type": "markdown",
   "metadata": {},
   "source": [
    "* When marriage rating is low (e.g., 1 and 2), target=1.0 (had affair) is much more likely.\n",
    "* When marriage rating is high (e.g., 5), target=0.0 (no affair) is more likely.\n",
    "* We expect to see this in the trained classifier as well."
   ]
  },
  {
   "cell_type": "markdown",
   "metadata": {
    "slideshow": {
     "slide_type": "slide"
    }
   },
   "source": [
    "## Split the data into training and testing sets"
   ]
  },
  {
   "cell_type": "code",
   "execution_count": 13,
   "metadata": {},
   "outputs": [],
   "source": [
    "from sklearn.model_selection import train_test_split\n",
    "X_train, X_test, y_train, y_test = train_test_split(X, y, test_size=0.3, random_state=1)"
   ]
  },
  {
   "cell_type": "markdown",
   "metadata": {
    "slideshow": {
     "slide_type": "fragment"
    }
   },
   "source": [
    "## Fit the classifier"
   ]
  },
  {
   "cell_type": "code",
   "execution_count": 14,
   "metadata": {
    "slideshow": {
     "slide_type": "fragment"
    }
   },
   "outputs": [
    {
     "name": "stderr",
     "output_type": "stream",
     "text": [
      "C:\\Users\\deepay\\AppData\\Roaming\\Python\\Python27\\site-packages\\sklearn\\linear_model\\logistic.py:433: FutureWarning: Default solver will be changed to 'lbfgs' in 0.22. Specify a solver to silence this warning.\n",
      "  FutureWarning)\n"
     ]
    }
   ],
   "source": [
    "from sklearn.linear_model import LogisticRegression\n",
    "model = LogisticRegression()\n",
    "result = model.fit(X_train, y_train)"
   ]
  },
  {
   "cell_type": "code",
   "execution_count": 15,
   "metadata": {
    "slideshow": {
     "slide_type": "fragment"
    }
   },
   "outputs": [
    {
     "name": "stdout",
     "output_type": "stream",
     "text": [
      "0.7237432675044884\n"
     ]
    }
   ],
   "source": [
    "from sklearn import metrics\n",
    "\n",
    "prediction_train = model.predict(X_train)\n",
    "print metrics.accuracy_score(y_train, prediction_train)"
   ]
  },
  {
   "cell_type": "markdown",
   "metadata": {
    "slideshow": {
     "slide_type": "slide"
    }
   },
   "source": [
    "### Accuracy on test set"
   ]
  },
  {
   "cell_type": "code",
   "execution_count": 16,
   "metadata": {},
   "outputs": [
    {
     "name": "stdout",
     "output_type": "stream",
     "text": [
      "0.7329842931937173\n"
     ]
    }
   ],
   "source": [
    "prediction = model.predict(X_test)\n",
    "print metrics.accuracy_score(y_test, prediction)"
   ]
  },
  {
   "cell_type": "markdown",
   "metadata": {},
   "source": [
    "Pretty much what we expected from accuracy on the training set."
   ]
  },
  {
   "cell_type": "markdown",
   "metadata": {
    "slideshow": {
     "slide_type": "fragment"
    }
   },
   "source": [
    "But what is baseline accuracy?"
   ]
  },
  {
   "cell_type": "markdown",
   "metadata": {
    "slideshow": {
     "slide_type": "fragment"
    }
   },
   "source": [
    "Baseline = predict the most frequent class"
   ]
  },
  {
   "cell_type": "code",
   "execution_count": 17,
   "metadata": {
    "slideshow": {
     "slide_type": "fragment"
    }
   },
   "outputs": [
    {
     "name": "stdout",
     "output_type": "stream",
     "text": [
      "Number of positive examples = 1442\n",
      "Number of negative examples = 3014\n"
     ]
    }
   ],
   "source": [
    "# y_train is 0 or 1.\n",
    "print 'Number of positive examples =', len(y_train[y_train==1])\n",
    "print 'Number of negative examples =', len(y_train[y_train==0])"
   ]
  },
  {
   "cell_type": "markdown",
   "metadata": {
    "slideshow": {
     "slide_type": "fragment"
    }
   },
   "source": [
    "Hence, baseline will be _always predicting the negative class_."
   ]
  },
  {
   "cell_type": "code",
   "execution_count": 18,
   "metadata": {
    "slideshow": {
     "slide_type": "fragment"
    }
   },
   "outputs": [
    {
     "name": "stdout",
     "output_type": "stream",
     "text": [
      "Number of examples where baseline is correct = 1299\n",
      "Baseline accuracy = 0.680104712042\n"
     ]
    }
   ],
   "source": [
    "negative_examples_in_test = len(y_test[y_test==0])\n",
    "total_examples_in_test = len(y_test)\n",
    "\n",
    "print 'Number of examples where baseline is correct =', negative_examples_in_test\n",
    "print 'Baseline accuracy =', negative_examples_in_test * 1.0 / total_examples_in_test"
   ]
  },
  {
   "cell_type": "markdown",
   "metadata": {
    "slideshow": {
     "slide_type": "slide"
    }
   },
   "source": [
    "## Feature weights\n",
    "\n",
    "What are the weights of each feature?"
   ]
  },
  {
   "cell_type": "code",
   "execution_count": 19,
   "metadata": {},
   "outputs": [
    {
     "data": {
      "text/plain": [
       "array([[-0.32240917,  0.24554282,  0.66796441,  0.41588189,  1.03084724,\n",
       "         0.87320238,  0.02886898,  0.11486998,  0.04056194,  0.02249202,\n",
       "         0.10939277, -0.67788044, -0.06222387,  0.11356752, -0.00874392,\n",
       "        -0.35753839,  0.00408687]])"
      ]
     },
     "execution_count": 19,
     "metadata": {},
     "output_type": "execute_result"
    }
   ],
   "source": [
    "model.coef_"
   ]
  },
  {
   "cell_type": "code",
   "execution_count": 20,
   "metadata": {
    "slideshow": {
     "slide_type": "fragment"
    }
   },
   "outputs": [
    {
     "data": {
      "text/plain": [
       "array([2.91102958])"
      ]
     },
     "execution_count": 20,
     "metadata": {},
     "output_type": "execute_result"
    }
   ],
   "source": [
    "# And the model intercept\n",
    "model.intercept_"
   ]
  },
  {
   "cell_type": "markdown",
   "metadata": {
    "slideshow": {
     "slide_type": "fragment"
    }
   },
   "source": [
    "Let us put these coefficients (i.e., the slopes) in a Series indexed by the feature names."
   ]
  },
  {
   "cell_type": "code",
   "execution_count": 21,
   "metadata": {
    "slideshow": {
     "slide_type": "slide"
    }
   },
   "outputs": [
    {
     "data": {
      "text/plain": [
       "rate_marriage               -0.677880\n",
       "religious                   -0.357538\n",
       "C(occupation)[1.0]          -0.322409\n",
       "age                         -0.062224\n",
       "children                    -0.008744\n",
       "educ                         0.004087\n",
       "C(occupation_husb)[T.5.0]    0.022492\n",
       "C(occupation_husb)[T.2.0]    0.028869\n",
       "C(occupation_husb)[T.4.0]    0.040562\n",
       "C(occupation_husb)[T.6.0]    0.109393\n",
       "yrs_married                  0.113568\n",
       "C(occupation_husb)[T.3.0]    0.114870\n",
       "C(occupation)[2.0]           0.245543\n",
       "C(occupation)[4.0]           0.415882\n",
       "C(occupation)[3.0]           0.667964\n",
       "C(occupation)[6.0]           0.873202\n",
       "C(occupation)[5.0]           1.030847\n",
       "dtype: float64"
      ]
     },
     "execution_count": 21,
     "metadata": {},
     "output_type": "execute_result"
    }
   ],
   "source": [
    "weights = Series(model.coef_[0],\n",
    "                 index=X.columns.values)\n",
    "weights.sort_values()"
   ]
  },
  {
   "cell_type": "markdown",
   "metadata": {},
   "source": [
    "**Observations**\n",
    "\n",
    "* rate_marriage has a **negative** weight\n",
    "    * a higher rating (higher $\\Rightarrow$ more satisfied with marriage)\n",
    "    * means less likely to have affair (target=0 more likely)\n",
    "* **occupation=5 and 6** has high positive weight $\\Rightarrow$ more likely to have affair\n",
    "    * These corresponds to... 'managerial/business' and 'professional with advanced degree'\n",
    "    * Life lessons, folks :-)\n",
    "* Curiously, **occupation_husb** doesn't seem to be as highly weighted."
   ]
  }
 ],
 "metadata": {
  "anaconda-cloud": {},
  "celltoolbar": "Slideshow",
  "kernelspec": {
   "display_name": "Python 2",
   "language": "python",
   "name": "python2"
  },
  "language_info": {
   "codemirror_mode": {
    "name": "ipython",
    "version": 2
   },
   "file_extension": ".py",
   "mimetype": "text/x-python",
   "name": "python",
   "nbconvert_exporter": "python",
   "pygments_lexer": "ipython2",
   "version": "2.7.15"
  }
 },
 "nbformat": 4,
 "nbformat_minor": 1
}
