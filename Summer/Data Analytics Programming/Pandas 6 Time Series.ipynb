{
 "cells": [
  {
   "cell_type": "markdown",
   "metadata": {
    "slideshow": {
     "slide_type": "slide"
    }
   },
   "source": [
    "# Pandas 6"
   ]
  },
  {
   "cell_type": "markdown",
   "metadata": {
    "slideshow": {
     "slide_type": "slide"
    }
   },
   "source": [
    "Pandas handles timestamps in a special way that makes it easy to work with time series. As this is particularly important for financial applications, this lecture will concentrate on time series processing.\n",
    "\n",
    "We will look at:\n",
    "\n",
    "* the datetime object,\n",
    "* indexing and slicing by time,\n",
    "* various operations on time series,\n",
    "* and, time permitting, we'll build a trading simulator."
   ]
  },
  {
   "cell_type": "code",
   "execution_count": 1,
   "metadata": {
    "slideshow": {
     "slide_type": "slide"
    }
   },
   "outputs": [
    {
     "name": "stdout",
     "output_type": "stream",
     "text": [
      "Populating the interactive namespace from numpy and matplotlib\n"
     ]
    }
   ],
   "source": [
    "from pandas import Series, DataFrame\n",
    "import pandas as pd\n",
    "%pylab inline"
   ]
  },
  {
   "cell_type": "code",
   "execution_count": 2,
   "metadata": {},
   "outputs": [],
   "source": [
    "# For time series analysis, we also need another module\n",
    "from datetime import datetime"
   ]
  },
  {
   "cell_type": "markdown",
   "metadata": {
    "slideshow": {
     "slide_type": "slide"
    }
   },
   "source": [
    "## Loading financial time series data"
   ]
  },
  {
   "cell_type": "code",
   "execution_count": 3,
   "metadata": {},
   "outputs": [
    {
     "data": {
      "text/html": [
       "<div>\n",
       "<style scoped>\n",
       "    .dataframe tbody tr th:only-of-type {\n",
       "        vertical-align: middle;\n",
       "    }\n",
       "\n",
       "    .dataframe tbody tr th {\n",
       "        vertical-align: top;\n",
       "    }\n",
       "\n",
       "    .dataframe thead th {\n",
       "        text-align: right;\n",
       "    }\n",
       "</style>\n",
       "<table border=\"1\" class=\"dataframe\">\n",
       "  <thead>\n",
       "    <tr style=\"text-align: right;\">\n",
       "      <th></th>\n",
       "      <th>Open</th>\n",
       "      <th>High</th>\n",
       "      <th>Low</th>\n",
       "      <th>Close</th>\n",
       "      <th>Volume</th>\n",
       "      <th>Adj Close</th>\n",
       "    </tr>\n",
       "    <tr>\n",
       "      <th>Date</th>\n",
       "      <th></th>\n",
       "      <th></th>\n",
       "      <th></th>\n",
       "      <th></th>\n",
       "      <th></th>\n",
       "      <th></th>\n",
       "    </tr>\n",
       "  </thead>\n",
       "  <tbody>\n",
       "    <tr>\n",
       "      <th>2011-01-03</th>\n",
       "      <td>325.64</td>\n",
       "      <td>330.26</td>\n",
       "      <td>324.84</td>\n",
       "      <td>329.57</td>\n",
       "      <td>111284600</td>\n",
       "      <td>44.59</td>\n",
       "    </tr>\n",
       "    <tr>\n",
       "      <th>2011-01-04</th>\n",
       "      <td>332.44</td>\n",
       "      <td>332.50</td>\n",
       "      <td>328.15</td>\n",
       "      <td>331.29</td>\n",
       "      <td>77270200</td>\n",
       "      <td>44.82</td>\n",
       "    </tr>\n",
       "    <tr>\n",
       "      <th>2011-01-05</th>\n",
       "      <td>329.55</td>\n",
       "      <td>334.34</td>\n",
       "      <td>329.50</td>\n",
       "      <td>334.00</td>\n",
       "      <td>63879900</td>\n",
       "      <td>45.18</td>\n",
       "    </tr>\n",
       "    <tr>\n",
       "      <th>2011-01-06</th>\n",
       "      <td>334.72</td>\n",
       "      <td>335.25</td>\n",
       "      <td>332.90</td>\n",
       "      <td>333.73</td>\n",
       "      <td>75107200</td>\n",
       "      <td>45.15</td>\n",
       "    </tr>\n",
       "    <tr>\n",
       "      <th>2011-01-07</th>\n",
       "      <td>333.99</td>\n",
       "      <td>336.35</td>\n",
       "      <td>331.90</td>\n",
       "      <td>336.12</td>\n",
       "      <td>77982800</td>\n",
       "      <td>45.47</td>\n",
       "    </tr>\n",
       "  </tbody>\n",
       "</table>\n",
       "</div>"
      ],
      "text/plain": [
       "              Open    High     Low   Close     Volume  Adj Close\n",
       "Date                                                            \n",
       "2011-01-03  325.64  330.26  324.84  329.57  111284600      44.59\n",
       "2011-01-04  332.44  332.50  328.15  331.29   77270200      44.82\n",
       "2011-01-05  329.55  334.34  329.50  334.00   63879900      45.18\n",
       "2011-01-06  334.72  335.25  332.90  333.73   75107200      45.15\n",
       "2011-01-07  333.99  336.35  331.90  336.12   77982800      45.47"
      ]
     },
     "execution_count": 3,
     "metadata": {},
     "output_type": "execute_result"
    }
   ],
   "source": [
    "# Data downloaded from Yahoo! Finance\n",
    "df = pd.read_csv('Pandas_6_data/aapl.csv') \n",
    "\n",
    "# Convert the 'Date' column into a datetime object\n",
    "df['Date'] = pd.to_datetime(df['Date'])\n",
    "\n",
    "# Set 'Date' as the index\n",
    "df.set_index('Date', inplace=True)\n",
    "df[:5]"
   ]
  },
  {
   "cell_type": "markdown",
   "metadata": {
    "slideshow": {
     "slide_type": "fragment"
    }
   },
   "source": [
    "Pandas also provides convenience functions to get data directly from web sources. For this, we need the _pandas-datareader_ module."
   ]
  },
  {
   "cell_type": "markdown",
   "metadata": {
    "slideshow": {
     "slide_type": "skip"
    }
   },
   "source": [
    "We need to install pandas-datareader.\n",
    "\n",
    "* Typically, just installing it from the GUI works, but there's currently a bug whose fix is in the \"dev\" version, but not in the version installed by default.\n",
    "\n",
    "* Install git  (this is a commonly used version control software). Then try\n",
    "> pip install git+https://github.com/pydata/pandas-datareader.git\n",
    "\n",
    "OR, try this:\n",
    "> git clone https://github.com/pydata/pandas-datareader.git\n",
    "\n",
    "> cd pandas-datareader\n",
    "\n",
    "> python setup.py install"
   ]
  },
  {
   "cell_type": "code",
   "execution_count": 4,
   "metadata": {
    "slideshow": {
     "slide_type": "slide"
    }
   },
   "outputs": [
    {
     "data": {
      "text/html": [
       "<div>\n",
       "<style scoped>\n",
       "    .dataframe tbody tr th:only-of-type {\n",
       "        vertical-align: middle;\n",
       "    }\n",
       "\n",
       "    .dataframe tbody tr th {\n",
       "        vertical-align: top;\n",
       "    }\n",
       "\n",
       "    .dataframe thead th {\n",
       "        text-align: right;\n",
       "    }\n",
       "</style>\n",
       "<table border=\"1\" class=\"dataframe\">\n",
       "  <thead>\n",
       "    <tr style=\"text-align: right;\">\n",
       "      <th></th>\n",
       "      <th>High</th>\n",
       "      <th>Low</th>\n",
       "      <th>Open</th>\n",
       "      <th>Close</th>\n",
       "      <th>Volume</th>\n",
       "      <th>Adj Close</th>\n",
       "    </tr>\n",
       "    <tr>\n",
       "      <th>Date</th>\n",
       "      <th></th>\n",
       "      <th></th>\n",
       "      <th></th>\n",
       "      <th></th>\n",
       "      <th></th>\n",
       "      <th></th>\n",
       "    </tr>\n",
       "  </thead>\n",
       "  <tbody>\n",
       "    <tr>\n",
       "      <th>2017-01-03</th>\n",
       "      <td>220.330002</td>\n",
       "      <td>210.960007</td>\n",
       "      <td>214.860001</td>\n",
       "      <td>216.990005</td>\n",
       "      <td>5923300</td>\n",
       "      <td>216.990005</td>\n",
       "    </tr>\n",
       "    <tr>\n",
       "      <th>2017-01-04</th>\n",
       "      <td>228.000000</td>\n",
       "      <td>214.309998</td>\n",
       "      <td>214.750000</td>\n",
       "      <td>226.990005</td>\n",
       "      <td>11213500</td>\n",
       "      <td>226.990005</td>\n",
       "    </tr>\n",
       "    <tr>\n",
       "      <th>2017-01-05</th>\n",
       "      <td>227.479996</td>\n",
       "      <td>221.949997</td>\n",
       "      <td>226.419998</td>\n",
       "      <td>226.750000</td>\n",
       "      <td>5911700</td>\n",
       "      <td>226.750000</td>\n",
       "    </tr>\n",
       "    <tr>\n",
       "      <th>2017-01-06</th>\n",
       "      <td>230.309998</td>\n",
       "      <td>225.449997</td>\n",
       "      <td>226.929993</td>\n",
       "      <td>229.009995</td>\n",
       "      <td>5527900</td>\n",
       "      <td>229.009995</td>\n",
       "    </tr>\n",
       "    <tr>\n",
       "      <th>2017-01-09</th>\n",
       "      <td>231.919998</td>\n",
       "      <td>228.000000</td>\n",
       "      <td>228.970001</td>\n",
       "      <td>231.279999</td>\n",
       "      <td>3957000</td>\n",
       "      <td>231.279999</td>\n",
       "    </tr>\n",
       "  </tbody>\n",
       "</table>\n",
       "</div>"
      ],
      "text/plain": [
       "                  High         Low        Open       Close    Volume  \\\n",
       "Date                                                                   \n",
       "2017-01-03  220.330002  210.960007  214.860001  216.990005   5923300   \n",
       "2017-01-04  228.000000  214.309998  214.750000  226.990005  11213500   \n",
       "2017-01-05  227.479996  221.949997  226.419998  226.750000   5911700   \n",
       "2017-01-06  230.309998  225.449997  226.929993  229.009995   5527900   \n",
       "2017-01-09  231.919998  228.000000  228.970001  231.279999   3957000   \n",
       "\n",
       "             Adj Close  \n",
       "Date                    \n",
       "2017-01-03  216.990005  \n",
       "2017-01-04  226.990005  \n",
       "2017-01-05  226.750000  \n",
       "2017-01-06  229.009995  \n",
       "2017-01-09  231.279999  "
      ]
     },
     "execution_count": 4,
     "metadata": {},
     "output_type": "execute_result"
    }
   ],
   "source": [
    "# Import the module for web downloads\n",
    "# (You will need to install the package \"pandas-datareader\")\n",
    "import pandas_datareader.data as web\n",
    "\n",
    "# Specify start and end dates to download\n",
    "start_date = datetime(2017, 1, 1) # January 1, 2016\n",
    "end_date = datetime(2019, 1, 1)   # January 1, 2018\n",
    "\n",
    "# Get Tesla stock from the Investors Exchange (IEX) for these dates\n",
    "df = web.DataReader('TSLA', 'yahoo', start_date, end_date)\n",
    "df.index = pd.to_datetime(df.index)\n",
    "\n",
    "df[:5]"
   ]
  },
  {
   "cell_type": "markdown",
   "metadata": {
    "slideshow": {
     "slide_type": "slide"
    }
   },
   "source": [
    "Note that this DataFrame has a special kind of index."
   ]
  },
  {
   "cell_type": "code",
   "execution_count": 5,
   "metadata": {
    "slideshow": {
     "slide_type": "-"
    }
   },
   "outputs": [
    {
     "data": {
      "text/plain": [
       "DatetimeIndex(['2017-01-03', '2017-01-04', '2017-01-05', '2017-01-06',\n",
       "               '2017-01-09', '2017-01-10', '2017-01-11', '2017-01-12',\n",
       "               '2017-01-13', '2017-01-17',\n",
       "               ...\n",
       "               '2018-12-17', '2018-12-18', '2018-12-19', '2018-12-20',\n",
       "               '2018-12-21', '2018-12-24', '2018-12-26', '2018-12-27',\n",
       "               '2018-12-28', '2018-12-31'],\n",
       "              dtype='datetime64[ns]', name=u'Date', length=502, freq=None)"
      ]
     },
     "execution_count": 5,
     "metadata": {},
     "output_type": "execute_result"
    }
   ],
   "source": [
    "df.index"
   ]
  },
  {
   "cell_type": "code",
   "execution_count": 6,
   "metadata": {
    "slideshow": {
     "slide_type": "fragment"
    }
   },
   "outputs": [
    {
     "data": {
      "text/plain": [
       "Timestamp('2017-01-10 00:00:00')"
      ]
     },
     "execution_count": 6,
     "metadata": {},
     "output_type": "execute_result"
    }
   ],
   "source": [
    "sixth_date = df.index[5]\n",
    "sixth_date"
   ]
  },
  {
   "cell_type": "code",
   "execution_count": 7,
   "metadata": {
    "slideshow": {
     "slide_type": "fragment"
    }
   },
   "outputs": [
    {
     "name": "stdout",
     "output_type": "stream",
     "text": [
      "2017-01-10 00:00:00 corresponds to\n",
      "year 2017\n",
      "month 1\n",
      "day 10\n",
      "day of the week 1\n",
      "quarter 1\n"
     ]
    }
   ],
   "source": [
    "# We can extract year, month, etc.\n",
    "print sixth_date, 'corresponds to'\n",
    "print 'year', sixth_date.year\n",
    "print 'month', sixth_date.month\n",
    "print 'day', sixth_date.day\n",
    "print 'day of the week', sixth_date.dayofweek  # Monday=0, ..., Sunday=6\n",
    "print 'quarter', sixth_date.quarter"
   ]
  },
  {
   "cell_type": "markdown",
   "metadata": {
    "slideshow": {
     "slide_type": "slide"
    }
   },
   "source": [
    "## Indexing in TimeSeries\n",
    "\n",
    "We can index into this DataFrame using such Timestamp objects."
   ]
  },
  {
   "cell_type": "code",
   "execution_count": 8,
   "metadata": {},
   "outputs": [
    {
     "data": {
      "text/plain": [
       "High         2.320000e+02\n",
       "Low          2.268900e+02\n",
       "Open         2.320000e+02\n",
       "Close        2.298700e+02\n",
       "Volume       3.660000e+06\n",
       "Adj Close    2.298700e+02\n",
       "Name: 2017-01-10 00:00:00, dtype: float64"
      ]
     },
     "execution_count": 8,
     "metadata": {},
     "output_type": "execute_result"
    }
   ],
   "source": [
    "df.loc[sixth_date]"
   ]
  },
  {
   "cell_type": "code",
   "execution_count": 9,
   "metadata": {
    "slideshow": {
     "slide_type": "fragment"
    }
   },
   "outputs": [
    {
     "data": {
      "text/plain": [
       "High         2.320000e+02\n",
       "Low          2.268900e+02\n",
       "Open         2.320000e+02\n",
       "Close        2.298700e+02\n",
       "Volume       3.660000e+06\n",
       "Adj Close    2.298700e+02\n",
       "Name: 2017-01-10 00:00:00, dtype: float64"
      ]
     },
     "execution_count": 9,
     "metadata": {},
     "output_type": "execute_result"
    }
   ],
   "source": [
    "df.loc['1/10/2017']  # month/day/year"
   ]
  },
  {
   "cell_type": "code",
   "execution_count": 10,
   "metadata": {
    "slideshow": {
     "slide_type": "slide"
    }
   },
   "outputs": [
    {
     "data": {
      "text/plain": [
       "High         2.320000e+02\n",
       "Low          2.268900e+02\n",
       "Open         2.320000e+02\n",
       "Close        2.298700e+02\n",
       "Volume       3.660000e+06\n",
       "Adj Close    2.298700e+02\n",
       "Name: 2017-01-10 00:00:00, dtype: float64"
      ]
     },
     "execution_count": 10,
     "metadata": {},
     "output_type": "execute_result"
    }
   ],
   "source": [
    "df.loc['2017-01-10'] # year-month-day"
   ]
  },
  {
   "cell_type": "code",
   "execution_count": 11,
   "metadata": {
    "slideshow": {
     "slide_type": "fragment"
    }
   },
   "outputs": [
    {
     "data": {
      "text/plain": [
       "High         2.320000e+02\n",
       "Low          2.268900e+02\n",
       "Open         2.320000e+02\n",
       "Close        2.298700e+02\n",
       "Volume       3.660000e+06\n",
       "Adj Close    2.298700e+02\n",
       "Name: 2017-01-10 00:00:00, dtype: float64"
      ]
     },
     "execution_count": 11,
     "metadata": {},
     "output_type": "execute_result"
    }
   ],
   "source": [
    "df.loc[datetime(year=2017, month=1, day=10)]"
   ]
  },
  {
   "cell_type": "markdown",
   "metadata": {
    "slideshow": {
     "slide_type": "slide"
    }
   },
   "source": [
    "## Slicing in Time Series\n",
    "\n",
    "We can also use any of the indexing methods above to select out slices of a time series."
   ]
  },
  {
   "cell_type": "code",
   "execution_count": 12,
   "metadata": {
    "slideshow": {
     "slide_type": "fragment"
    }
   },
   "outputs": [
    {
     "data": {
      "text/html": [
       "<div>\n",
       "<style scoped>\n",
       "    .dataframe tbody tr th:only-of-type {\n",
       "        vertical-align: middle;\n",
       "    }\n",
       "\n",
       "    .dataframe tbody tr th {\n",
       "        vertical-align: top;\n",
       "    }\n",
       "\n",
       "    .dataframe thead th {\n",
       "        text-align: right;\n",
       "    }\n",
       "</style>\n",
       "<table border=\"1\" class=\"dataframe\">\n",
       "  <thead>\n",
       "    <tr style=\"text-align: right;\">\n",
       "      <th></th>\n",
       "      <th>High</th>\n",
       "      <th>Low</th>\n",
       "      <th>Open</th>\n",
       "      <th>Close</th>\n",
       "      <th>Volume</th>\n",
       "      <th>Adj Close</th>\n",
       "    </tr>\n",
       "    <tr>\n",
       "      <th>Date</th>\n",
       "      <th></th>\n",
       "      <th></th>\n",
       "      <th></th>\n",
       "      <th></th>\n",
       "      <th></th>\n",
       "      <th></th>\n",
       "    </tr>\n",
       "  </thead>\n",
       "  <tbody>\n",
       "    <tr>\n",
       "      <th>2017-01-03</th>\n",
       "      <td>220.330002</td>\n",
       "      <td>210.960007</td>\n",
       "      <td>214.860001</td>\n",
       "      <td>216.990005</td>\n",
       "      <td>5923300</td>\n",
       "      <td>216.990005</td>\n",
       "    </tr>\n",
       "    <tr>\n",
       "      <th>2017-01-04</th>\n",
       "      <td>228.000000</td>\n",
       "      <td>214.309998</td>\n",
       "      <td>214.750000</td>\n",
       "      <td>226.990005</td>\n",
       "      <td>11213500</td>\n",
       "      <td>226.990005</td>\n",
       "    </tr>\n",
       "    <tr>\n",
       "      <th>2017-01-05</th>\n",
       "      <td>227.479996</td>\n",
       "      <td>221.949997</td>\n",
       "      <td>226.419998</td>\n",
       "      <td>226.750000</td>\n",
       "      <td>5911700</td>\n",
       "      <td>226.750000</td>\n",
       "    </tr>\n",
       "    <tr>\n",
       "      <th>2017-01-06</th>\n",
       "      <td>230.309998</td>\n",
       "      <td>225.449997</td>\n",
       "      <td>226.929993</td>\n",
       "      <td>229.009995</td>\n",
       "      <td>5527900</td>\n",
       "      <td>229.009995</td>\n",
       "    </tr>\n",
       "    <tr>\n",
       "      <th>2017-01-09</th>\n",
       "      <td>231.919998</td>\n",
       "      <td>228.000000</td>\n",
       "      <td>228.970001</td>\n",
       "      <td>231.279999</td>\n",
       "      <td>3957000</td>\n",
       "      <td>231.279999</td>\n",
       "    </tr>\n",
       "    <tr>\n",
       "      <th>2017-01-10</th>\n",
       "      <td>232.000000</td>\n",
       "      <td>226.889999</td>\n",
       "      <td>232.000000</td>\n",
       "      <td>229.869995</td>\n",
       "      <td>3660000</td>\n",
       "      <td>229.869995</td>\n",
       "    </tr>\n",
       "  </tbody>\n",
       "</table>\n",
       "</div>"
      ],
      "text/plain": [
       "                  High         Low        Open       Close    Volume  \\\n",
       "Date                                                                   \n",
       "2017-01-03  220.330002  210.960007  214.860001  216.990005   5923300   \n",
       "2017-01-04  228.000000  214.309998  214.750000  226.990005  11213500   \n",
       "2017-01-05  227.479996  221.949997  226.419998  226.750000   5911700   \n",
       "2017-01-06  230.309998  225.449997  226.929993  229.009995   5527900   \n",
       "2017-01-09  231.919998  228.000000  228.970001  231.279999   3957000   \n",
       "2017-01-10  232.000000  226.889999  232.000000  229.869995   3660000   \n",
       "\n",
       "             Adj Close  \n",
       "Date                    \n",
       "2017-01-03  216.990005  \n",
       "2017-01-04  226.990005  \n",
       "2017-01-05  226.750000  \n",
       "2017-01-06  229.009995  \n",
       "2017-01-09  231.279999  \n",
       "2017-01-10  229.869995  "
      ]
     },
     "execution_count": 12,
     "metadata": {},
     "output_type": "execute_result"
    }
   ],
   "source": [
    "df.loc['1/1/2017':'1/10/2017']"
   ]
  },
  {
   "cell_type": "markdown",
   "metadata": {
    "slideshow": {
     "slide_type": "slide"
    }
   },
   "source": [
    "In addition, Pandas allows us to easily slice by month or year as well."
   ]
  },
  {
   "cell_type": "code",
   "execution_count": 13,
   "metadata": {},
   "outputs": [
    {
     "data": {
      "text/plain": [
       "Date\n",
       "2017-05-01    322.829987\n",
       "2017-05-02    318.890015\n",
       "2017-05-03    311.019989\n",
       "2017-05-04    295.459991\n",
       "2017-05-05    308.350006\n",
       "2017-05-08    307.190002\n",
       "2017-05-09    321.260010\n",
       "2017-05-10    325.220001\n",
       "2017-05-11    323.100006\n",
       "2017-05-12    324.809998\n",
       "2017-05-15    315.880005\n",
       "2017-05-16    317.010010\n",
       "2017-05-17    306.109985\n",
       "2017-05-18    313.059998\n",
       "2017-05-19    310.829987\n",
       "2017-05-22    310.350006\n",
       "2017-05-23    303.859985\n",
       "2017-05-24    310.220001\n",
       "2017-05-25    316.829987\n",
       "2017-05-26    325.140015\n",
       "2017-05-30    335.100006\n",
       "2017-05-31    341.010010\n",
       "Name: Close, dtype: float64"
      ]
     },
     "execution_count": 13,
     "metadata": {},
     "output_type": "execute_result"
    }
   ],
   "source": [
    "closings = df['Close']  # Select one column from our DataFrame; this is a Series\n",
    "closings['2017-05']"
   ]
  },
  {
   "cell_type": "code",
   "execution_count": 14,
   "metadata": {
    "slideshow": {
     "slide_type": "slide"
    }
   },
   "outputs": [
    {
     "data": {
      "text/plain": [
       "Date\n",
       "2017-01-03    216.990005\n",
       "2017-01-04    226.990005\n",
       "2017-01-05    226.750000\n",
       "2017-01-06    229.009995\n",
       "2017-01-09    231.279999\n",
       "2017-01-10    229.869995\n",
       "2017-01-11    229.729996\n",
       "2017-01-12    229.589996\n",
       "2017-01-13    237.750000\n",
       "2017-01-17    235.580002\n",
       "2017-01-18    238.360001\n",
       "2017-01-19    243.759995\n",
       "2017-01-20    244.729996\n",
       "2017-01-23    248.919998\n",
       "2017-01-24    254.610001\n",
       "2017-01-25    254.470001\n",
       "2017-01-26    252.509995\n",
       "2017-01-27    252.949997\n",
       "2017-01-30    250.630005\n",
       "2017-01-31    251.929993\n",
       "2017-02-01    249.240005\n",
       "2017-02-02    251.550003\n",
       "2017-02-03    251.330002\n",
       "2017-02-06    257.769989\n",
       "2017-02-07    257.480011\n",
       "2017-02-08    262.079987\n",
       "2017-02-09    269.200012\n",
       "2017-02-10    269.230011\n",
       "2017-02-13    280.600006\n",
       "2017-02-14    280.980011\n",
       "                 ...    \n",
       "2017-11-16    312.500000\n",
       "2017-11-17    315.049988\n",
       "2017-11-20    308.739990\n",
       "2017-11-21    317.809998\n",
       "2017-11-22    312.600006\n",
       "2017-11-24    315.549988\n",
       "2017-11-27    316.809998\n",
       "2017-11-28    317.549988\n",
       "2017-11-29    307.540009\n",
       "2017-11-30    308.850006\n",
       "2017-12-01    306.529999\n",
       "2017-12-04    305.200012\n",
       "2017-12-05    303.700012\n",
       "2017-12-06    313.260010\n",
       "2017-12-07    311.239990\n",
       "2017-12-08    315.130005\n",
       "2017-12-11    328.910004\n",
       "2017-12-12    341.029999\n",
       "2017-12-13    339.029999\n",
       "2017-12-14    337.890015\n",
       "2017-12-15    343.450012\n",
       "2017-12-18    338.869995\n",
       "2017-12-19    331.100006\n",
       "2017-12-20    328.980011\n",
       "2017-12-21    331.660004\n",
       "2017-12-22    325.200012\n",
       "2017-12-26    317.290009\n",
       "2017-12-27    311.640015\n",
       "2017-12-28    315.359985\n",
       "2017-12-29    311.350006\n",
       "Name: Close, Length: 251, dtype: float64"
      ]
     },
     "execution_count": 14,
     "metadata": {},
     "output_type": "execute_result"
    }
   ],
   "source": [
    "closings['2017']"
   ]
  },
  {
   "cell_type": "markdown",
   "metadata": {
    "slideshow": {
     "slide_type": "slide"
    }
   },
   "source": [
    "The general solution to slicing is to create a range of dates and select a slice using that range. There are many options:\n",
    "\n",
    "* For calendar dates, use *date_range()*, with a common case being:\n",
    "\n",
    "   > date_range(start_date, end_date, freq)\n",
    "\n",
    "\n",
    "* The \"freq\" can be:\n",
    "    * 'D' for daily\n",
    "    * 'B' for each business day\n",
    "    * 'W-MON', 'W-TUE', ... for once a week on Monday, Tuesday, ...\n",
    "    * 'M' for monthly\n",
    "    * ...\n",
    "    * 'WOM-3FRI' for third Friday of the month (usual for option expiry dates)"
   ]
  },
  {
   "cell_type": "code",
   "execution_count": 15,
   "metadata": {
    "slideshow": {
     "slide_type": "fragment"
    }
   },
   "outputs": [
    {
     "data": {
      "text/plain": [
       "[Timestamp('2017-01-03 00:00:00', freq='W-TUE'),\n",
       " Timestamp('2017-01-10 00:00:00', freq='W-TUE'),\n",
       " Timestamp('2017-01-17 00:00:00', freq='W-TUE'),\n",
       " Timestamp('2017-01-24 00:00:00', freq='W-TUE'),\n",
       " Timestamp('2017-01-31 00:00:00', freq='W-TUE')]"
      ]
     },
     "execution_count": 15,
     "metadata": {},
     "output_type": "execute_result"
    }
   ],
   "source": [
    "dates = pd.date_range(start='1/3/2017', end='2/3/2017', freq='W-TUE')\n",
    "list(dates)"
   ]
  },
  {
   "cell_type": "code",
   "execution_count": 16,
   "metadata": {
    "slideshow": {
     "slide_type": "slide"
    }
   },
   "outputs": [
    {
     "data": {
      "text/html": [
       "<div>\n",
       "<style scoped>\n",
       "    .dataframe tbody tr th:only-of-type {\n",
       "        vertical-align: middle;\n",
       "    }\n",
       "\n",
       "    .dataframe tbody tr th {\n",
       "        vertical-align: top;\n",
       "    }\n",
       "\n",
       "    .dataframe thead th {\n",
       "        text-align: right;\n",
       "    }\n",
       "</style>\n",
       "<table border=\"1\" class=\"dataframe\">\n",
       "  <thead>\n",
       "    <tr style=\"text-align: right;\">\n",
       "      <th></th>\n",
       "      <th>High</th>\n",
       "      <th>Low</th>\n",
       "      <th>Open</th>\n",
       "      <th>Close</th>\n",
       "      <th>Volume</th>\n",
       "      <th>Adj Close</th>\n",
       "    </tr>\n",
       "  </thead>\n",
       "  <tbody>\n",
       "    <tr>\n",
       "      <th>2017-01-03</th>\n",
       "      <td>220.330002</td>\n",
       "      <td>210.960007</td>\n",
       "      <td>214.860001</td>\n",
       "      <td>216.990005</td>\n",
       "      <td>5923300</td>\n",
       "      <td>216.990005</td>\n",
       "    </tr>\n",
       "    <tr>\n",
       "      <th>2017-01-10</th>\n",
       "      <td>232.000000</td>\n",
       "      <td>226.889999</td>\n",
       "      <td>232.000000</td>\n",
       "      <td>229.869995</td>\n",
       "      <td>3660000</td>\n",
       "      <td>229.869995</td>\n",
       "    </tr>\n",
       "    <tr>\n",
       "      <th>2017-01-17</th>\n",
       "      <td>239.960007</td>\n",
       "      <td>234.369995</td>\n",
       "      <td>236.699997</td>\n",
       "      <td>235.580002</td>\n",
       "      <td>4611900</td>\n",
       "      <td>235.580002</td>\n",
       "    </tr>\n",
       "    <tr>\n",
       "      <th>2017-01-24</th>\n",
       "      <td>254.800003</td>\n",
       "      <td>249.649994</td>\n",
       "      <td>250.000000</td>\n",
       "      <td>254.610001</td>\n",
       "      <td>4965500</td>\n",
       "      <td>254.610001</td>\n",
       "    </tr>\n",
       "    <tr>\n",
       "      <th>2017-01-31</th>\n",
       "      <td>255.889999</td>\n",
       "      <td>247.699997</td>\n",
       "      <td>249.240005</td>\n",
       "      <td>251.929993</td>\n",
       "      <td>4116100</td>\n",
       "      <td>251.929993</td>\n",
       "    </tr>\n",
       "  </tbody>\n",
       "</table>\n",
       "</div>"
      ],
      "text/plain": [
       "                  High         Low        Open       Close   Volume  \\\n",
       "2017-01-03  220.330002  210.960007  214.860001  216.990005  5923300   \n",
       "2017-01-10  232.000000  226.889999  232.000000  229.869995  3660000   \n",
       "2017-01-17  239.960007  234.369995  236.699997  235.580002  4611900   \n",
       "2017-01-24  254.800003  249.649994  250.000000  254.610001  4965500   \n",
       "2017-01-31  255.889999  247.699997  249.240005  251.929993  4116100   \n",
       "\n",
       "             Adj Close  \n",
       "2017-01-03  216.990005  \n",
       "2017-01-10  229.869995  \n",
       "2017-01-17  235.580002  \n",
       "2017-01-24  254.610001  \n",
       "2017-01-31  251.929993  "
      ]
     },
     "execution_count": 16,
     "metadata": {},
     "output_type": "execute_result"
    }
   ],
   "source": [
    "df.loc[dates]"
   ]
  },
  {
   "cell_type": "markdown",
   "metadata": {
    "slideshow": {
     "slide_type": "slide"
    }
   },
   "source": [
    "## Shifting time series\n",
    "\n",
    "One special operation with time series is to move backward or forward in time. For instance:\n",
    "\n",
    "### What is the percentage daily change in closing price?"
   ]
  },
  {
   "cell_type": "code",
   "execution_count": 17,
   "metadata": {
    "slideshow": {
     "slide_type": "fragment"
    }
   },
   "outputs": [
    {
     "data": {
      "text/plain": [
       "Date\n",
       "2017-01-03    216.990005\n",
       "2017-01-04    226.990005\n",
       "2017-01-05    226.750000\n",
       "2017-01-06    229.009995\n",
       "2017-01-09    231.279999\n",
       "2017-01-10    229.869995\n",
       "2017-01-11    229.729996\n",
       "2017-01-12    229.589996\n",
       "2017-01-13    237.750000\n",
       "2017-01-17    235.580002\n",
       "Name: Close, dtype: float64"
      ]
     },
     "execution_count": 17,
     "metadata": {},
     "output_type": "execute_result"
    }
   ],
   "source": [
    "closes = df['Close']\n",
    "closes[:10]"
   ]
  },
  {
   "cell_type": "code",
   "execution_count": 18,
   "metadata": {
    "slideshow": {
     "slide_type": "slide"
    }
   },
   "outputs": [
    {
     "data": {
      "text/plain": [
       "Date\n",
       "2017-01-03           NaN\n",
       "2017-01-04    216.990005\n",
       "2017-01-05    226.990005\n",
       "2017-01-06    226.750000\n",
       "2017-01-09    229.009995\n",
       "Name: Close, dtype: float64"
      ]
     },
     "execution_count": 18,
     "metadata": {},
     "output_type": "execute_result"
    }
   ],
   "source": [
    "yesterdays_closes = closes.shift(1)\n",
    "yesterdays_closes[:5]"
   ]
  },
  {
   "cell_type": "code",
   "execution_count": 19,
   "metadata": {
    "slideshow": {
     "slide_type": "fragment"
    }
   },
   "outputs": [
    {
     "data": {
      "text/plain": [
       "Date\n",
       "2017-01-03         NaN\n",
       "2017-01-04    4.608507\n",
       "2017-01-05   -0.105734\n",
       "2017-01-06    0.996690\n",
       "2017-01-09    0.991225\n",
       "Name: percent change, dtype: float64"
      ]
     },
     "execution_count": 19,
     "metadata": {},
     "output_type": "execute_result"
    }
   ],
   "source": [
    "df['percent change'] = (closes / yesterdays_closes - 1) * 100\n",
    "df['percent change'][:5]"
   ]
  },
  {
   "cell_type": "markdown",
   "metadata": {
    "slideshow": {
     "slide_type": "slide"
    }
   },
   "source": [
    "## Aggregate total trading volume by month\n",
    "\n",
    "This is accomplished using the _resample()_ method. For example:"
   ]
  },
  {
   "cell_type": "code",
   "execution_count": 20,
   "metadata": {
    "slideshow": {
     "slide_type": "fragment"
    }
   },
   "outputs": [
    {
     "data": {
      "text/plain": [
       "Date\n",
       "2017-01    100651500\n",
       "2017-02    119524200\n",
       "2017-03    107035300\n",
       "2017-04    116908500\n",
       "2017-05    148046300\n",
       "2017-06    185899400\n",
       "2017-07    181640000\n",
       "2017-08    136925100\n",
       "2017-09    111512700\n",
       "2017-10    123036700\n",
       "Freq: M, Name: Volume, dtype: int64"
      ]
     },
     "execution_count": 20,
     "metadata": {},
     "output_type": "execute_result"
    }
   ],
   "source": [
    "df['Volume'].resample('M', kind='period').sum()[:10]"
   ]
  },
  {
   "cell_type": "markdown",
   "metadata": {
    "slideshow": {
     "slide_type": "fragment"
    }
   },
   "source": [
    "Let us understand the details of this function.\n",
    "\n",
    "    df['volume'].resample('M', kind='period').sum()\n",
    "\n",
    "* This takes the Volume series, which is indexed on a daily basis,\n",
    "* _\"resamples\"_ it on a monthly basis (the 'M'),\n",
    "*  using the corresponding period as the index, e.g., the month '2017-01',\n",
    "* and aggregates the volumes on all days in the month using the 'sum' function."
   ]
  },
  {
   "cell_type": "markdown",
   "metadata": {
    "slideshow": {
     "slide_type": "slide"
    }
   },
   "source": [
    "### Find the average closing price every week"
   ]
  },
  {
   "cell_type": "code",
   "execution_count": 21,
   "metadata": {
    "slideshow": {
     "slide_type": "fragment"
    }
   },
   "outputs": [
    {
     "data": {
      "text/plain": [
       "Date\n",
       "2017-01-02/2017-01-08    224.935001\n",
       "2017-01-09/2017-01-15    231.643997\n",
       "2017-01-16/2017-01-22    240.607498\n",
       "2017-01-23/2017-01-29    252.691998\n",
       "2017-01-30/2017-02-05    250.936002\n",
       "2017-02-06/2017-02-12    263.152002\n",
       "2017-02-13/2017-02-19    276.504010\n",
       "2017-02-20/2017-02-26    265.972507\n",
       "2017-02-27/2017-03-05    249.658002\n",
       "2017-03-06/2017-03-12    247.051999\n",
       "Freq: W-SUN, Name: Close, dtype: float64"
      ]
     },
     "execution_count": 21,
     "metadata": {},
     "output_type": "execute_result"
    }
   ],
   "source": [
    "df['Close'].resample('W', kind='period').mean()[:10]"
   ]
  },
  {
   "cell_type": "markdown",
   "metadata": {
    "slideshow": {
     "slide_type": "slide"
    }
   },
   "source": [
    "## Moving averages\n",
    "\n",
    "A common statistical technique is to smooth a time series by averaging over a time window. For example, a weekly moving average of a time series has, for each day, the average value of the time series over the previous week.\n",
    "\n",
    "### Get the 30-day moving average"
   ]
  },
  {
   "cell_type": "code",
   "execution_count": 22,
   "metadata": {
    "slideshow": {
     "slide_type": "fragment"
    }
   },
   "outputs": [
    {
     "data": {
      "text/plain": [
       "Date\n",
       "2017-01-10           NaN\n",
       "2017-01-11           NaN\n",
       "2017-01-12           NaN\n",
       "2017-01-13           NaN\n",
       "2017-01-17    229.353999\n",
       "2017-01-18    230.172727\n",
       "2017-01-19    231.304999\n",
       "Name: Close, dtype: float64"
      ]
     },
     "execution_count": 22,
     "metadata": {},
     "output_type": "execute_result"
    }
   ],
   "source": [
    "moving_avg_30 = df['Close'].rolling(window=30, min_periods=10).mean()\n",
    "moving_avg_30[5:12]"
   ]
  },
  {
   "cell_type": "markdown",
   "metadata": {
    "slideshow": {
     "slide_type": "slide"
    }
   },
   "source": [
    "What does this mean?\n",
    "\n",
    "    df['Close'].rolling(window=30, min_periods=10).mean()\n",
    "\n",
    "* **df['Close']**: use this time series\n",
    "\n",
    "* **window=30**: take a window of closes over the past 30 days\n",
    "\n",
    "* **min_periods=10**: If the past 30 days don't exist (say, today is the 25th day from the start of the time series), what do we do? This option says:\n",
    "    * for the first 10 days of the time series, the moving average doesn't exist (NaN)\n",
    "    * from the 10th to 30th day, take the average of as many days as are available (so for the 25th day, we average the past 25 days)\n",
    "    * from the 30th day onwards, take the average of the past 30 days\n",
    "\n",
    "* **mean()**: Compute the mean for this rolling window"
   ]
  },
  {
   "cell_type": "markdown",
   "metadata": {
    "slideshow": {
     "slide_type": "slide"
    }
   },
   "source": [
    "### Plot the daily closes and the 30-day moving average"
   ]
  },
  {
   "cell_type": "code",
   "execution_count": 23,
   "metadata": {
    "slideshow": {
     "slide_type": "fragment"
    }
   },
   "outputs": [
    {
     "data": {
      "image/png": "[encoded data removed]",
      "text/plain": [
       "<Figure size 432x288 with 1 Axes>"
      ]
     },
     "metadata": {
      "needs_background": "light"
     },
     "output_type": "display_data"
    }
   ],
   "source": [
    "df['Close'].plot(label='Daily close')\n",
    "df['Close'].rolling(window=30, min_periods=10).mean().plot(label='30-day average')\n",
    "ylabel('Stock price')\n",
    "legend(loc='best')\n",
    "show()"
   ]
  },
  {
   "cell_type": "markdown",
   "metadata": {
    "slideshow": {
     "slide_type": "fragment"
    }
   },
   "source": [
    "Notice how the x-axis labels automatically say the name of the month, not the ugly \"2017-05-01\" stuff."
   ]
  },
  {
   "cell_type": "markdown",
   "metadata": {
    "slideshow": {
     "slide_type": "slide"
    }
   },
   "source": [
    "## Trading simulator\n",
    "\n",
    "A common trading rule says: buy when the 30-day moving average goes above the 180-day moving average (the BUY rule), and sell when it goes below (the SELL rule)."
   ]
  },
  {
   "cell_type": "markdown",
   "metadata": {
    "slideshow": {
     "slide_type": "fragment"
    }
   },
   "source": [
    "Let us assume you buy 1 share at the closing price the very day the BUY rule triggers, and sell that 1 share the day the SELL rule triggers. (This is cheating a little because we need that day's closing price to compute the averages, but let's gloss over that.) At the end, we want the overall return.\n",
    "\n",
    "How do we do this?"
   ]
  },
  {
   "cell_type": "markdown",
   "metadata": {
    "slideshow": {
     "slide_type": "slide"
    }
   },
   "source": [
    "* Step 1: Compute the daily return ratio, i.e., the ratio of today's closing price to yesterday's closing price.\n",
    "* Step 2: Create a mask of the days when I hold the share, i.e., the BUY rule has triggered, but the SELL rule has not.\n",
    "* Step 3: Compute the cumulative return ratio over the days of the mask. This is the product of the return ratios on the days I hold the share.\n",
    "\n"
   ]
  },
  {
   "cell_type": "markdown",
   "metadata": {
    "slideshow": {
     "slide_type": "slide"
    }
   },
   "source": [
    "**Step 1: Daily returns**\n",
    "\n",
    "We've already seen this."
   ]
  },
  {
   "cell_type": "code",
   "execution_count": 24,
   "metadata": {
    "slideshow": {
     "slide_type": "fragment"
    }
   },
   "outputs": [
    {
     "data": {
      "text/plain": [
       "Date\n",
       "2017-01-03         NaN\n",
       "2017-01-04    1.046085\n",
       "2017-01-05    0.998943\n",
       "2017-01-06    1.009967\n",
       "2017-01-09    1.009912\n",
       "2017-01-10    0.993903\n",
       "2017-01-11    0.999391\n",
       "2017-01-12    0.999391\n",
       "2017-01-13    1.035542\n",
       "2017-01-17    0.990873\n",
       "Name: Close, dtype: float64"
      ]
     },
     "execution_count": 24,
     "metadata": {},
     "output_type": "execute_result"
    }
   ],
   "source": [
    "closes = df['Close']\n",
    "daily_return_ratio = closes / closes.shift(1)\n",
    "daily_return_ratio[:10]"
   ]
  },
  {
   "cell_type": "markdown",
   "metadata": {
    "slideshow": {
     "slide_type": "slide"
    }
   },
   "source": [
    "**Step 2: Mask of days when we hold share**\n",
    "\n",
    "How do we do this?"
   ]
  },
  {
   "cell_type": "markdown",
   "metadata": {
    "slideshow": {
     "slide_type": "fragment"
    }
   },
   "source": [
    "* Compute the 30-day and 180-day moving averages"
   ]
  },
  {
   "cell_type": "markdown",
   "metadata": {
    "slideshow": {
     "slide_type": "fragment"
    }
   },
   "source": [
    "* Find the days when the 30-day average is greater than the 180-day average."
   ]
  },
  {
   "cell_type": "markdown",
   "metadata": {
    "slideshow": {
     "slide_type": "fragment"
    }
   },
   "source": [
    "* On which days do I hold the share?"
   ]
  },
  {
   "cell_type": "markdown",
   "metadata": {
    "slideshow": {
     "slide_type": "slide"
    }
   },
   "source": [
    " Consider the following example:\n",
    "\n",
    "* The 30-day average is greater than the 180-day average on 5th Jan, 6th Jan, ..., 11th Jan. It falls below the 180-day average on 12th Jan."
   ]
  },
  {
   "cell_type": "markdown",
   "metadata": {
    "slideshow": {
     "slide_type": "fragment"
    }
   },
   "source": [
    "* So we buy the share at close of 5th Jan, sell at the close of 12th Jan."
   ]
  },
  {
   "cell_type": "markdown",
   "metadata": {
    "slideshow": {
     "slide_type": "fragment"
    }
   },
   "source": [
    "* Hence we _held_ the share (and got its returns) for 6th Jan, 7th Jan, ..., 12th Jan."
   ]
  },
  {
   "cell_type": "markdown",
   "metadata": {
    "slideshow": {
     "slide_type": "fragment"
    }
   },
   "source": [
    "* On which days do I hold the share?\n",
    "    * The days we hold the share is shifted one day from the period the 30-day moving average is higher."
   ]
  },
  {
   "cell_type": "markdown",
   "metadata": {
    "slideshow": {
     "slide_type": "slide"
    }
   },
   "source": [
    "**Step 2: Mask of days when we hold share**\n",
    "\n",
    "1. Compute the 30-day and 180-day moving averages\n",
    "2. Find the days when the 30-day average is greater than the 180-day average.\n",
    "3. The days we hold the share is shifted one day from the periods found in Step 2."
   ]
  },
  {
   "cell_type": "markdown",
   "metadata": {
    "slideshow": {
     "slide_type": "slide"
    }
   },
   "source": [
    "**Step 2.1:** Moving averages"
   ]
  },
  {
   "cell_type": "code",
   "execution_count": 25,
   "metadata": {
    "slideshow": {
     "slide_type": "fragment"
    }
   },
   "outputs": [
    {
     "data": {
      "image/png": "[encoded data removed]",
      "text/plain": [
       "<Figure size 432x288 with 1 Axes>"
      ]
     },
     "metadata": {
      "needs_background": "light"
     },
     "output_type": "display_data"
    }
   ],
   "source": [
    "mavg_30 = closes.rolling(window=30, min_periods=10).mean()\n",
    "mavg_180 = closes.rolling(window=180, min_periods=10).mean()\n",
    "\n",
    "closes.plot(label='Daily close')\n",
    "mavg_30.plot(label='30-day average')\n",
    "mavg_180.plot(label='180-day average')\n",
    "ylabel('Stock price')\n",
    "legend(loc='best')\n",
    "figsize(8,6)"
   ]
  },
  {
   "cell_type": "markdown",
   "metadata": {
    "slideshow": {
     "slide_type": "slide"
    }
   },
   "source": [
    "**Step 2.2:** Find the days the 30-day average is greater."
   ]
  },
  {
   "cell_type": "code",
   "execution_count": 26,
   "metadata": {
    "slideshow": {
     "slide_type": "fragment"
    }
   },
   "outputs": [
    {
     "data": {
      "text/plain": [
       "Date\n",
       "2017-02-08    False\n",
       "2017-02-09    False\n",
       "2017-02-10    False\n",
       "2017-02-13    False\n",
       "2017-02-14    False\n",
       "2017-02-15     True\n",
       "2017-02-16     True\n",
       "2017-02-17     True\n",
       "2017-02-21     True\n",
       "2017-02-22     True\n",
       "Name: Close, dtype: bool"
      ]
     },
     "execution_count": 26,
     "metadata": {},
     "output_type": "execute_result"
    }
   ],
   "source": [
    "mavg_30_is_greater = (mavg_30 > mavg_180)\n",
    "mavg_30_is_greater['2017-02-08':'2017-02-22']"
   ]
  },
  {
   "cell_type": "markdown",
   "metadata": {
    "slideshow": {
     "slide_type": "slide"
    }
   },
   "source": [
    "**Step 2.3:** Hold on the days the 30-day moving average is greater, but shifted by 1."
   ]
  },
  {
   "cell_type": "code",
   "execution_count": 27,
   "metadata": {
    "slideshow": {
     "slide_type": "fragment"
    }
   },
   "outputs": [
    {
     "data": {
      "text/plain": [
       "Date\n",
       "2017-02-08    False\n",
       "2017-02-09    False\n",
       "2017-02-10    False\n",
       "2017-02-13    False\n",
       "2017-02-14    False\n",
       "2017-02-15    False\n",
       "2017-02-16     True\n",
       "2017-02-17     True\n",
       "2017-02-21     True\n",
       "2017-02-22     True\n",
       "Name: Close, dtype: object"
      ]
     },
     "execution_count": 27,
     "metadata": {},
     "output_type": "execute_result"
    }
   ],
   "source": [
    "hold_days = mavg_30_is_greater.shift(1)\n",
    "hold_days['2017-02-08':'2017-02-22']"
   ]
  },
  {
   "cell_type": "markdown",
   "metadata": {
    "slideshow": {
     "slide_type": "slide"
    }
   },
   "source": [
    "The story so far:\n",
    "\n",
    "* We computed daily returns\n",
    "* We computed the days on which we hold the share\n",
    "\n",
    "What's left?"
   ]
  },
  {
   "cell_type": "markdown",
   "metadata": {
    "slideshow": {
     "slide_type": "fragment"
    }
   },
   "source": [
    "* Compute daily returns just on the days we hold the share\n",
    "    * and take the product of these daily returns"
   ]
  },
  {
   "cell_type": "code",
   "execution_count": 28,
   "metadata": {
    "slideshow": {
     "slide_type": "slide"
    }
   },
   "outputs": [
    {
     "data": {
      "text/plain": [
       "Date\n",
       "2017-01-03      NaN\n",
       "2017-01-04    False\n",
       "2017-01-05    False\n",
       "Name: Close, dtype: object"
      ]
     },
     "execution_count": 28,
     "metadata": {},
     "output_type": "execute_result"
    }
   ],
   "source": [
    "# One little problem\n",
    "hold_days[0:3]"
   ]
  },
  {
   "cell_type": "markdown",
   "metadata": {},
   "source": [
    "The first date is NaN, because of the shift(). We cannot use hold_days as a mask for daily_return_ratio because the mask must contain only False or True. So let's fix it."
   ]
  },
  {
   "cell_type": "code",
   "execution_count": 29,
   "metadata": {
    "slideshow": {
     "slide_type": "fragment"
    }
   },
   "outputs": [
    {
     "data": {
      "text/plain": [
       "Date\n",
       "2017-01-03    False\n",
       "2017-01-04    False\n",
       "2017-01-05    False\n",
       "Name: Close, dtype: bool"
      ]
     },
     "execution_count": 29,
     "metadata": {},
     "output_type": "execute_result"
    }
   ],
   "source": [
    "hold_days = hold_days.fillna(False)  # we don't hold shares on the first day\n",
    "hold_days[0:3]"
   ]
  },
  {
   "cell_type": "markdown",
   "metadata": {
    "slideshow": {
     "slide_type": "fragment"
    }
   },
   "source": [
    "Let's see the period when we hold the share"
   ]
  },
  {
   "cell_type": "code",
   "execution_count": 30,
   "metadata": {
    "slideshow": {
     "slide_type": "slide"
    }
   },
   "outputs": [
    {
     "data": {
      "text/plain": [
       "[]"
      ]
     },
     "execution_count": 30,
     "metadata": {},
     "output_type": "execute_result"
    },
    {
     "data": {
      "image/png": "[encoded data removed]",
      "text/plain": [
       "<Figure size 576x432 with 2 Axes>"
      ]
     },
     "metadata": {
      "needs_background": "light"
     },
     "output_type": "display_data"
    }
   ],
   "source": [
    "fig, (ax1, ax2) = subplots(nrows=2,\n",
    "                           ncols=1,\n",
    "                           sharex=True,\n",
    "                           figsize=(8, 6))\n",
    "\n",
    "closes.plot(ax=ax1, label='Daily close')\n",
    "mavg_30.plot(ax=ax1, label='30-day average')\n",
    "mavg_180.plot(ax=ax1, label='180-day average')\n",
    "ax1.legend(loc='best')\n",
    "ax1.set_ylabel('Stock price')\n",
    "\n",
    "hold_days.astype(int).plot(ax=ax2, ylim=[0,2], label='Moving average signal')\n",
    "ax2.legend(loc='best')\n",
    "ax2.yaxis.set_ticklabels([])"
   ]
  },
  {
   "cell_type": "markdown",
   "metadata": {
    "slideshow": {
     "slide_type": "slide"
    }
   },
   "source": [
    "**Finally: Compute cumulative return**"
   ]
  },
  {
   "cell_type": "code",
   "execution_count": 31,
   "metadata": {},
   "outputs": [
    {
     "data": {
      "text/plain": [
       "Date\n",
       "2017-02-16    0.961360\n",
       "2017-02-17    1.012196\n",
       "2017-02-21    1.018955\n",
       "2017-02-22    0.986012\n",
       "2017-02-23    0.935944\n",
       "Name: Close, dtype: float64"
      ]
     },
     "execution_count": 31,
     "metadata": {},
     "output_type": "execute_result"
    }
   ],
   "source": [
    "# What are the returns on the days we hold the share?\n",
    "s = daily_return_ratio[hold_days]\n",
    "s[:5]"
   ]
  },
  {
   "cell_type": "code",
   "execution_count": 32,
   "metadata": {},
   "outputs": [
    {
     "name": "stdout",
     "output_type": "stream",
     "text": [
      "Overall return ratio = 0.8370277829632601\n"
     ]
    }
   ],
   "source": [
    "# Overall return is the product of the returns on each day we held a share.\n",
    "print 'Overall return ratio =', s.prod()"
   ]
  },
  {
   "cell_type": "markdown",
   "metadata": {
    "slideshow": {
     "slide_type": "fragment"
    }
   },
   "source": [
    "Is this good? Let's compare to a buy-and-hold strategy, where we buy on the first day and sell on the last."
   ]
  },
  {
   "cell_type": "code",
   "execution_count": 33,
   "metadata": {
    "slideshow": {
     "slide_type": "fragment"
    }
   },
   "outputs": [
    {
     "name": "stdout",
     "output_type": "stream",
     "text": [
      "Return of buy-and-hold = 1.5337111358497735\n"
     ]
    }
   ],
   "source": [
    "print 'Return of buy-and-hold =', daily_return_ratio.prod()"
   ]
  },
  {
   "cell_type": "markdown",
   "metadata": {
    "slideshow": {
     "slide_type": "slide"
    }
   },
   "source": [
    "Let's see how the cumulative return of the moving average strategy compares to buy-and-hold."
   ]
  },
  {
   "cell_type": "code",
   "execution_count": 34,
   "metadata": {
    "slideshow": {
     "slide_type": "fragment"
    }
   },
   "outputs": [
    {
     "data": {
      "image/png": "[encoded data removed]",
      "text/plain": [
       "<Figure size 576x432 with 1 Axes>"
      ]
     },
     "metadata": {
      "needs_background": "light"
     },
     "output_type": "display_data"
    }
   ],
   "source": [
    "s.cumprod().plot(label='Moving average strategy')\n",
    "daily_return_ratio.cumprod().plot(label='Buy and hold strategy')\n",
    "ylabel('Return ratio')\n",
    "legend(loc='best')\n",
    "figsize(12,8)"
   ]
  },
  {
   "cell_type": "markdown",
   "metadata": {
    "slideshow": {
     "slide_type": "skip"
    }
   },
   "source": [
    "* By the time the moving average strategy sells, the downturn has already hit hard.\n",
    "* By the time it buys, prices have already gone up quite a bit."
   ]
  }
 ],
 "metadata": {
  "celltoolbar": "Slideshow",
  "kernelspec": {
   "display_name": "Python 3",
   "language": "python",
   "name": "python3"
  },
  "language_info": {
   "codemirror_mode": {
    "name": "ipython",
    "version": 3
   },
   "file_extension": ".py",
   "mimetype": "text/x-python",
   "name": "python",
   "nbconvert_exporter": "python",
   "pygments_lexer": "ipython3",
   "version": "3.7.6"
  }
 },
 "nbformat": 4,
 "nbformat_minor": 1
}
