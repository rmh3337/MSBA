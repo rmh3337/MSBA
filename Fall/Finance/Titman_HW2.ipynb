{
 "cells": [
  {
   "cell_type": "markdown",
   "metadata": {},
   "source": [
    "Look at quarterly performance. e.g. jan 2004 - mar 2004, make sure that there is no missing data for this period. \n",
    "(drop the ones with missing data)\n",
    "Then look at returns of mutual funds that were the best performers and look at there performance in the subsequent months\n",
    "Tell average performance (returns of mutual funds - returns on market) for three months\n",
    "Report \"on average the top ten performers would have an excess return of .001 in month 1, ... in month 2...\"\n",
    "\n",
    "Portfolio strategy is to hold top performers from last month\n",
    "Long the mutual fund, short the market\n",
    "\n",
    "See if the return is higher in the first month, second month or third month of the quarter\n",
    "\n",
    "Find beta of the return of the mutual fund - the market. Hedge out the market e.g. market nuetral portfolio."
   ]
  }
 ],
 "metadata": {
  "kernelspec": {
   "display_name": "Python 3",
   "language": "python",
   "name": "python3"
  },
  "language_info": {
   "codemirror_mode": {
    "name": "ipython",
    "version": 3
   },
   "file_extension": ".py",
   "mimetype": "text/x-python",
   "name": "python",
   "nbconvert_exporter": "python",
   "pygments_lexer": "ipython3",
   "version": "3.7.3"
  },
  "toc": {
   "base_numbering": 1,
   "nav_menu": {},
   "number_sections": true,
   "sideBar": true,
   "skip_h1_title": false,
   "title_cell": "Table of Contents",
   "title_sidebar": "Contents",
   "toc_cell": false,
   "toc_position": {},
   "toc_section_display": true,
   "toc_window_display": false
  }
 },
 "nbformat": 4,
 "nbformat_minor": 2
}
