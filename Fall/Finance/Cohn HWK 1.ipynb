{
 "cells": [
  {
   "cell_type": "code",
   "execution_count": 28,
   "metadata": {},
   "outputs": [],
   "source": [
    "import pandas as pd\n",
    "import numpy as np\n",
    "from datetime import datetime\n",
    "from scipy.stats import mstats\n",
    "from pandas import Series, DataFrame\n",
    "import math\n",
    "import warnings\n",
    "warnings.filterwarnings('ignore')"
   ]
  },
  {
   "cell_type": "code",
   "execution_count": 29,
   "metadata": {},
   "outputs": [],
   "source": [
    "df = pd.read_csv('CohnHW3.csv')"
   ]
  },
  {
   "cell_type": "code",
   "execution_count": 30,
   "metadata": {},
   "outputs": [
    {
     "data": {
      "text/html": [
       "<div>\n",
       "<style scoped>\n",
       "    .dataframe tbody tr th:only-of-type {\n",
       "        vertical-align: middle;\n",
       "    }\n",
       "\n",
       "    .dataframe tbody tr th {\n",
       "        vertical-align: top;\n",
       "    }\n",
       "\n",
       "    .dataframe thead th {\n",
       "        text-align: right;\n",
       "    }\n",
       "</style>\n",
       "<table border=\"1\" class=\"dataframe\">\n",
       "  <thead>\n",
       "    <tr style=\"text-align: right;\">\n",
       "      <th></th>\n",
       "      <th>gvkey</th>\n",
       "      <th>datadate</th>\n",
       "      <th>fyear</th>\n",
       "      <th>indfmt</th>\n",
       "      <th>consol</th>\n",
       "      <th>popsrc</th>\n",
       "      <th>datafmt</th>\n",
       "      <th>curcd</th>\n",
       "      <th>at</th>\n",
       "      <th>ceq</th>\n",
       "      <th>csho</th>\n",
       "      <th>dlc</th>\n",
       "      <th>dltt</th>\n",
       "      <th>ebitda</th>\n",
       "      <th>ppent</th>\n",
       "      <th>costat</th>\n",
       "      <th>prcc_f</th>\n",
       "    </tr>\n",
       "  </thead>\n",
       "  <tbody>\n",
       "    <tr>\n",
       "      <th>0</th>\n",
       "      <td>1000</td>\n",
       "      <td>12/31/1961</td>\n",
       "      <td>1961.0</td>\n",
       "      <td>INDL</td>\n",
       "      <td>C</td>\n",
       "      <td>D</td>\n",
       "      <td>STD</td>\n",
       "      <td>USD</td>\n",
       "      <td>NaN</td>\n",
       "      <td>NaN</td>\n",
       "      <td>0.152</td>\n",
       "      <td>NaN</td>\n",
       "      <td>0.100</td>\n",
       "      <td>NaN</td>\n",
       "      <td>NaN</td>\n",
       "      <td>I</td>\n",
       "      <td>NaN</td>\n",
       "    </tr>\n",
       "    <tr>\n",
       "      <th>1</th>\n",
       "      <td>1000</td>\n",
       "      <td>12/31/1962</td>\n",
       "      <td>1962.0</td>\n",
       "      <td>INDL</td>\n",
       "      <td>C</td>\n",
       "      <td>D</td>\n",
       "      <td>STD</td>\n",
       "      <td>USD</td>\n",
       "      <td>NaN</td>\n",
       "      <td>0.552</td>\n",
       "      <td>0.181</td>\n",
       "      <td>NaN</td>\n",
       "      <td>0.000</td>\n",
       "      <td>NaN</td>\n",
       "      <td>NaN</td>\n",
       "      <td>I</td>\n",
       "      <td>NaN</td>\n",
       "    </tr>\n",
       "    <tr>\n",
       "      <th>2</th>\n",
       "      <td>1000</td>\n",
       "      <td>12/31/1963</td>\n",
       "      <td>1963.0</td>\n",
       "      <td>INDL</td>\n",
       "      <td>C</td>\n",
       "      <td>D</td>\n",
       "      <td>STD</td>\n",
       "      <td>USD</td>\n",
       "      <td>NaN</td>\n",
       "      <td>0.553</td>\n",
       "      <td>0.186</td>\n",
       "      <td>NaN</td>\n",
       "      <td>0.015</td>\n",
       "      <td>0.046</td>\n",
       "      <td>0.431</td>\n",
       "      <td>I</td>\n",
       "      <td>NaN</td>\n",
       "    </tr>\n",
       "    <tr>\n",
       "      <th>3</th>\n",
       "      <td>1000</td>\n",
       "      <td>12/31/1964</td>\n",
       "      <td>1964.0</td>\n",
       "      <td>INDL</td>\n",
       "      <td>C</td>\n",
       "      <td>D</td>\n",
       "      <td>STD</td>\n",
       "      <td>USD</td>\n",
       "      <td>1.416</td>\n",
       "      <td>0.607</td>\n",
       "      <td>0.196</td>\n",
       "      <td>0.088</td>\n",
       "      <td>0.522</td>\n",
       "      <td>0.127</td>\n",
       "      <td>0.563</td>\n",
       "      <td>I</td>\n",
       "      <td>NaN</td>\n",
       "    </tr>\n",
       "    <tr>\n",
       "      <th>4</th>\n",
       "      <td>1000</td>\n",
       "      <td>12/31/1965</td>\n",
       "      <td>1965.0</td>\n",
       "      <td>INDL</td>\n",
       "      <td>C</td>\n",
       "      <td>D</td>\n",
       "      <td>STD</td>\n",
       "      <td>USD</td>\n",
       "      <td>2.310</td>\n",
       "      <td>0.491</td>\n",
       "      <td>0.206</td>\n",
       "      <td>0.300</td>\n",
       "      <td>1.154</td>\n",
       "      <td>-0.160</td>\n",
       "      <td>1.397</td>\n",
       "      <td>I</td>\n",
       "      <td>NaN</td>\n",
       "    </tr>\n",
       "  </tbody>\n",
       "</table>\n",
       "</div>"
      ],
      "text/plain": [
       "   gvkey    datadate   fyear indfmt consol popsrc datafmt curcd     at    ceq  \\\n",
       "0   1000  12/31/1961  1961.0   INDL      C      D     STD   USD    NaN    NaN   \n",
       "1   1000  12/31/1962  1962.0   INDL      C      D     STD   USD    NaN  0.552   \n",
       "2   1000  12/31/1963  1963.0   INDL      C      D     STD   USD    NaN  0.553   \n",
       "3   1000  12/31/1964  1964.0   INDL      C      D     STD   USD  1.416  0.607   \n",
       "4   1000  12/31/1965  1965.0   INDL      C      D     STD   USD  2.310  0.491   \n",
       "\n",
       "    csho    dlc   dltt  ebitda  ppent costat  prcc_f  \n",
       "0  0.152    NaN  0.100     NaN    NaN      I     NaN  \n",
       "1  0.181    NaN  0.000     NaN    NaN      I     NaN  \n",
       "2  0.186    NaN  0.015   0.046  0.431      I     NaN  \n",
       "3  0.196  0.088  0.522   0.127  0.563      I     NaN  \n",
       "4  0.206  0.300  1.154  -0.160  1.397      I     NaN  "
      ]
     },
     "execution_count": 30,
     "metadata": {},
     "output_type": "execute_result"
    }
   ],
   "source": [
    "df.head()"
   ]
  },
  {
   "cell_type": "code",
   "execution_count": 31,
   "metadata": {},
   "outputs": [],
   "source": [
    "df['BookLeverage'] = (df['dltt'] + df['dlc']) / (df['dltt'] + df['dlc'] + df['ceq'])\n",
    "df['MarketLeverage'] = (df['dltt'] + df['dlc']) / (df['dltt'] + df['dlc'] + df['prcc_f'] * df['csho'])\n",
    "df['AssetTangibility'] = df['ppent'] / df['at']\n",
    "df['MarketToBook'] = (df['prcc_f'] * df['csho'] + df['dltt'] + df['dlc']) / (df['dltt'] + df['dlc'] + df['ceq']) \n",
    "df['Profitability'] = df['ebitda'] / df['at']\n",
    "\n",
    "\n",
    "df_drop_book_na=df[df['BookLeverage'].notna()==True]\n",
    "df_drop_market_na=df[df['MarketLeverage'].notna()==True]"
   ]
  },
  {
   "cell_type": "code",
   "execution_count": 32,
   "metadata": {},
   "outputs": [],
   "source": [
    "def WinsorizeStats(data):\n",
    "    out = mstats.winsorize(data, limits=[0.01, 0.01])\n",
    "    return out"
   ]
  },
  {
   "cell_type": "code",
   "execution_count": 33,
   "metadata": {},
   "outputs": [],
   "source": [
    "df_drop_book_na['BookLeverage']=(WinsorizeStats(df_drop_book_na['BookLeverage']))\n",
    "df_drop_market_na['MarketLeverage']=(WinsorizeStats(df_drop_market_na['MarketLeverage']))"
   ]
  },
  {
   "cell_type": "code",
   "execution_count": 34,
   "metadata": {},
   "outputs": [
    {
     "name": "stdout",
     "output_type": "stream",
     "text": [
      "Book Leverage Mean: 0.37349359265305676\n",
      "Market Leverage Mean: 0.27960229061974406\n",
      "Number of observations for all years: 542427\n"
     ]
    }
   ],
   "source": [
    "print('Book Leverage Mean:',df_drop_book_na['BookLeverage'].mean())\n",
    "print('Market Leverage Mean:', df_drop_market_na['MarketLeverage'].mean())\n",
    "print('Number of observations for all years:', len(df))"
   ]
  },
  {
   "cell_type": "code",
   "execution_count": 35,
   "metadata": {},
   "outputs": [
    {
     "name": "stdout",
     "output_type": "stream",
     "text": [
      "Book Leverage Mean: 0.5395546078938327\n",
      "Market Leverage Mean: 0.45623704721709063\n"
     ]
    }
   ],
   "source": [
    "# df_book_utilities = df_drop_book_na[df_drop_book_na['sich'].between(4900, 4999)]\n",
    "# df_market_utilities = df_drop_market_na[df_drop_market_na['sich'].between(4900, 4999)]\n",
    "print('Book Leverage Mean:',df_book_utilities['BookLeverage'].mean())\n",
    "print('Market Leverage Mean:', df_market_utilities['MarketLeverage'].mean())\n",
    "# print('Number of observations for SICH 4900-4999:', len(df[df['sich'].between(4900, 4999)]))"
   ]
  },
  {
   "cell_type": "code",
   "execution_count": 8,
   "metadata": {},
   "outputs": [
    {
     "name": "stdout",
     "output_type": "stream",
     "text": [
      "Book Leverage Mean: 0.32232563938065173\n",
      "Market Leverage Mean: 0.2343264012506507\n",
      "Number of observations for SICH 2000-3999: 185828\n"
     ]
    }
   ],
   "source": [
    "df_book_manufacturing = df_drop_book_na[df_drop_book_na['sich'].between(2000, 3999)]\n",
    "df_market_manufacturing = df_drop_market_na[df_drop_market_na['sich'].between(2000, 3999)]\n",
    "print('Book Leverage Mean:', df_book_manufacturing['BookLeverage'].mean())\n",
    "print('Market Leverage Mean:', df_market_manufacturing['MarketLeverage'].mean())\n",
    "print('Number of observations for SICH 2000-3999:', len(df[df['sich'].between(2000, 3999)]))"
   ]
  },
  {
   "cell_type": "code",
   "execution_count": 9,
   "metadata": {},
   "outputs": [
    {
     "name": "stdout",
     "output_type": "stream",
     "text": [
      "Book Leverage Mean: 0.5236577045413277\n",
      "Market Leverage Mean: 0.472968085272345\n",
      "Number of observations for SICH 6000-6199: 69433\n"
     ]
    }
   ],
   "source": [
    "df_book_banks = df_drop_book_na[df_drop_book_na['sich'].between(6000, 6199)]\n",
    "df_market_banks = df_drop_market_na[df_drop_market_na['sich'].between(6000, 6199)]\n",
    "print('Book Leverage Mean:', df_book_banks['BookLeverage'].mean())\n",
    "print('Market Leverage Mean:', df_market_banks['MarketLeverage'].mean())\n",
    "print('Number of observations for SICH 6000-6199:', len(df[df['sich'].between(6000, 6199)]))\n"
   ]
  },
  {
   "cell_type": "code",
   "execution_count": 10,
   "metadata": {},
   "outputs": [
    {
     "name": "stdout",
     "output_type": "stream",
     "text": [
      "Book Leverage Mean: 0.12526760076705315\n",
      "Market Leverage Mean: 0.08540191281572733\n",
      "Number of observations for SICH 7372: 12028\n"
     ]
    }
   ],
   "source": [
    "df_book_computer = df_drop_book_na[df_drop_book_na['sich'].between(7372, 7372)]\n",
    "df_market_computer = df_drop_market_na[df_drop_market_na['sich'].between(7372, 7372)]\n",
    "print('Book Leverage Mean:', df_book_computer['BookLeverage'].mean())\n",
    "print('Market Leverage Mean:', df_market_computer['MarketLeverage'].mean())\n",
    "print('Number of observations for SICH 7372:', len(df[df['sich'].between(7372, 7372)]))"
   ]
  },
  {
   "cell_type": "code",
   "execution_count": 11,
   "metadata": {
    "scrolled": true
   },
   "outputs": [
    {
     "data": {
      "text/html": [
       "<div>\n",
       "<style scoped>\n",
       "    .dataframe tbody tr th:only-of-type {\n",
       "        vertical-align: middle;\n",
       "    }\n",
       "\n",
       "    .dataframe tbody tr th {\n",
       "        vertical-align: top;\n",
       "    }\n",
       "\n",
       "    .dataframe thead th {\n",
       "        text-align: right;\n",
       "    }\n",
       "</style>\n",
       "<table border=\"1\" class=\"dataframe\">\n",
       "  <thead>\n",
       "    <tr style=\"text-align: right;\">\n",
       "      <th></th>\n",
       "      <th>gvkey</th>\n",
       "      <th>datadate</th>\n",
       "      <th>fyear</th>\n",
       "      <th>indfmt</th>\n",
       "      <th>consol</th>\n",
       "      <th>popsrc</th>\n",
       "      <th>datafmt</th>\n",
       "      <th>curcd</th>\n",
       "      <th>ceq</th>\n",
       "      <th>csho</th>\n",
       "      <th>dlc</th>\n",
       "      <th>dltt</th>\n",
       "      <th>costat</th>\n",
       "      <th>sich</th>\n",
       "      <th>prcc_f</th>\n",
       "      <th>sic</th>\n",
       "      <th>BookLeverage</th>\n",
       "      <th>MarketLeverage</th>\n",
       "    </tr>\n",
       "  </thead>\n",
       "  <tbody>\n",
       "    <tr>\n",
       "      <th>0</th>\n",
       "      <td>1000</td>\n",
       "      <td>12/31/1961</td>\n",
       "      <td>1961.0</td>\n",
       "      <td>INDL</td>\n",
       "      <td>C</td>\n",
       "      <td>D</td>\n",
       "      <td>STD</td>\n",
       "      <td>USD</td>\n",
       "      <td>NaN</td>\n",
       "      <td>0.152</td>\n",
       "      <td>NaN</td>\n",
       "      <td>0.100</td>\n",
       "      <td>I</td>\n",
       "      <td>3089.0</td>\n",
       "      <td>NaN</td>\n",
       "      <td>3089</td>\n",
       "      <td>NaN</td>\n",
       "      <td>NaN</td>\n",
       "    </tr>\n",
       "    <tr>\n",
       "      <th>1</th>\n",
       "      <td>1000</td>\n",
       "      <td>12/31/1962</td>\n",
       "      <td>1962.0</td>\n",
       "      <td>INDL</td>\n",
       "      <td>C</td>\n",
       "      <td>D</td>\n",
       "      <td>STD</td>\n",
       "      <td>USD</td>\n",
       "      <td>0.552</td>\n",
       "      <td>0.181</td>\n",
       "      <td>NaN</td>\n",
       "      <td>0.000</td>\n",
       "      <td>I</td>\n",
       "      <td>3089.0</td>\n",
       "      <td>NaN</td>\n",
       "      <td>3089</td>\n",
       "      <td>NaN</td>\n",
       "      <td>NaN</td>\n",
       "    </tr>\n",
       "    <tr>\n",
       "      <th>2</th>\n",
       "      <td>1000</td>\n",
       "      <td>12/31/1963</td>\n",
       "      <td>1963.0</td>\n",
       "      <td>INDL</td>\n",
       "      <td>C</td>\n",
       "      <td>D</td>\n",
       "      <td>STD</td>\n",
       "      <td>USD</td>\n",
       "      <td>0.553</td>\n",
       "      <td>0.186</td>\n",
       "      <td>NaN</td>\n",
       "      <td>0.015</td>\n",
       "      <td>I</td>\n",
       "      <td>3089.0</td>\n",
       "      <td>NaN</td>\n",
       "      <td>3089</td>\n",
       "      <td>NaN</td>\n",
       "      <td>NaN</td>\n",
       "    </tr>\n",
       "    <tr>\n",
       "      <th>3</th>\n",
       "      <td>1000</td>\n",
       "      <td>12/31/1964</td>\n",
       "      <td>1964.0</td>\n",
       "      <td>INDL</td>\n",
       "      <td>C</td>\n",
       "      <td>D</td>\n",
       "      <td>STD</td>\n",
       "      <td>USD</td>\n",
       "      <td>0.607</td>\n",
       "      <td>0.196</td>\n",
       "      <td>0.088</td>\n",
       "      <td>0.522</td>\n",
       "      <td>I</td>\n",
       "      <td>3089.0</td>\n",
       "      <td>NaN</td>\n",
       "      <td>3089</td>\n",
       "      <td>0.501233</td>\n",
       "      <td>NaN</td>\n",
       "    </tr>\n",
       "    <tr>\n",
       "      <th>4</th>\n",
       "      <td>1000</td>\n",
       "      <td>12/31/1965</td>\n",
       "      <td>1965.0</td>\n",
       "      <td>INDL</td>\n",
       "      <td>C</td>\n",
       "      <td>D</td>\n",
       "      <td>STD</td>\n",
       "      <td>USD</td>\n",
       "      <td>0.491</td>\n",
       "      <td>0.206</td>\n",
       "      <td>0.300</td>\n",
       "      <td>1.154</td>\n",
       "      <td>I</td>\n",
       "      <td>3089.0</td>\n",
       "      <td>NaN</td>\n",
       "      <td>3089</td>\n",
       "      <td>0.747558</td>\n",
       "      <td>NaN</td>\n",
       "    </tr>\n",
       "  </tbody>\n",
       "</table>\n",
       "</div>"
      ],
      "text/plain": [
       "   gvkey    datadate   fyear indfmt consol popsrc datafmt curcd    ceq   csho  \\\n",
       "0   1000  12/31/1961  1961.0   INDL      C      D     STD   USD    NaN  0.152   \n",
       "1   1000  12/31/1962  1962.0   INDL      C      D     STD   USD  0.552  0.181   \n",
       "2   1000  12/31/1963  1963.0   INDL      C      D     STD   USD  0.553  0.186   \n",
       "3   1000  12/31/1964  1964.0   INDL      C      D     STD   USD  0.607  0.196   \n",
       "4   1000  12/31/1965  1965.0   INDL      C      D     STD   USD  0.491  0.206   \n",
       "\n",
       "     dlc   dltt costat    sich  prcc_f   sic  BookLeverage  MarketLeverage  \n",
       "0    NaN  0.100      I  3089.0     NaN  3089           NaN             NaN  \n",
       "1    NaN  0.000      I  3089.0     NaN  3089           NaN             NaN  \n",
       "2    NaN  0.015      I  3089.0     NaN  3089           NaN             NaN  \n",
       "3  0.088  0.522      I  3089.0     NaN  3089      0.501233             NaN  \n",
       "4  0.300  1.154      I  3089.0     NaN  3089      0.747558             NaN  "
      ]
     },
     "execution_count": 11,
     "metadata": {},
     "output_type": "execute_result"
    }
   ],
   "source": [
    "df.head()"
   ]
  },
  {
   "cell_type": "code",
   "execution_count": null,
   "metadata": {},
   "outputs": [],
   "source": []
  }
 ],
 "metadata": {
  "kernelspec": {
   "display_name": "Python 3",
   "language": "python",
   "name": "python3"
  },
  "language_info": {
   "codemirror_mode": {
    "name": "ipython",
    "version": 3
   },
   "file_extension": ".py",
   "mimetype": "text/x-python",
   "name": "python",
   "nbconvert_exporter": "python",
   "pygments_lexer": "ipython3",
   "version": "3.7.3"
  }
 },
 "nbformat": 4,
 "nbformat_minor": 2
}
