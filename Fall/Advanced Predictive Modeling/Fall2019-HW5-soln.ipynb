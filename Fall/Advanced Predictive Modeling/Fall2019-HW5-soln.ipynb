{
 "cells": [
  {
   "cell_type": "markdown",
   "metadata": {},
   "source": [
    "\n",
    "# <p style=\"text-align: center;\">MIS382: Advanced Predictive Modeling</p>\n",
    "# <p style=\"text-align: center;\">Assignment 5</p>\n",
    "## <p style=\"text-align: center;\">Total points: 55</p>\n",
    "## <p style=\"text-align: center;\">Due: Tuesday, December 3rd, submitted via Canvas by 11:59 pm</p>\n",
    "\n",
    "Your homework should be written in a **Jupyter notebook**. You may work in groups of two if you wish. Your partner needs to be from the same section. Only one student per team needs to submit the assignment on Canvas.  But be sure to include name and UTEID for both students.  Homework groups will be created and managed through Canvas, so please do not arbitrarily change your homework group. If you do change, let the TA know. \n",
    "\n",
    "Please ensure that the notebook you have uploaded on Canvas is the correct one, you could download the notebook from Canvas to double check that you have submitted the correct version on your notebook.\n",
    "\n",
    "Also, please make sure your code runs and the graphics (and anything else) are displayed in your notebook before submitting. (%matplotlib inline)"
   ]
  },
  {
   "cell_type": "markdown",
   "metadata": {},
   "source": [
    "### Name(s)\n",
    "1. \n",
    "2. "
   ]
  },
  {
   "cell_type": "markdown",
   "metadata": {},
   "source": [
    "# Question 1 - Bayesian Belief Network (15 pts)\n",
    "\n",
    "Q1.1 (10pts) Consider the Bayes' Net over 4 Random Variables - $D,Z,T1,T2$ with the structure shown below, and joint probability distribution $P(D,Z,T1,T2)$. All the variables are binary with 1 representing \"true/positive\" and 0 representing \"false/negative\". \n",
    "\n",
    "![bayesnetq1.png](bayesnetq1.png)\n",
    "\n",
    "The probabilities are given below:\n",
    "\n",
    "P(D = 1) = 0.1   \n",
    "P(D = 0) = 0.9  \n",
    "\n",
    "P(Z = 1 | D = 1) = 0.7   \n",
    "P(Z = 0 | D = 1) = 0.3  \n",
    "P(Z = 1 | D = 0) = 0.8  \n",
    "P(Z = 0 | D = 0) = 0.2  \n",
    "\n",
    "P(T2 = 1 | D = 1) = 0.7           \n",
    "P(T2 = 0 | D = 1) = 0.3         \n",
    "P(T2 = 1 | D = 0) = 0.5     \n",
    "P(T2 = 0 | D = 0) = 0.5        \n",
    "\n",
    "P(T1 = 1 | D = 1, Z = 1) = 0.9         \n",
    "P(T1 = 0 | D = 1, Z = 1) = 0.1          \n",
    "P(T1 = 1 | D = 1, Z = 0) = 0.8             \n",
    "P(T1 = 0 | D = 1, Z = 0) = 0.2            \n",
    "P(T1 = 1 | D = 0, Z = 1) = 0.6           \n",
    "P(T1 = 0 | D = 0, Z = 1) = 0.4          \n",
    "P(T1 = 1 | D = 0, Z = 0) = 0.1         \n",
    "P(T1 = 0 | D = 0, Z = 0) = 0.9            \n",
    "\n",
    "\n",
    "a.(4pts) What is the probability of having disease D(D=1) and getting a positive result on test T1(T1=1)?   \n",
    "b.(3pts) What is the probability of not having disease D(D=0) and getting a positive result on test T1(T1=1)?   \n",
    "c.(3pts) What is the probability of having disease D given a positive result on test T1?   \n"
   ]
  },
  {
   "cell_type": "markdown",
   "metadata": {},
   "source": [
    "#### Answer:\n",
    "a. What is the probability of having disease D(D=1) and getting a positive result on test T1(T1=1)?        \n",
    "$P(D=1,T1=1) = P(D=1,T1=1,Z=0) + P(D=1,T1=1,Z=1) = 0.1*0.7*0.9 + 0.1*0.3*0.8 = 0.087$\n",
    "\n",
    "b. What is the probability of not having disease D(D=0) and getting a positive result on test T1(T1=1)?           \n",
    "$P(D=0,T1=1) = P(D=0,T1=1,Z=0) + P(D=0,T1=1,Z=1) = 0.9*0.2*0.1 + 0.9*0.8*0.6 = 0.45$\n",
    "\n",
    "c. What is the probability of having disease D given a positive result on test T1?           \n",
    "$P(D=1|T1=1) = \\frac{P(D=1,T1=1)}{P(T1=1)} = \\frac{0.087}{0.087+0.45} = 0.16 $ \n"
   ]
  },
  {
   "cell_type": "markdown",
   "metadata": {},
   "source": [
    "Q1.2(5pts) Draw a Bayesian Network with these Random Variables - $A, B, C, D, E, F, G, H$ whose joint distribution corresponds to -\n",
    "$P(A | B,C,E) P(B | D,E) P(C | F,H) P(D | G) P(E| G,H) P(F | H) P(G) P(H)$"
   ]
  },
  {
   "cell_type": "markdown",
   "metadata": {},
   "source": [
    "#### Answer:\n",
    "![q1_ans.png](q1_ans.png)"
   ]
  },
  {
   "cell_type": "markdown",
   "metadata": {},
   "source": [
    "# Question 2 - K-Nearest Neighbours and Ensemble (40pts)\n",
    "\n",
    "In this problem, we will continue with the Churn Prediction from the last homework. You can reuse the code for pipelines which we have provided. The data has been split into train and validation sets; please donot change this.\n",
    "\n",
    "\n",
    "1. Build K-Nearest Neighbours (KNN) models with different values of k ranging from 2 to 50. Plot how the train and validation AUROC varies with k. Report the best AUROC on the validation set and the corresponding value of k. (10 pts)\n",
    "\n",
    "    We will reuse the Naive Bayes and Logistic regression models from the previous homework.\n",
    "    \n",
    "2. Ensemble the KNN model which obtains the best AUROC on the validation set with a Naive Bayes and Logistic regression model (with parameter class_weight='balanced') by averaging the posterior probabilities. Report the validation AUROC and F1 score. (5 pts)\n",
    "\n",
    "3. Ensemble the KNN model which obtains the best AUROC on the validation set with a Naive Bayes and Logistic regression model (with parameter class_weight='balanced') by taking a majority vote. Report the validation F1 score. Explain why we cannot compute the AUROC in this setting. (5 pts)\n",
    "\n",
    "    We will now compare [Random Forest](http://scikit-learn.org/stable/modules/generated/sklearn.ensemble.RandomForestClassifier.html), [Gradient Boosting Decision Tree](http://scikit-learn.org/stable/modules/generated/sklearn.ensemble.GradientBoostingClassifier.html) (GBDT), and [AdaBoost](http://scikit-learn.org/stable/modules/generated/sklearn.ensemble.AdaBoostClassifier.html#sklearn.ensemble.AdaBoostClassifier). \n",
    "    \n",
    "4. Use a [Random Forest](http://scikit-learn.org/stable/modules/generated/sklearn.ensemble.RandomForestClassifier.html) to classify the data. Find the best parameters (including *n_estimators*, *max_features* and *criterion*) using [GridSearchCV](http://scikit-learn.org/stable/modules/generated/sklearn.model_selection.GridSearchCV.html). Report the optimal parameters obtained by GridSearch. Report the confusion matrix  and [roc_auc_score](http://scikit-learn.org/stable/modules/generated/sklearn.metrics.roc_auc_score.html#sklearn.metrics.roc_auc_score) on validation data. Plot the feature importance as well. (5pts)\n",
    "5. Use [Gradient Boosting Decision Tree](http://scikit-learn.org/stable/modules/generated/sklearn.ensemble.GradientBoostingClassifier.html) (GBDT), and [AdaBoost](http://scikit-learn.org/stable/modules/generated/sklearn.ensemble.AdaBoostClassifier.html#sklearn.ensemble.AdaBoostClassifier) for this problem. Again, find the best parameters (including *n_estimators, learning_rate,* and *max_depth (GBDT only)*), and report the confusion matrix and roc_auc_score on test data for each classifier. Also, plot the feature importance for each classifier. (10pts)\n",
    "6. Point out one advantage and one disadvantage of Random Forest compared to GBDT. (5pts)"
   ]
  },
  {
   "cell_type": "code",
   "execution_count": 1,
   "metadata": {},
   "outputs": [],
   "source": [
    "import pandas as pd\n",
    "from sklearn.model_selection import train_test_split\n",
    "from sklearn.metrics import roc_auc_score, f1_score\n",
    "from sklearn.naive_bayes import GaussianNB\n",
    "from sklearn.linear_model import LogisticRegression\n",
    "from sklearn.neighbors import KNeighborsClassifier as knn\n",
    "from sklearn.ensemble import RandomForestClassifier,\\\n",
    "GradientBoostingClassifier,AdaBoostClassifier\n",
    "from sklearn.model_selection import GridSearchCV\n",
    "from sklearn.metrics import confusion_matrix\n",
    "from sklearn.ensemble import VotingClassifier\n",
    "import numpy as np\n",
    "import matplotlib.pyplot as plt\n",
    "from sklearn.pipeline import Pipeline, FeatureUnion\n",
    "import warnings\n",
    "warnings.filterwarnings('ignore')\n",
    "from sklearn.base import BaseEstimator, TransformerMixin\n",
    "\n",
    "class OneHotEncoder(BaseEstimator, TransformerMixin):\n",
    "    \n",
    "    def __init__(self,col):\n",
    "        self.col = col\n",
    "                \n",
    "    def transform(self, X):\n",
    "        return pd.get_dummies(X[self.col]) \n",
    "\n",
    "    def fit(self, X, y=None):\n",
    "        return self  \n",
    "    \n",
    "# Stateless transformer for selecting a specified columns\n",
    "class DFSubsetSelector(BaseEstimator,TransformerMixin):\n",
    "    \n",
    "    def __init__(self,cols):\n",
    "        self.cols = cols\n",
    "        \n",
    "    def transform(self ,X):\n",
    "        return X[self.cols]\n",
    "    \n",
    "    def fit(self, X, y=None):\n",
    "        return self\n",
    "    \n",
    "class ConcatFeatures(BaseEstimator, TransformerMixin):\n",
    "    \n",
    "    def __init__(self,cols,sep=\"_\"):\n",
    "        self.cols = cols\n",
    "        self.sep = sep\n",
    "                \n",
    "    def transform(self, X):\n",
    "        concat_col = self.sep.join(self.cols)\n",
    "        return X.apply(lambda x : self.sep.join([x[col] for col in self.cols]) ,axis=1).to_frame(name = concat_col)\n",
    "\n",
    "    def fit(self, X, y=None):\n",
    "        return self  \n",
    "    \n",
    "# Transformer that does min-max transform on the specified columns\n",
    "class MinMaxTransform(BaseEstimator, TransformerMixin):\n",
    "\n",
    "    def __init__(self,cols=None):\n",
    "        self.cols = cols\n",
    "        self.minVec = np.zeros(len(cols))\n",
    "        self.maxVec = np.zeros(len(cols))\n",
    "       \n",
    "    def transform(self, X):\n",
    "        X[self.cols] = ((X[self.cols] - self.minVec)/(self.maxVec-self.minVec))\n",
    "        return X\n",
    "\n",
    "    def fit(self, X, y=None):\n",
    "        self.minVec = (df_train[self.cols].min())\n",
    "        self.maxVec = (df_train[self.cols].max())\n",
    "        return self\n",
    "\n",
    "df = pd.read_csv('hw5.csv', delimiter=',')\n",
    "\n",
    "#DONOT CHANGE THIS\n",
    "df_train = df.sample(frac=0.8,random_state=11)\n",
    "df_val = df.drop(df_train.index)\n",
    "\n",
    "\n",
    "X_train = df_train.drop(['Exited'],axis=1)\n",
    "y_train = df_train['Exited']\n",
    "X_val= df_val.drop(['Exited'],axis=1)\n",
    "y_val = df_val['Exited']\n",
    "\n",
    "continuous_vars = ['CreditScore','Age','Tenure','Balance','NumOfProducts','EstimatedSalary']\n",
    "cat_vars = ['HasCrCard','IsActiveMember',\"Geography\", \"Gender\"] \n",
    "\n",
    "#building the data-processing pipeline\n",
    "categorical_feature_pipeline = Pipeline([\n",
    "                                       ('categorical_selector' ,DFSubsetSelector(cat_vars)),\n",
    "                                        ('onehot',OneHotEncoder(cat_vars))])\n",
    "numerical_feature_pipeline = Pipeline([\n",
    "                                       ('numerical_selector' ,DFSubsetSelector(continuous_vars)),\n",
    "                                        ('normalization',MinMaxTransform(continuous_vars))])\n",
    "all_feature_preprocessor= FeatureUnion(transformer_list=[('numerical_preprocessor', numerical_feature_pipeline),\n",
    "                                                      ('categorical_preprocessor', categorical_feature_pipeline)])"
   ]
  },
  {
   "cell_type": "markdown",
   "metadata": {},
   "source": [
    "#### Answer"
   ]
  },
  {
   "cell_type": "markdown",
   "metadata": {},
   "source": [
    "#### (1)"
   ]
  },
  {
   "cell_type": "code",
   "execution_count": 8,
   "metadata": {},
   "outputs": [
    {
     "data": {
      "image/png": "[encoded data removed]",
      "text/plain": [
       "<Figure size 432x288 with 1 Axes>"
      ]
     },
     "metadata": {
      "needs_background": "light"
     },
     "output_type": "display_data"
    },
    {
     "name": "stdout",
     "output_type": "stream",
     "text": [
      "best k: 18, best val AUROC: 0.8205577703831526\n"
     ]
    }
   ],
   "source": [
    "all_train_auc = []\n",
    "all_val_auc = []\n",
    "all_k = []\n",
    "\n",
    "best_auc = 0\n",
    "best_k = 2\n",
    "\n",
    "for k in range(2, 50):\n",
    "    learner =  knn(k)\n",
    "    clf_pipeline = Pipeline([('feature_preprocessor',all_feature_preprocessor),\n",
    "                               ('learner',learner)])\n",
    "    clf_pipeline.fit(X_train, y_train)\n",
    "    estimates_val = clf_pipeline.predict_proba(X_val)[:,1]\n",
    "    val_auc = roc_auc_score(y_val, estimates_val)\n",
    "    estimates_train = clf_pipeline.predict_proba(X_train)[:,1]\n",
    "    train_auc = roc_auc_score(y_train, estimates_train)\n",
    "    \n",
    "    all_train_auc.append(train_auc)\n",
    "    all_val_auc.append(val_auc)\n",
    "    all_k.append(k)\n",
    "    \n",
    "    if val_auc > best_auc:\n",
    "        best_auc = val_auc\n",
    "        best_k = k\n",
    "\n",
    "plt.plot(all_k, all_train_auc, label=\"train\")\n",
    "plt.plot(all_k, all_val_auc, label=\"validation\")\n",
    "plt.xlabel(\"k\")\n",
    "plt.ylabel(\"AUROC\")\n",
    "plt.legend()\n",
    "plt.show()\n",
    "print(\"best k: {}, best val AUROC: {}\".format(best_k, best_auc))"
   ]
  },
  {
   "cell_type": "markdown",
   "metadata": {},
   "source": [
    "#### (2)"
   ]
  },
  {
   "cell_type": "code",
   "execution_count": 3,
   "metadata": {},
   "outputs": [
    {
     "name": "stdout",
     "output_type": "stream",
     "text": [
      "Validation AUCROC = 0.8405\n",
      "Validation F1 score = 0.52\n",
      "\n"
     ]
    }
   ],
   "source": [
    "models = [('knn', knn(best_k)), ('naive_bayes', GaussianNB())\\\n",
    "          , ('logistic_regression', \\\n",
    "             LogisticRegression(class_weight='balanced'))]\n",
    "model_names = ['NB', 'Logistic', 'MLP', 'DecisionTree']\n",
    "ensemble_model = VotingClassifier(models, voting='soft')\n",
    "clf_pipeline = Pipeline([('feature_preprocessor',all_feature_preprocessor),\n",
    "                               ('learner',ensemble_model)])\n",
    "clf_pipeline.fit(X_train, y_train)\n",
    "estimates_val = clf_pipeline.predict_proba(X_val)[:,1]\n",
    "val_auc = roc_auc_score(y_val, estimates_val)\n",
    "\n",
    "print('Validation AUCROC = %.4f' % roc_auc_score(y_val, estimates_val))\n",
    "print('Validation F1 score = %.2f\\n' % f1_score(y_val, (estimates_val > .5)))"
   ]
  },
  {
   "cell_type": "markdown",
   "metadata": {},
   "source": [
    "#### (3)"
   ]
  },
  {
   "cell_type": "code",
   "execution_count": 4,
   "metadata": {},
   "outputs": [
    {
     "name": "stdout",
     "output_type": "stream",
     "text": [
      "Validation F1 score = 0.49\n",
      "\n"
     ]
    }
   ],
   "source": [
    "models = [('knn', knn(best_k)), ('naive_bayes', GaussianNB())\\\n",
    "          , ('logistic_regression', \\\n",
    "             LogisticRegression(class_weight='balanced'))]\n",
    "model_names = ['NB', 'Logistic', 'MLP', 'DecisionTree']\n",
    "ensemble_model = VotingClassifier(models, voting='hard')\n",
    "clf_pipeline = Pipeline([('feature_preprocessor',all_feature_preprocessor),\n",
    "                               ('learner',ensemble_model)])\n",
    "clf_pipeline.fit(X_train, y_train)\n",
    "pred_val = clf_pipeline.predict(X_val)\n",
    "\n",
    "print('Validation F1 score = %.2f\\n' % f1_score(y_val, pred_val))"
   ]
  },
  {
   "cell_type": "markdown",
   "metadata": {},
   "source": [
    "#### (4)"
   ]
  },
  {
   "cell_type": "code",
   "execution_count": 5,
   "metadata": {},
   "outputs": [
    {
     "name": "stdout",
     "output_type": "stream",
     "text": [
      "best parameters: \n",
      "{'learner__criterion': 'entropy', 'learner__max_features': 'auto', 'learner__n_estimators': 100}\n",
      "Random forest conf matrix: \n",
      "[[1539   48]\n",
      " [ 206  207]]\n",
      "AUROC 0.8841113709909968\n"
     ]
    },
    {
     "data": {
      "image/png": "[encoded data removed]",
      "text/plain": [
       "<Figure size 432x288 with 1 Axes>"
      ]
     },
     "metadata": {
      "needs_background": "light"
     },
     "output_type": "display_data"
    }
   ],
   "source": [
    "clf = clf_pipeline = Pipeline([('feature_preprocessor',all_feature_preprocessor),\n",
    "                               ('learner',RandomForestClassifier(random_state=0))])\n",
    "\n",
    "param_grid = {\"learner__n_estimators\": [1, 5, 10, 100],\n",
    "              \"learner__max_features\": [1, 5, 10, \"auto\"],\n",
    "              \"learner__criterion\": ['gini','entropy'],}\n",
    "\n",
    "# Grid search\n",
    "grid_search = GridSearchCV(clf, param_grid=param_grid)\n",
    "grid_search.fit(X_train, y_train)\n",
    "clf.set_params(**grid_search.best_params_)\n",
    "clf.fit(X_train, y_train)\n",
    "\n",
    "print(\"best parameters: \")\n",
    "print(grid_search.best_params_)\n",
    "# t0 = time()\n",
    "y_pred_forest =clf.predict(X_val)\n",
    "\n",
    "print(\"Random forest conf matrix: \")\n",
    "print(confusion_matrix(y_val, y_pred_forest))\n",
    "y_pred_proba = clf.predict_proba(X_val)[:,1]\n",
    "print(\"AUROC\",roc_auc_score(y_val,y_pred_proba))\n",
    "feature_importances = clf['learner'].feature_importances_\n",
    "plt.bar(range(feature_importances.shape[0]),feature_importances)\n",
    "plt.xlabel(\"features\")\n",
    "plt.ylabel(\"feature importance\")\n",
    "plt.show()"
   ]
  },
  {
   "cell_type": "markdown",
   "metadata": {},
   "source": [
    "#### (5)"
   ]
  },
  {
   "cell_type": "code",
   "execution_count": 6,
   "metadata": {},
   "outputs": [
    {
     "name": "stdout",
     "output_type": "stream",
     "text": [
      "best parameters: \n",
      "{'learner__learning_rate': 0.1, 'learner__max_depth': 3, 'learner__n_estimators': 100, 'learner__subsample': 0.7}\n",
      "GBM forest conf matrix: \n",
      "[[1537   50]\n",
      " [ 205  208]]\n",
      "AUROC 0.8923944702035761\n"
     ]
    },
    {
     "data": {
      "image/png": "[encoded data removed]",
      "text/plain": [
       "<Figure size 432x288 with 1 Axes>"
      ]
     },
     "metadata": {
      "needs_background": "light"
     },
     "output_type": "display_data"
    }
   ],
   "source": [
    "#GDBT\n",
    "clf = clf_pipeline = Pipeline([('feature_preprocessor',all_feature_preprocessor),\n",
    "                               ('learner',GradientBoostingClassifier(random_state=0))])\n",
    "\n",
    "param_grid = {\"learner__n_estimators\": [10, 100],\n",
    "          \"learner__learning_rate\": [0.01, 0.1,0.5],\n",
    "          \"learner__max_depth\": [3,5,10],\n",
    "          \"learner__subsample\": [0.5,0.7,1.0],\n",
    "          }\n",
    "\n",
    "# Grid search\n",
    "grid_search = GridSearchCV(clf, param_grid=param_grid)\n",
    "grid_search.fit(X_train, y_train)\n",
    "clf.set_params(**grid_search.best_params_)\n",
    "clf.fit(X_train, y_train)\n",
    "\n",
    "print(\"best parameters: \")\n",
    "print(grid_search.best_params_)\n",
    "# t0 = time()\n",
    "y_pred_forest =clf.predict(X_val)\n",
    "\n",
    "print(\"GBM forest conf matrix: \")\n",
    "print(confusion_matrix(y_val, y_pred_forest))\n",
    "y_pred_proba = clf.predict_proba(X_val)[:,1]\n",
    "print(\"AUROC\",roc_auc_score(y_val,y_pred_proba))\n",
    "feature_importances = clf['learner'].feature_importances_\n",
    "plt.bar(range(feature_importances.shape[0]),feature_importances)\n",
    "plt.xlabel(\"features\")\n",
    "plt.ylabel(\"feature importance\")\n",
    "plt.show()"
   ]
  },
  {
   "cell_type": "code",
   "execution_count": 7,
   "metadata": {},
   "outputs": [
    {
     "name": "stdout",
     "output_type": "stream",
     "text": [
      "best parameters: \n",
      "{'learner__learning_rate': 0.5, 'learner__n_estimators': 100, 'learner__random_state': 42}\n",
      "Adaboost forest conf matrix: \n",
      "[[1524   63]\n",
      " [ 204  209]]\n",
      "AUROC 0.8708910625222182\n"
     ]
    },
    {
     "data": {
      "image/png": "[encoded data removed]",
      "text/plain": [
       "<Figure size 432x288 with 1 Axes>"
      ]
     },
     "metadata": {
      "needs_background": "light"
     },
     "output_type": "display_data"
    }
   ],
   "source": [
    "#Adaboost\n",
    "\n",
    "clf = clf_pipeline = Pipeline([('feature_preprocessor',all_feature_preprocessor),\n",
    "                               ('learner',AdaBoostClassifier())])\n",
    "\n",
    "param_grid = {\"learner__n_estimators\": [10, 100],\n",
    "          \"learner__learning_rate\": [0.01, 0.1,0.5],\n",
    "          \"learner__random_state\": [42]\n",
    "          }\n",
    "# Grid search\n",
    "grid_search = GridSearchCV(clf, param_grid=param_grid)\n",
    "grid_search.fit(X_train, y_train)\n",
    "clf.set_params(**grid_search.best_params_)\n",
    "clf.fit(X_train, y_train)\n",
    "\n",
    "print(\"best parameters: \")\n",
    "print(grid_search.best_params_)\n",
    "# t0 = time()\n",
    "y_pred_forest =clf.predict(X_val)\n",
    "\n",
    "print(\"Adaboost forest conf matrix: \")\n",
    "print(confusion_matrix(y_val, y_pred_forest))\n",
    "y_pred_proba = clf.predict_proba(X_val)[:,1]\n",
    "print(\"AUROC\",roc_auc_score(y_val,y_pred_proba))\n",
    "feature_importances = clf['learner'].feature_importances_\n",
    "plt.bar(range(feature_importances.shape[0]),feature_importances)\n",
    "plt.xlabel(\"features\")\n",
    "plt.ylabel(\"feature importance\")\n",
    "plt.show()"
   ]
  },
  {
   "cell_type": "markdown",
   "metadata": {},
   "source": [
    "#### (6)"
   ]
  },
  {
   "cell_type": "markdown",
   "metadata": {},
   "source": [
    "- Advantage: Random Forest is easier to tune (usually, fewer parameters), less prone to overfitting, and can be trained in parallel easily as each tree is independently grown.\n",
    "- Disadvantage: As boosting algorithm learns sequentially and consider training error made by previous tree, it generally performs better and is more expressive. Also, Random Forest usually requires deeper tree than GBDT to achieve similar performance."
   ]
  }
 ],
 "metadata": {
  "kernelspec": {
   "display_name": "Python 3",
   "language": "python",
   "name": "python3"
  },
  "language_info": {
   "codemirror_mode": {
    "name": "ipython",
    "version": 3
   },
   "file_extension": ".py",
   "mimetype": "text/x-python",
   "name": "python",
   "nbconvert_exporter": "python",
   "pygments_lexer": "ipython3",
   "version": "3.7.6"
  }
 },
 "nbformat": 4,
 "nbformat_minor": 2
}
