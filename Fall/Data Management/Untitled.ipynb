{
 "cells": [
  {
   "cell_type": "code",
   "execution_count": 3,
   "metadata": {},
   "outputs": [],
   "source": [
    "def reducer(value):\n",
    "        #reducer code goes here\n",
    "        final = list(value)\n",
    "        count = 0\n",
    "        new = []\n",
    "        number = len(final) - 10\n",
    "        while number > 0:\n",
    "            final.remove(min(final))\n",
    "            number -= 1\n",
    "##        for x in final:\n",
    "#            if count == 0:\n",
    "#                new.append(x)\n",
    "#                count += 1\n",
    "#            elif new[-1] < x:\n",
    "#                new.append(x)\n",
    "#                \n",
    "        stuff = final\n",
    "        return stuff"
   ]
  },
  {
   "cell_type": "code",
   "execution_count": 7,
   "metadata": {},
   "outputs": [
    {
     "data": {
      "text/plain": [
       "[997, 998, 999, 992, 990, 996, 995, 994, 991, 993]"
      ]
     },
     "execution_count": 7,
     "metadata": {},
     "output_type": "execute_result"
    }
   ],
   "source": [
    "import random \n",
    "\n",
    "ran = range(1,1000)\n",
    "sam = random.sample(ran, 998)\n",
    "\n",
    "num = list(sam)\n",
    "\n",
    "reducer(num)"
   ]
  },
  {
   "cell_type": "code",
   "execution_count": 19,
   "metadata": {},
   "outputs": [
    {
     "name": "stdout",
     "output_type": "stream",
     "text": [
      "999\n",
      "998\n",
      "997\n",
      "996\n",
      "995\n",
      "994\n",
      "993\n",
      "992\n",
      "991\n",
      "990\n"
     ]
    }
   ],
   "source": [
    "def mapper(line):\n",
    "        # mapper code goes here\n",
    "    stuff = []\n",
    "    for word in line:\n",
    "        stuff.append(word)\n",
    "    num = 10\n",
    "    for x in range(num):\n",
    "        best = max(stuff)\n",
    "        stuff.remove(max(stuff))\n",
    "        num -= 1\n",
    "        print(int(best))\n",
    "mapper(sam)"
   ]
  },
  {
   "cell_type": "code",
   "execution_count": 32,
   "metadata": {},
   "outputs": [
    {
     "name": "stdout",
     "output_type": "stream",
     "text": [
      "[997, 996, 995, 994, 993, 992, 991, 990, 989, 988]\n"
     ]
    }
   ],
   "source": [
    "def mapper(line):\n",
    "    list1 = []\n",
    "    for word in range(len(line)):\n",
    "        list1.append(word)\n",
    "    \n",
    "    list2 = []\n",
    "    for x in range(10):\n",
    "        list2.append(max(list1))\n",
    "        list1.remove(max(list1))\n",
    "    \n",
    "    print(list2)\n",
    "#     for x in list2:\n",
    "#         print(x)\n",
    "mapper(num)"
   ]
  },
  {
   "cell_type": "code",
   "execution_count": null,
   "metadata": {},
   "outputs": [],
   "source": []
  }
 ],
 "metadata": {
  "kernelspec": {
   "display_name": "Python 3",
   "language": "python",
   "name": "python3"
  },
  "language_info": {
   "codemirror_mode": {
    "name": "ipython",
    "version": 3
   },
   "file_extension": ".py",
   "mimetype": "text/x-python",
   "name": "python",
   "nbconvert_exporter": "python",
   "pygments_lexer": "ipython3",
   "version": "3.7.3"
  }
 },
 "nbformat": 4,
 "nbformat_minor": 2
}
