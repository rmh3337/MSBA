{
 "cells": [
  {
   "cell_type": "code",
   "execution_count": 7,
   "metadata": {},
   "outputs": [],
   "source": [
    "from selenium import webdriver\n",
    "from selenium.common import exceptions \n",
    "import pandas as pd\n",
    "\n",
    "browser = webdriver.Chrome('chromedriver.exe')"
   ]
  },
  {
   "cell_type": "code",
   "execution_count": 9,
   "metadata": {},
   "outputs": [],
   "source": [
    "browser.get('https://www.walmart.com/c/kp/beach-ball')"
   ]
  },
  {
   "cell_type": "code",
   "execution_count": 10,
   "metadata": {},
   "outputs": [],
   "source": [
    "beach_balls = browser.find_elements_by_css_selector('li.Grid-col.u-size-1-4-l.u-size-3-12-m.u-size-6-12.u-size-1-5-xl')\n"
   ]
  },
  {
   "cell_type": "code",
   "execution_count": 11,
   "metadata": {
    "collapsed": true
   },
   "outputs": [
    {
     "data": {
      "text/plain": [
       "[<selenium.webdriver.remote.webelement.WebElement (session=\"6484377338debdcbbaf27e6656951dd8\", element=\"244723e8-fe51-4d3c-bd3c-074802a10ada\")>,\n",
       " <selenium.webdriver.remote.webelement.WebElement (session=\"6484377338debdcbbaf27e6656951dd8\", element=\"586acb21-7ed5-4f14-a3a7-bbe7bae87f0d\")>,\n",
       " <selenium.webdriver.remote.webelement.WebElement (session=\"6484377338debdcbbaf27e6656951dd8\", element=\"4b0602da-b517-4c0b-a5e3-4ccc75c3c2e5\")>,\n",
       " <selenium.webdriver.remote.webelement.WebElement (session=\"6484377338debdcbbaf27e6656951dd8\", element=\"1f0954c5-c397-4164-83a0-3262ec6678d5\")>,\n",
       " <selenium.webdriver.remote.webelement.WebElement (session=\"6484377338debdcbbaf27e6656951dd8\", element=\"8d54bbb1-19ee-44e1-ab17-ee82f7355c65\")>,\n",
       " <selenium.webdriver.remote.webelement.WebElement (session=\"6484377338debdcbbaf27e6656951dd8\", element=\"19d8ed33-6a06-4179-ae56-5c4dc52d0e5a\")>,\n",
       " <selenium.webdriver.remote.webelement.WebElement (session=\"6484377338debdcbbaf27e6656951dd8\", element=\"64cf319c-8dbc-47a3-b900-155642bfb2e0\")>,\n",
       " <selenium.webdriver.remote.webelement.WebElement (session=\"6484377338debdcbbaf27e6656951dd8\", element=\"01486f41-14e7-414a-91d0-0a4bdd1bb44b\")>,\n",
       " <selenium.webdriver.remote.webelement.WebElement (session=\"6484377338debdcbbaf27e6656951dd8\", element=\"8c79c593-0301-494a-aab0-637abe81cfc4\")>,\n",
       " <selenium.webdriver.remote.webelement.WebElement (session=\"6484377338debdcbbaf27e6656951dd8\", element=\"56e39621-c3da-469f-a741-28de077a3733\")>,\n",
       " <selenium.webdriver.remote.webelement.WebElement (session=\"6484377338debdcbbaf27e6656951dd8\", element=\"ae240709-c7c1-49f9-8642-b8f710326f2f\")>,\n",
       " <selenium.webdriver.remote.webelement.WebElement (session=\"6484377338debdcbbaf27e6656951dd8\", element=\"170ee7d3-a067-41ba-adb0-005bd9ce8843\")>,\n",
       " <selenium.webdriver.remote.webelement.WebElement (session=\"6484377338debdcbbaf27e6656951dd8\", element=\"9bab47da-2a36-4707-8ae1-625277fb16f8\")>,\n",
       " <selenium.webdriver.remote.webelement.WebElement (session=\"6484377338debdcbbaf27e6656951dd8\", element=\"e41fb235-f6cd-4bf0-8af5-2d0eb4a760a4\")>,\n",
       " <selenium.webdriver.remote.webelement.WebElement (session=\"6484377338debdcbbaf27e6656951dd8\", element=\"23e11469-26ff-44ab-b369-40a732a2d835\")>,\n",
       " <selenium.webdriver.remote.webelement.WebElement (session=\"6484377338debdcbbaf27e6656951dd8\", element=\"dae1aeba-82c3-40fc-a39f-308f739bec04\")>,\n",
       " <selenium.webdriver.remote.webelement.WebElement (session=\"6484377338debdcbbaf27e6656951dd8\", element=\"dd8ca100-1619-4468-86f2-1d37b189d8f7\")>,\n",
       " <selenium.webdriver.remote.webelement.WebElement (session=\"6484377338debdcbbaf27e6656951dd8\", element=\"9b382030-6a73-40dc-9188-c84d3c3bc8f9\")>,\n",
       " <selenium.webdriver.remote.webelement.WebElement (session=\"6484377338debdcbbaf27e6656951dd8\", element=\"c43033b4-32a8-442b-97ca-224f62d738ca\")>,\n",
       " <selenium.webdriver.remote.webelement.WebElement (session=\"6484377338debdcbbaf27e6656951dd8\", element=\"f37b7b02-2971-4a77-a362-240f66cebeec\")>,\n",
       " <selenium.webdriver.remote.webelement.WebElement (session=\"6484377338debdcbbaf27e6656951dd8\", element=\"58fc9100-9d18-4514-a9c4-d1fb92c9a1b0\")>,\n",
       " <selenium.webdriver.remote.webelement.WebElement (session=\"6484377338debdcbbaf27e6656951dd8\", element=\"74ed631c-780d-4f9d-96c8-de15cfa8c90c\")>,\n",
       " <selenium.webdriver.remote.webelement.WebElement (session=\"6484377338debdcbbaf27e6656951dd8\", element=\"a8437912-220f-4508-b418-8d324029845b\")>,\n",
       " <selenium.webdriver.remote.webelement.WebElement (session=\"6484377338debdcbbaf27e6656951dd8\", element=\"f640f7ec-6307-4ac2-883f-95dd213120fe\")>,\n",
       " <selenium.webdriver.remote.webelement.WebElement (session=\"6484377338debdcbbaf27e6656951dd8\", element=\"e588bc78-c55a-4fb5-9050-ca746aba4af4\")>,\n",
       " <selenium.webdriver.remote.webelement.WebElement (session=\"6484377338debdcbbaf27e6656951dd8\", element=\"15830a54-04f6-4cb7-9660-877fc6c409da\")>,\n",
       " <selenium.webdriver.remote.webelement.WebElement (session=\"6484377338debdcbbaf27e6656951dd8\", element=\"7191edff-ad3a-4349-9560-579272d09dab\")>,\n",
       " <selenium.webdriver.remote.webelement.WebElement (session=\"6484377338debdcbbaf27e6656951dd8\", element=\"3139a890-f5a5-4a36-a275-3a228e271ba8\")>,\n",
       " <selenium.webdriver.remote.webelement.WebElement (session=\"6484377338debdcbbaf27e6656951dd8\", element=\"096e9779-201b-445f-b04c-275e046686e0\")>,\n",
       " <selenium.webdriver.remote.webelement.WebElement (session=\"6484377338debdcbbaf27e6656951dd8\", element=\"2f71536f-e51b-4ef5-ba42-e40f8e865265\")>,\n",
       " <selenium.webdriver.remote.webelement.WebElement (session=\"6484377338debdcbbaf27e6656951dd8\", element=\"b4af8083-6ba3-4483-af7d-a41e5b3d4889\")>,\n",
       " <selenium.webdriver.remote.webelement.WebElement (session=\"6484377338debdcbbaf27e6656951dd8\", element=\"d40cdcf1-5f00-4af7-b7ff-c355b4197187\")>,\n",
       " <selenium.webdriver.remote.webelement.WebElement (session=\"6484377338debdcbbaf27e6656951dd8\", element=\"51126cef-97a6-48f1-a61b-8ad3f8e0bec8\")>,\n",
       " <selenium.webdriver.remote.webelement.WebElement (session=\"6484377338debdcbbaf27e6656951dd8\", element=\"f14c4b2b-9113-48ec-b626-cd9dd8b89b0f\")>,\n",
       " <selenium.webdriver.remote.webelement.WebElement (session=\"6484377338debdcbbaf27e6656951dd8\", element=\"54b74b61-90cf-4ac5-9b32-af8a3b04afc8\")>,\n",
       " <selenium.webdriver.remote.webelement.WebElement (session=\"6484377338debdcbbaf27e6656951dd8\", element=\"0b26c787-f704-4075-b4cc-66261d44d4b9\")>,\n",
       " <selenium.webdriver.remote.webelement.WebElement (session=\"6484377338debdcbbaf27e6656951dd8\", element=\"385022ff-4c33-47f1-9f88-c529e3364150\")>,\n",
       " <selenium.webdriver.remote.webelement.WebElement (session=\"6484377338debdcbbaf27e6656951dd8\", element=\"66d19a80-9657-40ed-b21a-c978103f7e0d\")>,\n",
       " <selenium.webdriver.remote.webelement.WebElement (session=\"6484377338debdcbbaf27e6656951dd8\", element=\"dfd1a94f-8196-4735-9c64-ecb2f7a48528\")>,\n",
       " <selenium.webdriver.remote.webelement.WebElement (session=\"6484377338debdcbbaf27e6656951dd8\", element=\"f9251fc8-dfe8-400a-8375-054b5ab1126b\")>]"
      ]
     },
     "execution_count": 11,
     "metadata": {},
     "output_type": "execute_result"
    }
   ],
   "source": [
    "beach_balls"
   ]
  },
  {
   "cell_type": "code",
   "execution_count": 12,
   "metadata": {},
   "outputs": [],
   "source": [
    "beach_balls = browser.find_elements_by_css_selector('li.Grid-col.u-size-1-4-l.u-size-3-12-m.u-size-6-12.u-size-1-5-xl')\n",
    "for ball in beach_balls:\n",
    "    desc = ball.find_element_by_css_selector('h2.prod-ProductTitle.no-margin.truncated.heading-b').text\n",
    "    price = ball.find_element_by_css_selector('div.search-result-productprice.gridview').text.lstrip('Price\\n')\n",
    "    shipping = ball.find_element_by_css_selector('div.search-result-product-shipping-details.gridview').text\n"
   ]
  },
  {
   "cell_type": "code",
   "execution_count": 13,
   "metadata": {},
   "outputs": [
    {
     "data": {
      "text/plain": [
       "'$8.98'"
      ]
     },
     "execution_count": 13,
     "metadata": {},
     "output_type": "execute_result"
    }
   ],
   "source": [
    "price"
   ]
  },
  {
   "cell_type": "code",
   "execution_count": 14,
   "metadata": {},
   "outputs": [
    {
     "ename": "ElementClickInterceptedException",
     "evalue": "Message: element click intercepted: Element <button class=\"paginator-btn paginator-btn-next\">...</button> is not clickable at point (66, 519). Other element would receive the click: <div id=\"_REPORT_BUTTON\" style=\"position:fixed;left:5px;bottom:5px;z-index:2;font-size:.875rem;line-height:24px;height:26px;padding:0 20px;color:#fff;background-color:#007bc4;cursor:pointer;\">...</div>\n  (Session info: chrome=78.0.3904.87)\n",
     "output_type": "error",
     "traceback": [
      "\u001b[1;31m---------------------------------------------------------------------------\u001b[0m",
      "\u001b[1;31mElementClickInterceptedException\u001b[0m          Traceback (most recent call last)",
      "\u001b[1;32m<ipython-input-14-f750d5ecb129>\u001b[0m in \u001b[0;36m<module>\u001b[1;34m\u001b[0m\n\u001b[0;32m     17\u001b[0m             \u001b[0mshipping_list\u001b[0m\u001b[1;33m.\u001b[0m\u001b[0mappend\u001b[0m\u001b[1;33m(\u001b[0m\u001b[0mshipping\u001b[0m\u001b[1;33m)\u001b[0m\u001b[1;33m\u001b[0m\u001b[1;33m\u001b[0m\u001b[0m\n\u001b[0;32m     18\u001b[0m \u001b[1;33m\u001b[0m\u001b[0m\n\u001b[1;32m---> 19\u001b[1;33m         \u001b[0mbrowser\u001b[0m\u001b[1;33m.\u001b[0m\u001b[0mfind_element_by_css_selector\u001b[0m\u001b[1;33m(\u001b[0m\u001b[1;34m'button.paginator-btn.paginator-btn-next'\u001b[0m\u001b[1;33m)\u001b[0m\u001b[1;33m.\u001b[0m\u001b[0mclick\u001b[0m\u001b[1;33m(\u001b[0m\u001b[1;33m)\u001b[0m\u001b[1;33m\u001b[0m\u001b[1;33m\u001b[0m\u001b[0m\n\u001b[0m\u001b[0;32m     20\u001b[0m         \u001b[0mi\u001b[0m \u001b[1;33m+=\u001b[0m \u001b[1;36m1\u001b[0m\u001b[1;33m\u001b[0m\u001b[1;33m\u001b[0m\u001b[0m\n\u001b[0;32m     21\u001b[0m \u001b[1;33m\u001b[0m\u001b[0m\n",
      "\u001b[1;32m~\\Anaconda3\\lib\\site-packages\\selenium\\webdriver\\remote\\webelement.py\u001b[0m in \u001b[0;36mclick\u001b[1;34m(self)\u001b[0m\n\u001b[0;32m     78\u001b[0m     \u001b[1;32mdef\u001b[0m \u001b[0mclick\u001b[0m\u001b[1;33m(\u001b[0m\u001b[0mself\u001b[0m\u001b[1;33m)\u001b[0m\u001b[1;33m:\u001b[0m\u001b[1;33m\u001b[0m\u001b[1;33m\u001b[0m\u001b[0m\n\u001b[0;32m     79\u001b[0m         \u001b[1;34m\"\"\"Clicks the element.\"\"\"\u001b[0m\u001b[1;33m\u001b[0m\u001b[1;33m\u001b[0m\u001b[0m\n\u001b[1;32m---> 80\u001b[1;33m         \u001b[0mself\u001b[0m\u001b[1;33m.\u001b[0m\u001b[0m_execute\u001b[0m\u001b[1;33m(\u001b[0m\u001b[0mCommand\u001b[0m\u001b[1;33m.\u001b[0m\u001b[0mCLICK_ELEMENT\u001b[0m\u001b[1;33m)\u001b[0m\u001b[1;33m\u001b[0m\u001b[1;33m\u001b[0m\u001b[0m\n\u001b[0m\u001b[0;32m     81\u001b[0m \u001b[1;33m\u001b[0m\u001b[0m\n\u001b[0;32m     82\u001b[0m     \u001b[1;32mdef\u001b[0m \u001b[0msubmit\u001b[0m\u001b[1;33m(\u001b[0m\u001b[0mself\u001b[0m\u001b[1;33m)\u001b[0m\u001b[1;33m:\u001b[0m\u001b[1;33m\u001b[0m\u001b[1;33m\u001b[0m\u001b[0m\n",
      "\u001b[1;32m~\\Anaconda3\\lib\\site-packages\\selenium\\webdriver\\remote\\webelement.py\u001b[0m in \u001b[0;36m_execute\u001b[1;34m(self, command, params)\u001b[0m\n\u001b[0;32m    631\u001b[0m             \u001b[0mparams\u001b[0m \u001b[1;33m=\u001b[0m \u001b[1;33m{\u001b[0m\u001b[1;33m}\u001b[0m\u001b[1;33m\u001b[0m\u001b[1;33m\u001b[0m\u001b[0m\n\u001b[0;32m    632\u001b[0m         \u001b[0mparams\u001b[0m\u001b[1;33m[\u001b[0m\u001b[1;34m'id'\u001b[0m\u001b[1;33m]\u001b[0m \u001b[1;33m=\u001b[0m \u001b[0mself\u001b[0m\u001b[1;33m.\u001b[0m\u001b[0m_id\u001b[0m\u001b[1;33m\u001b[0m\u001b[1;33m\u001b[0m\u001b[0m\n\u001b[1;32m--> 633\u001b[1;33m         \u001b[1;32mreturn\u001b[0m \u001b[0mself\u001b[0m\u001b[1;33m.\u001b[0m\u001b[0m_parent\u001b[0m\u001b[1;33m.\u001b[0m\u001b[0mexecute\u001b[0m\u001b[1;33m(\u001b[0m\u001b[0mcommand\u001b[0m\u001b[1;33m,\u001b[0m \u001b[0mparams\u001b[0m\u001b[1;33m)\u001b[0m\u001b[1;33m\u001b[0m\u001b[1;33m\u001b[0m\u001b[0m\n\u001b[0m\u001b[0;32m    634\u001b[0m \u001b[1;33m\u001b[0m\u001b[0m\n\u001b[0;32m    635\u001b[0m     \u001b[1;32mdef\u001b[0m \u001b[0mfind_element\u001b[0m\u001b[1;33m(\u001b[0m\u001b[0mself\u001b[0m\u001b[1;33m,\u001b[0m \u001b[0mby\u001b[0m\u001b[1;33m=\u001b[0m\u001b[0mBy\u001b[0m\u001b[1;33m.\u001b[0m\u001b[0mID\u001b[0m\u001b[1;33m,\u001b[0m \u001b[0mvalue\u001b[0m\u001b[1;33m=\u001b[0m\u001b[1;32mNone\u001b[0m\u001b[1;33m)\u001b[0m\u001b[1;33m:\u001b[0m\u001b[1;33m\u001b[0m\u001b[1;33m\u001b[0m\u001b[0m\n",
      "\u001b[1;32m~\\Anaconda3\\lib\\site-packages\\selenium\\webdriver\\remote\\webdriver.py\u001b[0m in \u001b[0;36mexecute\u001b[1;34m(self, driver_command, params)\u001b[0m\n\u001b[0;32m    319\u001b[0m         \u001b[0mresponse\u001b[0m \u001b[1;33m=\u001b[0m \u001b[0mself\u001b[0m\u001b[1;33m.\u001b[0m\u001b[0mcommand_executor\u001b[0m\u001b[1;33m.\u001b[0m\u001b[0mexecute\u001b[0m\u001b[1;33m(\u001b[0m\u001b[0mdriver_command\u001b[0m\u001b[1;33m,\u001b[0m \u001b[0mparams\u001b[0m\u001b[1;33m)\u001b[0m\u001b[1;33m\u001b[0m\u001b[1;33m\u001b[0m\u001b[0m\n\u001b[0;32m    320\u001b[0m         \u001b[1;32mif\u001b[0m \u001b[0mresponse\u001b[0m\u001b[1;33m:\u001b[0m\u001b[1;33m\u001b[0m\u001b[1;33m\u001b[0m\u001b[0m\n\u001b[1;32m--> 321\u001b[1;33m             \u001b[0mself\u001b[0m\u001b[1;33m.\u001b[0m\u001b[0merror_handler\u001b[0m\u001b[1;33m.\u001b[0m\u001b[0mcheck_response\u001b[0m\u001b[1;33m(\u001b[0m\u001b[0mresponse\u001b[0m\u001b[1;33m)\u001b[0m\u001b[1;33m\u001b[0m\u001b[1;33m\u001b[0m\u001b[0m\n\u001b[0m\u001b[0;32m    322\u001b[0m             response['value'] = self._unwrap_value(\n\u001b[0;32m    323\u001b[0m                 response.get('value', None))\n",
      "\u001b[1;32m~\\Anaconda3\\lib\\site-packages\\selenium\\webdriver\\remote\\errorhandler.py\u001b[0m in \u001b[0;36mcheck_response\u001b[1;34m(self, response)\u001b[0m\n\u001b[0;32m    240\u001b[0m                 \u001b[0malert_text\u001b[0m \u001b[1;33m=\u001b[0m \u001b[0mvalue\u001b[0m\u001b[1;33m[\u001b[0m\u001b[1;34m'alert'\u001b[0m\u001b[1;33m]\u001b[0m\u001b[1;33m.\u001b[0m\u001b[0mget\u001b[0m\u001b[1;33m(\u001b[0m\u001b[1;34m'text'\u001b[0m\u001b[1;33m)\u001b[0m\u001b[1;33m\u001b[0m\u001b[1;33m\u001b[0m\u001b[0m\n\u001b[0;32m    241\u001b[0m             \u001b[1;32mraise\u001b[0m \u001b[0mexception_class\u001b[0m\u001b[1;33m(\u001b[0m\u001b[0mmessage\u001b[0m\u001b[1;33m,\u001b[0m \u001b[0mscreen\u001b[0m\u001b[1;33m,\u001b[0m \u001b[0mstacktrace\u001b[0m\u001b[1;33m,\u001b[0m \u001b[0malert_text\u001b[0m\u001b[1;33m)\u001b[0m\u001b[1;33m\u001b[0m\u001b[1;33m\u001b[0m\u001b[0m\n\u001b[1;32m--> 242\u001b[1;33m         \u001b[1;32mraise\u001b[0m \u001b[0mexception_class\u001b[0m\u001b[1;33m(\u001b[0m\u001b[0mmessage\u001b[0m\u001b[1;33m,\u001b[0m \u001b[0mscreen\u001b[0m\u001b[1;33m,\u001b[0m \u001b[0mstacktrace\u001b[0m\u001b[1;33m)\u001b[0m\u001b[1;33m\u001b[0m\u001b[1;33m\u001b[0m\u001b[0m\n\u001b[0m\u001b[0;32m    243\u001b[0m \u001b[1;33m\u001b[0m\u001b[0m\n\u001b[0;32m    244\u001b[0m     \u001b[1;32mdef\u001b[0m \u001b[0m_value_or_default\u001b[0m\u001b[1;33m(\u001b[0m\u001b[0mself\u001b[0m\u001b[1;33m,\u001b[0m \u001b[0mobj\u001b[0m\u001b[1;33m,\u001b[0m \u001b[0mkey\u001b[0m\u001b[1;33m,\u001b[0m \u001b[0mdefault\u001b[0m\u001b[1;33m)\u001b[0m\u001b[1;33m:\u001b[0m\u001b[1;33m\u001b[0m\u001b[1;33m\u001b[0m\u001b[0m\n",
      "\u001b[1;31mElementClickInterceptedException\u001b[0m: Message: element click intercepted: Element <button class=\"paginator-btn paginator-btn-next\">...</button> is not clickable at point (66, 519). Other element would receive the click: <div id=\"_REPORT_BUTTON\" style=\"position:fixed;left:5px;bottom:5px;z-index:2;font-size:.875rem;line-height:24px;height:26px;padding:0 20px;color:#fff;background-color:#007bc4;cursor:pointer;\">...</div>\n  (Session info: chrome=78.0.3904.87)\n"
     ]
    }
   ],
   "source": [
    "\n",
    "desc_list =[]\n",
    "price_list = []\n",
    "shipping_list = []\n",
    "i = 0\n",
    "while i < 2:\n",
    "    try:\n",
    "        beach_balls = browser.find_elements_by_css_selector('li.Grid-col.u-size-1-4-l.u-size-3-12-m.u-size-6-12.u-size-1-5-xl')\n",
    "\n",
    "        for ball in beach_balls:\n",
    "            desc = ball.find_element_by_css_selector('h2.prod-ProductTitle.no-margin.truncated.heading-b').text\n",
    "            price = ball.find_element_by_css_selector('div.search-result-productprice.gridview').text.lstrip('Price\\n')\n",
    "            shipping = ball.find_element_by_css_selector('div.search-result-product-shipping-details.gridview').text\n",
    "\n",
    "            desc_list.append(desc)\n",
    "            price_list.append(price)\n",
    "            shipping_list.append(shipping)\n",
    "\n",
    "        browser.find_element_by_css_selector('button.paginator-btn.paginator-btn-next').click()\n",
    "        i += 1\n",
    "\n",
    "    except exceptions.StaleElementReferenceException:\n",
    "         pass\n",
    "        \n",
    "/html/body/div[1]/div/div/div/div[2]/div/div/div[2]/div/div[3]/div[3]/button\n",
    "<button class=\"paginator-btn paginator-btn-next\"><span class=\"visuallyhidden\">Next Page</span></button>\n",
    "        \n"
   ]
  },
  {
   "cell_type": "code",
   "execution_count": null,
   "metadata": {},
   "outputs": [],
   "source": []
  }
 ],
 "metadata": {
  "kernelspec": {
   "display_name": "Python 3",
   "language": "python",
   "name": "python3"
  },
  "language_info": {
   "codemirror_mode": {
    "name": "ipython",
    "version": 3
   },
   "file_extension": ".py",
   "mimetype": "text/x-python",
   "name": "python",
   "nbconvert_exporter": "python",
   "pygments_lexer": "ipython3",
   "version": "3.7.3"
  }
 },
 "nbformat": 4,
 "nbformat_minor": 2
}
