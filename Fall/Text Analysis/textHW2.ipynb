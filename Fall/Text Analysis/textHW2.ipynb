{
 "cells": [
  {
   "cell_type": "markdown",
   "metadata": {},
   "source": [
    "## Team\n",
    "\n",
    "Saurabh Bodas\n",
    "\n",
    "Ryan Harty\n",
    "\n",
    "David Owen\n",
    "\n",
    "Pooja Shah\n",
    "\n",
    "Emily Wilkins"
   ]
  },
  {
   "cell_type": "markdown",
   "metadata": {},
   "source": [
    "# Task A"
   ]
  },
  {
   "cell_type": "code",
   "execution_count": 1,
   "metadata": {},
   "outputs": [
    {
     "name": "stdout",
     "output_type": "stream",
     "text": [
      "Requirement already satisfied: selenium in c:\\users\\19785\\anaconda3\\lib\\site-packages (3.141.0)\n",
      "Requirement already satisfied: urllib3 in c:\\users\\19785\\anaconda3\\lib\\site-packages (from selenium) (1.24.1)\n"
     ]
    },
    {
     "name": "stderr",
     "output_type": "stream",
     "text": [
      "WARNING: You are using pip version 19.2.3, however version 19.3.1 is available.\n",
      "You should consider upgrading via the 'python -m pip install --upgrade pip' command.\n",
      "'apt' is not recognized as an internal or external command,\n",
      "operable program or batch file.\n",
      "'cp' is not recognized as an internal or external command,\n",
      "operable program or batch file.\n"
     ]
    }
   ],
   "source": [
    "# Don't run anything but the marked cells in Task A to avoid running the whole scraper\n",
    "\n",
    "!pip install selenium\n",
    "# !apt-get -q update # to update ubuntu to correctly run apt install\n",
    "!apt install -yq chromium-chromedriver\n",
    "!cp /usr/lib/chromium-browser/chromedriver /usr/bin\n",
    "\n",
    "import sys\n",
    "sys.path.insert(0,'/usr/lib/chromium-browser/chromedriver')\n",
    "from selenium import webdriver\n",
    "chrome_options = webdriver.ChromeOptions()\n",
    "chrome_options.add_argument('--headless')\n",
    "chrome_options.add_argument('--no-sandbox')\n",
    "chrome_options.add_argument('--disable-dev-shm-usage')"
   ]
  },
  {
   "cell_type": "code",
   "execution_count": 2,
   "metadata": {},
   "outputs": [
    {
     "ename": "ModuleNotFoundError",
     "evalue": "No module named 'google.colab'",
     "output_type": "error",
     "traceback": [
      "\u001b[1;31m---------------------------------------------------------------------------\u001b[0m",
      "\u001b[1;31mModuleNotFoundError\u001b[0m                       Traceback (most recent call last)",
      "\u001b[1;32m<ipython-input-2-4be28ad9ce06>\u001b[0m in \u001b[0;36m<module>\u001b[1;34m\u001b[0m\n\u001b[1;32m----> 1\u001b[1;33m \u001b[1;32mfrom\u001b[0m \u001b[0mgoogle\u001b[0m\u001b[1;33m.\u001b[0m\u001b[0mcolab\u001b[0m \u001b[1;32mimport\u001b[0m \u001b[0mdrive\u001b[0m\u001b[1;33m\u001b[0m\u001b[1;33m\u001b[0m\u001b[0m\n\u001b[0m\u001b[0;32m      2\u001b[0m \u001b[0mdrive\u001b[0m\u001b[1;33m.\u001b[0m\u001b[0mmount\u001b[0m\u001b[1;33m(\u001b[0m\u001b[1;34m'/content/drive'\u001b[0m\u001b[1;33m)\u001b[0m\u001b[1;33m\u001b[0m\u001b[1;33m\u001b[0m\u001b[0m\n",
      "\u001b[1;31mModuleNotFoundError\u001b[0m: No module named 'google.colab'"
     ]
    }
   ],
   "source": [
    "from google.colab import drive \n",
    "drive.mount('/content/drive')"
   ]
  },
  {
   "cell_type": "code",
   "execution_count": 14,
   "metadata": {},
   "outputs": [],
   "source": [
    "# run this even if not scraping\n",
    "import pandas as pd\n",
    "from pandas import Series, DataFrame\n",
    "from time import sleep"
   ]
  },
  {
   "cell_type": "code",
   "execution_count": null,
   "metadata": {},
   "outputs": [],
   "source": [
    "df = DataFrame(columns=['product_name','product_review','user_rating'])\n",
    "driver = webdriver.Chrome('chromedriver', options=chrome_options)\n",
    "i = 1\n",
    "while i < 250+1:\n",
    "    i += 1\n",
    "    driver.get('https://www.beeradvocate.com/beer/top-rated/')\n",
    "    beer_name = driver.find_elements_by_xpath('/html/body/div[2]/div/div[2]/div[2]/div[2]/div/div/div[3]/div/div/div[2]/table/tbody/tr['+str(i)+']/td[2]/a/b')[0].text\n",
    "    beer_link = driver.find_elements_by_xpath('/html/body/div[2]/div/div[2]/div[2]/div[2]/div/div/div[3]/div/div/div[2]/table/tbody/tr['+str(i)+']/td[2]/a')[0].get_attribute('href')\n",
    "  \n",
    "    driver.get(beer_link)\n",
    "    j = 0\n",
    "    while j < 25:\n",
    "        j += 1\n",
    "        try:\n",
    "            rating = driver.find_elements_by_xpath('/html/body/div[2]/div/div[2]/div[2]/div[2]/div/div/div[3]/div/div/div[2]/div[8]/div/div['+str(j)+']/div[2]/span[1]')[0].text\n",
    "            review = driver.find_elements_by_xpath('/html/body/div[2]/div/div[2]/div[2]/div[2]/div/div/div[3]/div/div/div[2]/div[8]/div/div['+str(j)+']/div[2]')[0].text.split('\\n')[3:-4]\n",
    "            review = ' '.join(review)\n",
    "            df = df.append({'product_name':beer_name,'product_review':review,'user_rating':rating}, ignore_index = True)\n",
    "        except IndexError:\n",
    "            print('Beer',i-1,'has less than 25 reviews. Error on review',j)\n",
    "            print(sys.exc_info()[0])\n",
    "            break\n",
    "    sleep(.5)\n",
    "    if (i%50 == 0):\n",
    "        print('On beer',i-1)\n",
    "\n",
    "driver.quit()"
   ]
  },
  {
   "cell_type": "code",
   "execution_count": null,
   "metadata": {},
   "outputs": [],
   "source": [
    "df.to_csv('hw2_scraped.csv', index = False)"
   ]
  },
  {
   "cell_type": "markdown",
   "metadata": {},
   "source": [
    "# Task B"
   ]
  },
  {
   "cell_type": "markdown",
   "metadata": {},
   "source": [
    "Steps for making spaCy work with Jupyter Notebook:\n",
    "\n",
    "create a virtual environment: conda create -n textclass python=3.7 anaconda\n",
    "\n",
    "activate it: conda activate textclass\n",
    "\n",
    "make sure jupyter is installed: conda install -n textclass jupyter\n",
    "\n",
    "install spacy: conda install -n textclass spacy\n",
    "\n",
    "click 'y' if it asks to downgrade\n",
    "\n",
    "run jupyter notebook inside the venv and it should work\n",
    "\n",
    "(can repeat install with nltk inside venv if it doesn't work)"
   ]
  },
  {
   "cell_type": "code",
   "execution_count": 1,
   "metadata": {
    "scrolled": false
   },
   "outputs": [
    {
     "name": "stderr",
     "output_type": "stream",
     "text": [
      "[nltk_data] Downloading package punkt to\n",
      "[nltk_data]     C:\\Users\\drs75\\AppData\\Roaming\\nltk_data...\n",
      "[nltk_data]   Package punkt is already up-to-date!\n",
      "[nltk_data] Downloading package stopwords to\n",
      "[nltk_data]     C:\\Users\\drs75\\AppData\\Roaming\\nltk_data...\n",
      "[nltk_data]   Package stopwords is already up-to-date!\n"
     ]
    }
   ],
   "source": [
    "import nltk\n",
    "nltk.download('punkt')\n",
    "nltk.download('stopwords')\n",
    "sw = set(nltk.corpus.stopwords.words('english'))\n",
    "import numpy as np"
   ]
  },
  {
   "cell_type": "code",
   "execution_count": 40,
   "metadata": {},
   "outputs": [
    {
     "data": {
      "text/html": [
       "<div>\n",
       "<style scoped>\n",
       "    .dataframe tbody tr th:only-of-type {\n",
       "        vertical-align: middle;\n",
       "    }\n",
       "\n",
       "    .dataframe tbody tr th {\n",
       "        vertical-align: top;\n",
       "    }\n",
       "\n",
       "    .dataframe thead th {\n",
       "        text-align: right;\n",
       "    }\n",
       "</style>\n",
       "<table border=\"1\" class=\"dataframe\">\n",
       "  <thead>\n",
       "    <tr style=\"text-align: right;\">\n",
       "      <th></th>\n",
       "      <th>product_name</th>\n",
       "      <th>product_review</th>\n",
       "      <th>user_rating</th>\n",
       "    </tr>\n",
       "  </thead>\n",
       "  <tbody>\n",
       "    <tr>\n",
       "      <th>0</th>\n",
       "      <td>Kentucky Brunch Brand Stout</td>\n",
       "      <td>2016 Silver Wax. Aroma has whiskey, maple, tof...</td>\n",
       "      <td>4.80</td>\n",
       "    </tr>\n",
       "    <tr>\n",
       "      <th>1</th>\n",
       "      <td>Kentucky Brunch Brand Stout</td>\n",
       "      <td>The beer pours Pitch Black with a frothy tan h...</td>\n",
       "      <td>4.74</td>\n",
       "    </tr>\n",
       "    <tr>\n",
       "      <th>2</th>\n",
       "      <td>Kentucky Brunch Brand Stout</td>\n",
       "      <td>Probably the smoothest beer I have ever had. S...</td>\n",
       "      <td>4.68</td>\n",
       "    </tr>\n",
       "    <tr>\n",
       "      <th>3</th>\n",
       "      <td>Kentucky Brunch Brand Stout</td>\n",
       "      <td>Dark black, very thick, a little bit of tan he...</td>\n",
       "      <td>5.00</td>\n",
       "    </tr>\n",
       "    <tr>\n",
       "      <th>4</th>\n",
       "      <td>Kentucky Brunch Brand Stout</td>\n",
       "      <td>Poured black as ink with thin ruby edges at 58...</td>\n",
       "      <td>4.97</td>\n",
       "    </tr>\n",
       "  </tbody>\n",
       "</table>\n",
       "</div>"
      ],
      "text/plain": [
       "                  product_name  \\\n",
       "0  Kentucky Brunch Brand Stout   \n",
       "1  Kentucky Brunch Brand Stout   \n",
       "2  Kentucky Brunch Brand Stout   \n",
       "3  Kentucky Brunch Brand Stout   \n",
       "4  Kentucky Brunch Brand Stout   \n",
       "\n",
       "                                      product_review  user_rating  \n",
       "0  2016 Silver Wax. Aroma has whiskey, maple, tof...         4.80  \n",
       "1  The beer pours Pitch Black with a frothy tan h...         4.74  \n",
       "2  Probably the smoothest beer I have ever had. S...         4.68  \n",
       "3  Dark black, very thick, a little bit of tan he...         5.00  \n",
       "4  Poured black as ink with thin ruby edges at 58...         4.97  "
      ]
     },
     "execution_count": 40,
     "metadata": {},
     "output_type": "execute_result"
    }
   ],
   "source": [
    "df = pd.read_csv('hw2_scraped.csv')\n",
    "df = df[df['product_review'].notnull()]\n",
    "df.head()"
   ]
  },
  {
   "cell_type": "code",
   "execution_count": 75,
   "metadata": {},
   "outputs": [
    {
     "data": {
      "text/plain": [
       "0       [2016, Silver, Wax, ., Aroma, has, whiskey, ,,...\n",
       "1       [The, beer, pours, Pitch, Black, with, a, frot...\n",
       "2       [Probably, the, smoothest, beer, I, have, ever...\n",
       "3       [Dark, black, ,, very, thick, ,, a, little, bi...\n",
       "4       [Poured, black, as, ink, with, thin, ruby, edg...\n",
       "                              ...                        \n",
       "6205    [Bottle, poured, ;, very, little, head, and, c...\n",
       "6206    [First, review, of, Madagascar, :, 2017, vinta...\n",
       "6207    [Yeah, ,, this, works, for, me, !, Lots, of, v...\n",
       "6208    [Reviewing, from, notes, ., Thanks, Brandon, f...\n",
       "6209    [2015, vintage, bottle, Tart, cherry, on, the,...\n",
       "Name: product_review, Length: 6206, dtype: object"
      ]
     },
     "execution_count": 75,
     "metadata": {},
     "output_type": "execute_result"
    }
   ],
   "source": [
    "word_list"
   ]
  },
  {
   "cell_type": "code",
   "execution_count": null,
   "metadata": {},
   "outputs": [],
   "source": [
    "word_list"
   ]
  },
  {
   "cell_type": "code",
   "execution_count": 77,
   "metadata": {},
   "outputs": [],
   "source": [
    "# first, look for which of the specified attributes appear the most\n",
    "# we will use the top 3\n",
    "review_tokenized = df['product_review'].apply(nltk.word_tokenize)\n",
    "word_list = []\n",
    "for words in review_tokenized: # converting list of lists into one long list of words, dropping numbers and stopwords\n",
    "    word_list += [w.lower() for w in words if len(w) > 1 and not w.isnumeric() and w.lower() not in sw]"
   ]
  },
  {
   "cell_type": "code",
   "execution_count": 78,
   "metadata": {},
   "outputs": [
    {
     "data": {
      "text/plain": [
       "balanced      843\n",
       "complex       611\n",
       "fruity        498\n",
       "crisp         312\n",
       "hoppy         273\n",
       "malty         186\n",
       "robust        113\n",
       "aggressive     83\n",
       "dtype: int64"
      ]
     },
     "execution_count": 78,
     "metadata": {},
     "output_type": "execute_result"
    }
   ],
   "source": [
    "fdist = nltk.FreqDist(word_list)\n",
    "attr = ['aggressive','balanced','complex','crisp','fruity','hoppy','malty','robust']\n",
    "\n",
    "attr_fdist = Series({i:fdist[i] for i in attr if i in fdist}).sort_values(ascending = False)\n",
    "attr_fdist"
   ]
  },
  {
   "cell_type": "markdown",
   "metadata": {},
   "source": [
    "So, the three attributes we will pick are \"complex\", \"fruity\", and \"crisp\". We have excluded \"balanced\" because it is defined as a mix of sweet and bitter and may conflict with sentiments for \"fruity\", as well as not making much sense for someone to want balance *and* fruitiness."
   ]
  },
  {
   "cell_type": "code",
   "execution_count": 33,
   "metadata": {},
   "outputs": [],
   "source": [
    "# create input file of our top three attributes\n",
    "attr_file = open('attributes.txt','w')\n",
    "for i in range(1,4):\n",
    "    attr_file.write(attr_fdist.index.values[i] + '\\n')\n",
    "attr_file.close()"
   ]
  },
  {
   "cell_type": "markdown",
   "metadata": {},
   "source": [
    "# Task C"
   ]
  },
  {
   "cell_type": "code",
   "execution_count": 22,
   "metadata": {},
   "outputs": [],
   "source": [
    "import spacy\n",
    "# run to get the actual word vectors after pip installing 'spacy'\n",
    "# probably don't need to run this more than once\n",
    "# remove the ! and put this in the command terminal; it's easier IMO\n",
    "#!python -m spacy download en_core_web_lg (or md if large doesn't provide a big bonus)\n",
    "import en_core_web_lg\n",
    "nlp = en_core_web_lg.load()"
   ]
  },
  {
   "cell_type": "code",
   "execution_count": 43,
   "metadata": {},
   "outputs": [],
   "source": [
    "attr_infile = open('attributes.txt','r')\n",
    "attr_words = attr_infile.read().split() # if attributes are spaced out or on separate lines, this will read them correctly\n",
    "attr_use = ' '.join(attr_words) # converts to spacing for nlp (in case the infile wasn't that way already)\n",
    "attr_infile.close()"
   ]
  },
  {
   "cell_type": "code",
   "execution_count": 79,
   "metadata": {},
   "outputs": [],
   "source": [
    "# this takes forever\n",
    "df_sim = df[['product_name','product_review']] # copying over from the original df\n",
    "attr_token = nlp(attr_use)\n",
    "tokens = df['product_review'].apply(nlp)\n",
    "\n",
    "df_sim['similarity_score'] = tokens.apply(attr_token.similarity) # adding similarity score row"
   ]
  },
  {
   "cell_type": "code",
   "execution_count": 84,
   "metadata": {},
   "outputs": [
    {
     "data": {
      "text/html": [
       "<div>\n",
       "<style scoped>\n",
       "    .dataframe tbody tr th:only-of-type {\n",
       "        vertical-align: middle;\n",
       "    }\n",
       "\n",
       "    .dataframe tbody tr th {\n",
       "        vertical-align: top;\n",
       "    }\n",
       "\n",
       "    .dataframe thead th {\n",
       "        text-align: right;\n",
       "    }\n",
       "</style>\n",
       "<table border=\"1\" class=\"dataframe\">\n",
       "  <thead>\n",
       "    <tr style=\"text-align: right;\">\n",
       "      <th></th>\n",
       "      <th>product_name</th>\n",
       "      <th>product_review</th>\n",
       "      <th>similarity_score</th>\n",
       "    </tr>\n",
       "  </thead>\n",
       "  <tbody>\n",
       "    <tr>\n",
       "      <th>4105</th>\n",
       "      <td>Saison Bernice</td>\n",
       "      <td>Tasted from bottle. Classic farmhouse saison. ...</td>\n",
       "      <td>0.793729</td>\n",
       "    </tr>\n",
       "    <tr>\n",
       "      <th>732</th>\n",
       "      <td>Duck Duck Gooze</td>\n",
       "      <td>On tap at Beavertown Extravaganza. Aroma has s...</td>\n",
       "      <td>0.770780</td>\n",
       "    </tr>\n",
       "    <tr>\n",
       "      <th>4750</th>\n",
       "      <td>Gueuze 100% Lambic</td>\n",
       "      <td>375ml bottled 17 May 2016  Pours cloudy hazy a...</td>\n",
       "      <td>0.766651</td>\n",
       "    </tr>\n",
       "    <tr>\n",
       "      <th>1111</th>\n",
       "      <td>Double Galaxy</td>\n",
       "      <td>Huge notes of dank tropical citrus, pineapple,...</td>\n",
       "      <td>0.766617</td>\n",
       "    </tr>\n",
       "    <tr>\n",
       "      <th>3009</th>\n",
       "      <td>Pseudo Sue</td>\n",
       "      <td>Murky creamsicle orange in color. Poured with ...</td>\n",
       "      <td>0.764095</td>\n",
       "    </tr>\n",
       "  </tbody>\n",
       "</table>\n",
       "</div>"
      ],
      "text/plain": [
       "            product_name                                     product_review  \\\n",
       "4105      Saison Bernice  Tasted from bottle. Classic farmhouse saison. ...   \n",
       "732      Duck Duck Gooze  On tap at Beavertown Extravaganza. Aroma has s...   \n",
       "4750  Gueuze 100% Lambic  375ml bottled 17 May 2016  Pours cloudy hazy a...   \n",
       "1111       Double Galaxy  Huge notes of dank tropical citrus, pineapple,...   \n",
       "3009          Pseudo Sue  Murky creamsicle orange in color. Poured with ...   \n",
       "\n",
       "      similarity_score  \n",
       "4105          0.793729  \n",
       "732           0.770780  \n",
       "4750          0.766651  \n",
       "1111          0.766617  \n",
       "3009          0.764095  "
      ]
     },
     "execution_count": 84,
     "metadata": {},
     "output_type": "execute_result"
    }
   ],
   "source": [
    "df_sim_300 = df_sim.sort_values(by = 'similarity_score', ascending = False)[:300]\n",
    "df_sim_300.to_csv('similarity.csv', index = False)\n",
    "df_sim_300.head()"
   ]
  },
  {
   "cell_type": "markdown",
   "metadata": {},
   "source": [
    "# Task D"
   ]
  },
  {
   "cell_type": "code",
   "execution_count": 2,
   "metadata": {},
   "outputs": [
    {
     "name": "stdout",
     "output_type": "stream",
     "text": [
      "Collecting vaderSentiment\n",
      "  Downloading https://files.pythonhosted.org/packages/86/9e/c53e1fc61aac5ee490a6ac5e21b1ac04e55a7c2aba647bb8411c9aadf24e/vaderSentiment-3.2.1-py2.py3-none-any.whl (125kB)\n",
      "Installing collected packages: vaderSentiment\n",
      "Successfully installed vaderSentiment-3.2.1\n",
      "Note: you may need to restart the kernel to use updated packages.\n"
     ]
    }
   ],
   "source": [
    "pip install vaderSentiment"
   ]
  },
  {
   "cell_type": "code",
   "execution_count": 3,
   "metadata": {},
   "outputs": [],
   "source": [
    "from vaderSentiment.vaderSentiment import SentimentIntensityAnalyzer\n",
    "analyser = SentimentIntensityAnalyzer() #initialising the VADER sentiment analyser"
   ]
  },
  {
   "cell_type": "code",
   "execution_count": 21,
   "metadata": {},
   "outputs": [],
   "source": [
    "def sentiment_scores(review): \n",
    "    score = analyser.polarity_scores(review) #the polarity_scores function gives the scores for each review\n",
    "    return score['compound'] #VADER gives us the negative, neutral, positive and compound scores - we only care about the compound one"
   ]
  },
  {
   "cell_type": "code",
   "execution_count": 16,
   "metadata": {},
   "outputs": [
    {
     "data": {
      "text/html": [
       "<div>\n",
       "<style scoped>\n",
       "    .dataframe tbody tr th:only-of-type {\n",
       "        vertical-align: middle;\n",
       "    }\n",
       "\n",
       "    .dataframe tbody tr th {\n",
       "        vertical-align: top;\n",
       "    }\n",
       "\n",
       "    .dataframe thead th {\n",
       "        text-align: right;\n",
       "    }\n",
       "</style>\n",
       "<table border=\"1\" class=\"dataframe\">\n",
       "  <thead>\n",
       "    <tr style=\"text-align: right;\">\n",
       "      <th></th>\n",
       "      <th>product_name</th>\n",
       "      <th>product_review</th>\n",
       "      <th>similarity_score</th>\n",
       "    </tr>\n",
       "  </thead>\n",
       "  <tbody>\n",
       "    <tr>\n",
       "      <th>0</th>\n",
       "      <td>Saison Bernice</td>\n",
       "      <td>Tasted from bottle. Classic farmhouse saison. ...</td>\n",
       "      <td>0.793729</td>\n",
       "    </tr>\n",
       "    <tr>\n",
       "      <th>1</th>\n",
       "      <td>Duck Duck Gooze</td>\n",
       "      <td>On tap at Beavertown Extravaganza. Aroma has s...</td>\n",
       "      <td>0.770780</td>\n",
       "    </tr>\n",
       "    <tr>\n",
       "      <th>2</th>\n",
       "      <td>Gueuze 100% Lambic</td>\n",
       "      <td>375ml bottled 17 May 2016  Pours cloudy hazy a...</td>\n",
       "      <td>0.766651</td>\n",
       "    </tr>\n",
       "    <tr>\n",
       "      <th>3</th>\n",
       "      <td>Double Galaxy</td>\n",
       "      <td>Huge notes of dank tropical citrus, pineapple,...</td>\n",
       "      <td>0.766617</td>\n",
       "    </tr>\n",
       "    <tr>\n",
       "      <th>4</th>\n",
       "      <td>Pseudo Sue</td>\n",
       "      <td>Murky creamsicle orange in color. Poured with ...</td>\n",
       "      <td>0.764095</td>\n",
       "    </tr>\n",
       "  </tbody>\n",
       "</table>\n",
       "</div>"
      ],
      "text/plain": [
       "         product_name                                     product_review  \\\n",
       "0      Saison Bernice  Tasted from bottle. Classic farmhouse saison. ...   \n",
       "1     Duck Duck Gooze  On tap at Beavertown Extravaganza. Aroma has s...   \n",
       "2  Gueuze 100% Lambic  375ml bottled 17 May 2016  Pours cloudy hazy a...   \n",
       "3       Double Galaxy  Huge notes of dank tropical citrus, pineapple,...   \n",
       "4          Pseudo Sue  Murky creamsicle orange in color. Poured with ...   \n",
       "\n",
       "   similarity_score  \n",
       "0          0.793729  \n",
       "1          0.770780  \n",
       "2          0.766651  \n",
       "3          0.766617  \n",
       "4          0.764095  "
      ]
     },
     "execution_count": 16,
     "metadata": {},
     "output_type": "execute_result"
    }
   ],
   "source": [
    "reviews_300 = pd.read_csv('similarity.csv')\n",
    "reviews_300.head()"
   ]
  },
  {
   "cell_type": "code",
   "execution_count": 25,
   "metadata": {},
   "outputs": [
    {
     "data": {
      "text/html": [
       "<div>\n",
       "<style scoped>\n",
       "    .dataframe tbody tr th:only-of-type {\n",
       "        vertical-align: middle;\n",
       "    }\n",
       "\n",
       "    .dataframe tbody tr th {\n",
       "        vertical-align: top;\n",
       "    }\n",
       "\n",
       "    .dataframe thead th {\n",
       "        text-align: right;\n",
       "    }\n",
       "</style>\n",
       "<table border=\"1\" class=\"dataframe\">\n",
       "  <thead>\n",
       "    <tr style=\"text-align: right;\">\n",
       "      <th></th>\n",
       "      <th>product_name</th>\n",
       "      <th>product_review</th>\n",
       "      <th>similarity_score</th>\n",
       "      <th>sentiment_score</th>\n",
       "    </tr>\n",
       "  </thead>\n",
       "  <tbody>\n",
       "    <tr>\n",
       "      <th>150</th>\n",
       "      <td>Barrel-Aged Sump Coffee Stout</td>\n",
       "      <td>Pitch black and nearly opaque with dark chocol...</td>\n",
       "      <td>0.714936</td>\n",
       "      <td>0.9967</td>\n",
       "    </tr>\n",
       "    <tr>\n",
       "      <th>87</th>\n",
       "      <td>Ghost In The Machine</td>\n",
       "      <td>12 ounce bottle into tulip glass, bottled on 8...</td>\n",
       "      <td>0.724401</td>\n",
       "      <td>0.9966</td>\n",
       "    </tr>\n",
       "    <tr>\n",
       "      <th>78</th>\n",
       "      <td>Emerald Grouper</td>\n",
       "      <td>16 ounce can into tulip glass, canned on 9/24/...</td>\n",
       "      <td>0.725506</td>\n",
       "      <td>0.9961</td>\n",
       "    </tr>\n",
       "    <tr>\n",
       "      <th>169</th>\n",
       "      <td>Double Dry Hopped Congress Street</td>\n",
       "      <td>16 ounce can into tulip glass, canned on 4/11/...</td>\n",
       "      <td>0.713833</td>\n",
       "      <td>0.9958</td>\n",
       "    </tr>\n",
       "    <tr>\n",
       "      <th>140</th>\n",
       "      <td>Art</td>\n",
       "      <td>375ml bottle, Batch 5, dated March 18, 2015, p...</td>\n",
       "      <td>0.715951</td>\n",
       "      <td>0.9951</td>\n",
       "    </tr>\n",
       "  </tbody>\n",
       "</table>\n",
       "</div>"
      ],
      "text/plain": [
       "                          product_name  \\\n",
       "150      Barrel-Aged Sump Coffee Stout   \n",
       "87                Ghost In The Machine   \n",
       "78                     Emerald Grouper   \n",
       "169  Double Dry Hopped Congress Street   \n",
       "140                                Art   \n",
       "\n",
       "                                        product_review  similarity_score  \\\n",
       "150  Pitch black and nearly opaque with dark chocol...          0.714936   \n",
       "87   12 ounce bottle into tulip glass, bottled on 8...          0.724401   \n",
       "78   16 ounce can into tulip glass, canned on 9/24/...          0.725506   \n",
       "169  16 ounce can into tulip glass, canned on 4/11/...          0.713833   \n",
       "140  375ml bottle, Batch 5, dated March 18, 2015, p...          0.715951   \n",
       "\n",
       "     sentiment_score  \n",
       "150           0.9967  \n",
       "87            0.9966  \n",
       "78            0.9961  \n",
       "169           0.9958  \n",
       "140           0.9951  "
      ]
     },
     "execution_count": 25,
     "metadata": {},
     "output_type": "execute_result"
    }
   ],
   "source": [
    "reviews_300['sentiment_score'] = reviews_300['product_review'].apply(sentiment_scores) #finding the sentiment scores of each product review\n",
    "reviews_300 = reviews_300.sort_values(by = 'sentiment_score', ascending = False)\n",
    "reviews_300.head()"
   ]
  },
  {
   "cell_type": "code",
   "execution_count": 50,
   "metadata": {},
   "outputs": [],
   "source": [
    "average_scores = reviews_300.groupby('product_name').mean()"
   ]
  },
  {
   "cell_type": "code",
   "execution_count": 51,
   "metadata": {},
   "outputs": [
    {
     "data": {
      "text/html": [
       "<div>\n",
       "<style scoped>\n",
       "    .dataframe tbody tr th:only-of-type {\n",
       "        vertical-align: middle;\n",
       "    }\n",
       "\n",
       "    .dataframe tbody tr th {\n",
       "        vertical-align: top;\n",
       "    }\n",
       "\n",
       "    .dataframe thead th {\n",
       "        text-align: right;\n",
       "    }\n",
       "</style>\n",
       "<table border=\"1\" class=\"dataframe\">\n",
       "  <thead>\n",
       "    <tr style=\"text-align: right;\">\n",
       "      <th></th>\n",
       "      <th>similarity_score</th>\n",
       "      <th>sentiment_score</th>\n",
       "    </tr>\n",
       "    <tr>\n",
       "      <th>product_name</th>\n",
       "      <th></th>\n",
       "      <th></th>\n",
       "    </tr>\n",
       "  </thead>\n",
       "  <tbody>\n",
       "    <tr>\n",
       "      <th>Barrel-Aged Sump Coffee Stout</th>\n",
       "      <td>0.714936</td>\n",
       "      <td>0.9967</td>\n",
       "    </tr>\n",
       "    <tr>\n",
       "      <th>Expedition Stout - Bourbon Barrel-Aged</th>\n",
       "      <td>0.706004</td>\n",
       "      <td>0.9818</td>\n",
       "    </tr>\n",
       "    <tr>\n",
       "      <th>Assassin</th>\n",
       "      <td>0.715713</td>\n",
       "      <td>0.9817</td>\n",
       "    </tr>\n",
       "    <tr>\n",
       "      <th>Speedway Stout - Vietnamese Coffee</th>\n",
       "      <td>0.748050</td>\n",
       "      <td>0.9813</td>\n",
       "    </tr>\n",
       "    <tr>\n",
       "      <th>Alter Ego</th>\n",
       "      <td>0.714305</td>\n",
       "      <td>0.9776</td>\n",
       "    </tr>\n",
       "  </tbody>\n",
       "</table>\n",
       "</div>"
      ],
      "text/plain": [
       "                                        similarity_score  sentiment_score\n",
       "product_name                                                             \n",
       "Barrel-Aged Sump Coffee Stout                   0.714936           0.9967\n",
       "Expedition Stout - Bourbon Barrel-Aged          0.706004           0.9818\n",
       "Assassin                                        0.715713           0.9817\n",
       "Speedway Stout - Vietnamese Coffee              0.748050           0.9813\n",
       "Alter Ego                                       0.714305           0.9776"
      ]
     },
     "execution_count": 51,
     "metadata": {},
     "output_type": "execute_result"
    }
   ],
   "source": [
    "average_scores = average_scores.sort_values(by = 'sentiment_score', ascending = False)\n",
    "average_scores.head()"
   ]
  },
  {
   "cell_type": "code",
   "execution_count": 52,
   "metadata": {},
   "outputs": [],
   "source": [
    "reviews_300.to_csv('sentiment.csv', index = False)"
   ]
  },
  {
   "cell_type": "code",
   "execution_count": 38,
   "metadata": {},
   "outputs": [],
   "source": [
    "average_scores.to_csv('average_scores.csv')"
   ]
  },
  {
   "cell_type": "markdown",
   "metadata": {},
   "source": [
    "# Task E"
   ]
  },
  {
   "cell_type": "markdown",
   "metadata": {},
   "source": [
    "Based on the above similarity and sentiment scores, we would recommend the following 3 beers to the customer:\n",
    "    1. Barrel-Agd Sump Coffee Stout\n",
    "    2. Expedition Stout - Bourbon Barrel-Aged\n",
    "    3. Assassin\n",
    "\n",
    "The average similarity and sentiment scores for these beers are as follows:"
   ]
  },
  {
   "cell_type": "code",
   "execution_count": 53,
   "metadata": {},
   "outputs": [
    {
     "data": {
      "text/html": [
       "<div>\n",
       "<style scoped>\n",
       "    .dataframe tbody tr th:only-of-type {\n",
       "        vertical-align: middle;\n",
       "    }\n",
       "\n",
       "    .dataframe tbody tr th {\n",
       "        vertical-align: top;\n",
       "    }\n",
       "\n",
       "    .dataframe thead th {\n",
       "        text-align: right;\n",
       "    }\n",
       "</style>\n",
       "<table border=\"1\" class=\"dataframe\">\n",
       "  <thead>\n",
       "    <tr style=\"text-align: right;\">\n",
       "      <th></th>\n",
       "      <th>similarity_score</th>\n",
       "      <th>sentiment_score</th>\n",
       "    </tr>\n",
       "    <tr>\n",
       "      <th>product_name</th>\n",
       "      <th></th>\n",
       "      <th></th>\n",
       "    </tr>\n",
       "  </thead>\n",
       "  <tbody>\n",
       "    <tr>\n",
       "      <th>Barrel-Aged Sump Coffee Stout</th>\n",
       "      <td>0.714936</td>\n",
       "      <td>0.9967</td>\n",
       "    </tr>\n",
       "    <tr>\n",
       "      <th>Expedition Stout - Bourbon Barrel-Aged</th>\n",
       "      <td>0.706004</td>\n",
       "      <td>0.9818</td>\n",
       "    </tr>\n",
       "    <tr>\n",
       "      <th>Assassin</th>\n",
       "      <td>0.715713</td>\n",
       "      <td>0.9817</td>\n",
       "    </tr>\n",
       "  </tbody>\n",
       "</table>\n",
       "</div>"
      ],
      "text/plain": [
       "                                        similarity_score  sentiment_score\n",
       "product_name                                                             \n",
       "Barrel-Aged Sump Coffee Stout                   0.714936           0.9967\n",
       "Expedition Stout - Bourbon Barrel-Aged          0.706004           0.9818\n",
       "Assassin                                        0.715713           0.9817"
      ]
     },
     "execution_count": 53,
     "metadata": {},
     "output_type": "execute_result"
    }
   ],
   "source": [
    "average_scores.head(3)"
   ]
  },
  {
   "cell_type": "markdown",
   "metadata": {},
   "source": [
    "# Task F"
   ]
  },
  {
   "cell_type": "code",
   "execution_count": 54,
   "metadata": {},
   "outputs": [],
   "source": [
    "total_average_ratings = df.groupby('product_name').mean().sort_values(by = 'user_rating', ascending = False)"
   ]
  },
  {
   "cell_type": "markdown",
   "metadata": {},
   "source": [
    "Purely based on the user ratings of the entire dataset, we would recommend the following 3 beers to the user:"
   ]
  },
  {
   "cell_type": "code",
   "execution_count": 55,
   "metadata": {},
   "outputs": [
    {
     "data": {
      "text/html": [
       "<div>\n",
       "<style scoped>\n",
       "    .dataframe tbody tr th:only-of-type {\n",
       "        vertical-align: middle;\n",
       "    }\n",
       "\n",
       "    .dataframe tbody tr th {\n",
       "        vertical-align: top;\n",
       "    }\n",
       "\n",
       "    .dataframe thead th {\n",
       "        text-align: right;\n",
       "    }\n",
       "</style>\n",
       "<table border=\"1\" class=\"dataframe\">\n",
       "  <thead>\n",
       "    <tr style=\"text-align: right;\">\n",
       "      <th></th>\n",
       "      <th>user_rating</th>\n",
       "    </tr>\n",
       "    <tr>\n",
       "      <th>product_name</th>\n",
       "      <th></th>\n",
       "    </tr>\n",
       "  </thead>\n",
       "  <tbody>\n",
       "    <tr>\n",
       "      <th>Kentucky Brunch Brand Stout</th>\n",
       "      <td>4.812000</td>\n",
       "    </tr>\n",
       "    <tr>\n",
       "      <th>Chemtrailmix</th>\n",
       "      <td>4.811176</td>\n",
       "    </tr>\n",
       "    <tr>\n",
       "      <th>Barrel-Aged Abraxas</th>\n",
       "      <td>4.796400</td>\n",
       "    </tr>\n",
       "  </tbody>\n",
       "</table>\n",
       "</div>"
      ],
      "text/plain": [
       "                             user_rating\n",
       "product_name                            \n",
       "Kentucky Brunch Brand Stout     4.812000\n",
       "Chemtrailmix                    4.811176\n",
       "Barrel-Aged Abraxas             4.796400"
      ]
     },
     "execution_count": 55,
     "metadata": {},
     "output_type": "execute_result"
    }
   ],
   "source": [
    "total_average_ratings.head(3)"
   ]
  },
  {
   "cell_type": "markdown",
   "metadata": {},
   "source": [
    "The similarity and sentiment scores for these beers with the user preferences are:"
   ]
  },
  {
   "cell_type": "code",
   "execution_count": 56,
   "metadata": {},
   "outputs": [
    {
     "name": "stderr",
     "output_type": "stream",
     "text": [
      "C:\\Users\\drs75\\Anaconda3\\lib\\site-packages\\ipykernel_launcher.py:2: FutureWarning: \n",
      "Passing list-likes to .loc or [] with any missing label will raise\n",
      "KeyError in the future, you can use .reindex() as an alternative.\n",
      "\n",
      "See the documentation here:\n",
      "https://pandas.pydata.org/pandas-docs/stable/indexing.html#deprecate-loc-reindex-listlike\n",
      "  \n"
     ]
    },
    {
     "data": {
      "text/html": [
       "<div>\n",
       "<style scoped>\n",
       "    .dataframe tbody tr th:only-of-type {\n",
       "        vertical-align: middle;\n",
       "    }\n",
       "\n",
       "    .dataframe tbody tr th {\n",
       "        vertical-align: top;\n",
       "    }\n",
       "\n",
       "    .dataframe thead th {\n",
       "        text-align: right;\n",
       "    }\n",
       "</style>\n",
       "<table border=\"1\" class=\"dataframe\">\n",
       "  <thead>\n",
       "    <tr style=\"text-align: right;\">\n",
       "      <th></th>\n",
       "      <th>similarity_score</th>\n",
       "      <th>sentiment_score</th>\n",
       "    </tr>\n",
       "    <tr>\n",
       "      <th>product_name</th>\n",
       "      <th></th>\n",
       "      <th></th>\n",
       "    </tr>\n",
       "  </thead>\n",
       "  <tbody>\n",
       "    <tr>\n",
       "      <th>Kentucky Brunch Brand Stout</th>\n",
       "      <td>NaN</td>\n",
       "      <td>NaN</td>\n",
       "    </tr>\n",
       "    <tr>\n",
       "      <th>Chemtrailmix</th>\n",
       "      <td>NaN</td>\n",
       "      <td>NaN</td>\n",
       "    </tr>\n",
       "    <tr>\n",
       "      <th>Barrel-Aged Abraxas</th>\n",
       "      <td>0.71231</td>\n",
       "      <td>0.8979</td>\n",
       "    </tr>\n",
       "  </tbody>\n",
       "</table>\n",
       "</div>"
      ],
      "text/plain": [
       "                             similarity_score  sentiment_score\n",
       "product_name                                                  \n",
       "Kentucky Brunch Brand Stout               NaN              NaN\n",
       "Chemtrailmix                              NaN              NaN\n",
       "Barrel-Aged Abraxas                   0.71231           0.8979"
      ]
     },
     "execution_count": 56,
     "metadata": {},
     "output_type": "execute_result"
    }
   ],
   "source": [
    "beer_by_ratings = total_average_ratings.head(3).index\n",
    "average_scores.loc[beer_by_ratings]"
   ]
  }
 ],
 "metadata": {
  "kernelspec": {
   "display_name": "Python 3",
   "language": "python",
   "name": "python3"
  },
  "language_info": {
   "codemirror_mode": {
    "name": "ipython",
    "version": 3
   },
   "file_extension": ".py",
   "mimetype": "text/x-python",
   "name": "python",
   "nbconvert_exporter": "python",
   "pygments_lexer": "ipython3",
   "version": "3.7.3"
  }
 },
 "nbformat": 4,
 "nbformat_minor": 2
}
